{
 "cells": [
  {
   "cell_type": "markdown",
   "metadata": {},
   "source": [
    "# What is the True Normal Human Body Temperature? \n",
    "\n",
    "#### Background\n",
    "\n",
    "The mean normal body temperature was held to be 37$^{\\circ}$C or 98.6$^{\\circ}$F for more than 120 years since it was first conceptualized and reported by Carl Wunderlich in a famous 1868 book. But, is this value statistically correct?"
   ]
  },
  {
   "cell_type": "markdown",
   "metadata": {},
   "source": [
    "<h3>Exercises</h3>\n",
    "\n",
    "<p>In this exercise, you will analyze a dataset of human body temperatures and employ the concepts of hypothesis testing, confidence intervals, and statistical significance.</p>\n",
    "\n",
    "<p>Answer the following questions <b>in this notebook below and submit to your Github account</b>.</p> \n",
    "\n",
    "<ol>\n",
    "<li>  Is the distribution of body temperatures normal? \n",
    "    <ul>\n",
    "    <li> Although this is not a requirement for the Central Limit Theorem to hold (read the introduction on Wikipedia's page about the CLT carefully: https://en.wikipedia.org/wiki/Central_limit_theorem), it gives us some peace of mind that the population may also be normally distributed if we assume that this sample is representative of the population.\n",
    "    <li> Think about the way you're going to check for the normality of the distribution. Graphical methods are usually used first, but there are also other ways: https://en.wikipedia.org/wiki/Normality_test\n",
    "    </ul>\n",
    "<li>  Is the sample size large? Are the observations independent?\n",
    "    <ul>\n",
    "    <li> Remember that this is a condition for the Central Limit Theorem, and hence the statistical tests we are using, to apply.\n",
    "    </ul>\n",
    "<li>  Is the true population mean really 98.6 degrees F?\n",
    "    <ul>\n",
    "    <li> First, try a bootstrap hypothesis test.\n",
    "    <li> Now, let's try frequentist statistical testing. Would you use a one-sample or two-sample test? Why?\n",
    "    <li> In this situation, is it appropriate to use the $t$ or $z$ statistic? \n",
    "    <li> Now try using the other test. How is the result be different? Why?\n",
    "    </ul>\n",
    "<li>  Draw a small sample of size 10 from the data and repeat both frequentist tests. \n",
    "    <ul>\n",
    "    <li> Which one is the correct one to use? \n",
    "    <li> What do you notice? What does this tell you about the difference in application of the $t$ and $z$ statistic?\n",
    "    </ul>\n",
    "<li>  At what temperature should we consider someone's temperature to be \"abnormal\"?\n",
    "    <ul>\n",
    "    <li> As in the previous example, try calculating everything using the boostrap approach, as well as the frequentist approach.\n",
    "    <li> Start by computing the margin of error and confidence interval. When calculating the confidence interval, keep in mind that you should use the appropriate formula for one draw, and not N draws.\n",
    "    </ul>\n",
    "<li>  Is there a significant difference between males and females in normal temperature?\n",
    "    <ul>\n",
    "    <li> What testing approach did you use and why?\n",
    "    <li> Write a story with your conclusion in the context of the original problem.\n",
    "    </ul>\n",
    "</ol>\n",
    "\n",
    "You can include written notes in notebook cells using Markdown: \n",
    "   - In the control panel at the top, choose Cell > Cell Type > Markdown\n",
    "   - Markdown syntax: http://nestacms.com/docs/creating-content/markdown-cheat-sheet\n",
    "\n",
    "#### Resources\n",
    "\n",
    "+ Information and data sources: http://www.amstat.org/publications/jse/datasets/normtemp.txt, http://www.amstat.org/publications/jse/jse_data_archive.htm\n",
    "+ Markdown syntax: http://nestacms.com/docs/creating-content/markdown-cheat-sheet\n",
    "\n",
    "****"
   ]
  },
  {
   "cell_type": "code",
   "execution_count": 1,
   "metadata": {
    "collapsed": true
   },
   "outputs": [],
   "source": [
    "import pandas as pd\n",
    "import numpy as np\n",
    "from numpy import random\n",
    "from matplotlib import pyplot as plt\n",
    "\n",
    "#np.random.seed(99)\n",
    "df = pd.read_csv('data/human_body_temperature.csv')\n",
    "\n",
    "data_temp = df['temperature']"
   ]
  },
  {
   "cell_type": "code",
   "execution_count": 2,
   "metadata": {},
   "outputs": [
    {
     "name": "stdout",
     "output_type": "stream",
     "text": [
      "   temperature gender  heart_rate\n",
      "0         99.3      F        68.0\n",
      "1         98.4      F        81.0\n",
      "2         97.8      M        73.0\n",
      "3         99.2      F        66.0\n",
      "4         98.0      F        73.0\n",
      "<class 'pandas.core.frame.DataFrame'>\n",
      "RangeIndex: 130 entries, 0 to 129\n",
      "Data columns (total 3 columns):\n",
      "temperature    130 non-null float64\n",
      "gender         130 non-null object\n",
      "heart_rate     130 non-null float64\n",
      "dtypes: float64(2), object(1)\n",
      "memory usage: 3.1+ KB\n",
      "None\n",
      "       temperature  heart_rate\n",
      "count   130.000000  130.000000\n",
      "mean     98.249231   73.761538\n",
      "std       0.733183    7.062077\n",
      "min      96.300000   57.000000\n",
      "25%      97.800000   69.000000\n",
      "50%      98.300000   74.000000\n",
      "75%      98.700000   79.000000\n",
      "max     100.800000   89.000000\n"
     ]
    }
   ],
   "source": [
    "# Your work here.\n",
    "print(df.head())\n",
    "print(df.info())\n",
    "print(df.describe())"
   ]
  },
  {
   "cell_type": "markdown",
   "metadata": {},
   "source": [
    "# Question 1: \n",
    "\n",
    "To cehck for normality of the sample distribution, we will plot the CDF of the sample distribution and compare it to a CDF of a normal distribution with\n",
    "mean and varaince of the sample distribution"
   ]
  },
  {
   "cell_type": "code",
   "execution_count": 3,
   "metadata": {},
   "outputs": [
    {
     "data": {
      "image/png": "[encoded data removed]",
      "text/plain": [
       "<matplotlib.figure.Figure at 0x1084185c0>"
      ]
     },
     "metadata": {},
     "output_type": "display_data"
    }
   ],
   "source": [
    "# Question 1: Testing for normality of the distribution of body temperatures by EDA\n",
    "\n",
    "#Define ECDF (Empirical Cumulative Density Function)\n",
    "def ecdf(data):\n",
    "    \n",
    "    n = len(data)\n",
    "    \n",
    "    x = np.sort(data)\n",
    "    y = np.arange(1, n+1)/n\n",
    "    \n",
    "    return x, y\n",
    "\n",
    "#Compute mean and standard deviation of body temperature\n",
    "mu = np.mean(df['temperature'])\n",
    "sigma = np.std(df['temperature'])\n",
    "\n",
    "#Take a random sample out of a normal distribution with mean mu and standard deviation sigma\n",
    "sample_nor_rand = np.random.normal(mu, sigma, 10000)\n",
    "\n",
    "#Compute ECDF of normal sample and data\n",
    "x_data, y_data = ecdf(df['temperature'])\n",
    "x_normal_sample, y_normal_sample = ecdf(sample_nor_rand)\n",
    "\n",
    "_ = plt.plot(x_data, y_data, marker='.', linestyle='none')\n",
    "_ = plt.plot(x_normal_sample, y_normal_sample, marker='.', linestyle='none')\n",
    "\n",
    "plt.margins(0.02)\n",
    "\n",
    "plt.legend(('Temperature', 'Normal Sample'), loc='lower right')\n",
    "\n",
    "plt.show()"
   ]
  },
  {
   "cell_type": "markdown",
   "metadata": {},
   "source": [
    "From the plot above, it is clear that the sample distribution is normal. Assuming that the sample distribution is\n",
    "representative of the parent population, we can assume the parent population is normal."
   ]
  },
  {
   "cell_type": "markdown",
   "metadata": {
    "collapsed": true
   },
   "source": [
    "# Question 2\n",
    "\n",
    "Yes, the sample is larger, since sample size > 30. Yes, the observations are independent, which is a necessary \n",
    "condition for the Central Limit Theorem to hold."
   ]
  },
  {
   "cell_type": "markdown",
   "metadata": {},
   "source": [
    "# Question 3:\n",
    "\n",
    "We will test if the mean population is 98.6, using both the bootstrap and frequentist approach."
   ]
  },
  {
   "cell_type": "code",
   "execution_count": 4,
   "metadata": {},
   "outputs": [
    {
     "name": "stdout",
     "output_type": "stream",
     "text": [
      "p value: 0.0000\n"
     ]
    }
   ],
   "source": [
    "# Question 3: Testing if the population mean is 98.6\n",
    "# Bootstrap Hypothesis Test\n",
    "\n",
    "# Define function to draw bootstrap replicates\n",
    "def draw_bs_reps(data, func, size=1):\n",
    "\n",
    "    #Initialize empyty array of length size\n",
    "    bs_replicates = np.empty(size)\n",
    "    \n",
    "    #Generate replicates\n",
    "    for i in range(size):\n",
    "        bs_replicates[i] = func(np.random.choice(data, 10000))\n",
    "        \n",
    "    return bs_replicates\n",
    "        \n",
    "#Calculate the mean, if null is true    \n",
    "data_null = data_temp - np.mean(df['temperature']) + 98.6 \n",
    "\n",
    "# Take bootstrap samples from data_null\n",
    "bs_replicates = draw_bs_reps(data_null, np.mean, 100)\n",
    "\n",
    "# Compute the fraction of bs_replicates that are greater than or equal to the actual sample mean \n",
    "#when the null hypothesis is true\n",
    "p = np.sum(bs_replicates <= np.mean(data_temp)) / 10000\n",
    "\n",
    "print('p value: {:.4f}'.format(p))\n",
    "\n"
   ]
  },
  {
   "cell_type": "markdown",
   "metadata": {},
   "source": [
    "The p-value is very small, p < 0.01, so we reject the null hypothesis that the mean is 98.6 at 1% level of significance"
   ]
  },
  {
   "cell_type": "markdown",
   "metadata": {},
   "source": [
    "Frequentist Testing:\n",
    "\n",
    "We will use a one-sample test here, since we are testing if the mean body temperature = 98.6, and not for equality of\n",
    "means of two populations.\n",
    "We will use the z-test here because the sample size = 130 > 30. Since sample size is large, we can apply the Central Limit Theorem and use the z-test for testing the null hypothesis that the mean body temperature is 98.6."
   ]
  },
  {
   "cell_type": "code",
   "execution_count": 5,
   "metadata": {},
   "outputs": [
    {
     "name": "stdout",
     "output_type": "stream",
     "text": [
      "z = -5.4759\n"
     ]
    }
   ],
   "source": [
    "#Compute the z test statistic under the null hypothesis Ho: mean mu = 98.6\n",
    "\n",
    "std_mean = np.std(data_temp) / np.sqrt(len(data_temp))\n",
    "z = (np.mean(data_temp) - 98.6) / std_mean\n",
    "\n",
    "\n",
    "print('z = {:.4f}'.format(z))"
   ]
  },
  {
   "cell_type": "markdown",
   "metadata": {
    "collapsed": true
   },
   "source": [
    "z = -5.48 < -1.65 = Pr(SNV <= -2.33). SNV is the distribution of a standard normal variable (mean = 0, variance =1). \n",
    "Altrenatively, the p value is Pr(z < -5.48), which is very close to zero. If the null hypothesis is true, then the \n",
    "p-value is the probability of obtaining a sample that is at least as extreme as what is observed. Since p-value is less than 0.01%, we reject the null hypothesis at level 1% of significance."
   ]
  },
  {
   "cell_type": "code",
   "execution_count": 6,
   "metadata": {},
   "outputs": [
    {
     "name": "stdout",
     "output_type": "stream",
     "text": [
      "t = -5.4759\n"
     ]
    }
   ],
   "source": [
    "# Compute the t test statistic under the null hypothesis that mean = 98.6\n",
    "\n",
    "t = (np.mean(data_temp) - 98.6) / std_mean\n",
    "print('t = {:.4f}'.format(t))\n"
   ]
  },
  {
   "cell_type": "markdown",
   "metadata": {},
   "source": [
    "This test statistic has a t distribution with (n-1) degrees of freedom, where n = 130 is the sample size. For large n,\n",
    "t distribution is the same as normal. In this case, because n is large the two tests are identical. "
   ]
  },
  {
   "cell_type": "markdown",
   "metadata": {},
   "source": [
    "# Question 4\n",
    "\n",
    "For sample size < 30, note that tests are only valid if the population is normal. If the popolation standard deviation is known, the z-test can be used. If the population standard deviation is unknown, we will need to estimate it by sample standard deviation. In this case, t-test is the appropriate test to use. Note that, in both cases, becasue sample size is small, CLT cannot be applied and so, the distribution of the population has to be normal. If normality of the population distribution fails, both z-test and t-test are invalid."
   ]
  },
  {
   "cell_type": "code",
   "execution_count": 7,
   "metadata": {},
   "outputs": [
    {
     "name": "stdout",
     "output_type": "stream",
     "text": [
      "t = -6.4006\n"
     ]
    }
   ],
   "source": [
    "#For sample size < 30, note that t-tests are only valid if the population is normal.\n",
    "sample_size_10 =  np.random.choice(data_temp, 10)\n",
    "\n",
    "#Compute z and t test statistics\n",
    "\n",
    "std_mean_10 = np.std(sample_size_10) / np.sqrt(len(sample_size_10))\n",
    "t = z = (np.mean(sample_size_10) - 98.6) / std_mean\n",
    "\n",
    "print('t = {:.4f}'.format(t))"
   ]
  },
  {
   "cell_type": "markdown",
   "metadata": {},
   "source": [
    "For  the t-test, we reject the null hypothesis if Pr(t < -2.82). We cannot compute the z-test statistic here, becasue the population standard deviation is unknown and the sample size = 10 < 30."
   ]
  },
  {
   "cell_type": "markdown",
   "metadata": {},
   "source": [
    "# Question 5\n",
    "\n",
    "We need to compute confidence intervals for the population mean body temperature by both the bootsrap and frequentist\n",
    "methods. We will be using 95% confidence intervals."
   ]
  },
  {
   "cell_type": "code",
   "execution_count": 8,
   "metadata": {},
   "outputs": [
    {
     "name": "stdout",
     "output_type": "stream",
     "text": [
      "95% Confidence Interval by Bootstrap: [98.2358, 98.2643]\n",
      "95% Confidence Interval by Frequentist: [98.1237, 98.3748]\n"
     ]
    }
   ],
   "source": [
    "#Draw bootstrap replicates of the mean\n",
    "bs_replicates = draw_bs_reps(data_temp, np.mean, 1000)\n",
    "\n",
    "#Compute 95% Confidence Interval of the mean\n",
    "conf_int_95 = np.percentile(bs_replicates, [2.5, 97.5])\n",
    "\n",
    "print('95% Confidence Interval by Bootstrap: [{0:.4f}, {1:.4f}]'.format(conf_int_95[0], conf_int_95[1]))\n",
    "\n",
    "#Frequentist Approach\n",
    "\n",
    "std_mean = np.std(data_temp) / np.sqrt(len(data_temp))\n",
    "\n",
    "CI_low = np.mean(data_temp) - (1.96 * std_mean)\n",
    "CI_high = np.mean(data_temp) + 1.96 * std_mean\n",
    "\n",
    "print('95% Confidence Interval by Frequentist: [{:.4f}, {:.4f}]' .format(CI_low, CI_high))\n"
   ]
  },
  {
   "cell_type": "markdown",
   "metadata": {
    "collapsed": true
   },
   "source": [
    "# Question 6\n",
    "\n",
    "To test if there is a difference in mean body temperature for males and females, we will use two-sample bootsrap test. \n",
    "If we had to test for the differnce in overall distributions, that is, test for both means and standard deviations,\n",
    "we would need to do the two-sample permutation test.\n",
    "We could also also use the frequentist hypothesis test. Sample size > 30, so applying CLT, we can use the z-test to test the null hypothesis that the mean body temperature of males and females are the same."
   ]
  },
  {
   "cell_type": "code",
   "execution_count": 9,
   "metadata": {},
   "outputs": [
    {
     "name": "stdout",
     "output_type": "stream",
     "text": [
      "Population mean: 98.2492\n",
      "p value: 0.0000\n"
     ]
    }
   ],
   "source": [
    "df_m = df[df['gender'] == 'M']\n",
    "df_f = df[df['gender'] == 'F']\n",
    "\n",
    "df_temp_m = df_m['temperature']\n",
    "df_temp_f = df_f['temperature']\n",
    "\n",
    "count_f = len(df_temp_f)\n",
    "count_m = len(df_temp_m)\n",
    "\n",
    "# Overall mean was computed in Question 2, mu \n",
    "\n",
    "print(\"Population mean: {:.4f}\".format(mu))\n",
    "\n",
    "#Compute mean body temperatures of males and females\n",
    "mean_f = np.mean(df_temp_f)\n",
    "mean_m = np.mean(df_temp_m)\n",
    "\n",
    "\n",
    "# Generate adjusted arrays\n",
    "df_adj_f = df_temp_f - mean_f + mu\n",
    "df_adj_m = df_temp_m - mean_m + mu\n",
    "\n",
    "\n",
    "# Compute 10,000 bootstrap replicates from adjusted arrays\n",
    "bs_replicates_f = draw_bs_reps(df_adj_f, np.mean, 10000)\n",
    "bs_replicates_m = draw_bs_reps(df_adj_m, np.mean, 10000)\n",
    "\n",
    "# Compute p-value \n",
    "p = np.sum(bs_replicates_f - bs_replicates_m >= mean_f - mean_m) / len(bs_replicates_f)\n",
    "\n",
    "print(\"p value: {:.4f}\".format(p))\n",
    "      "
   ]
  },
  {
   "cell_type": "markdown",
   "metadata": {},
   "source": [
    "The p-value = 0.00 < 0.01, therefore we reject the null hypothesis that male and female body temperature are the same at 1% level of significance. We can also plot the ECDF of the male and female body temperature. The plot indicates that mean body temperature of females is higher than males."
   ]
  },
  {
   "cell_type": "code",
   "execution_count": 10,
   "metadata": {},
   "outputs": [
    {
     "data": {
      "image/png": "[encoded data removed]",
      "text/plain": [
       "<matplotlib.figure.Figure at 0x104cd9630>"
      ]
     },
     "metadata": {},
     "output_type": "display_data"
    }
   ],
   "source": [
    "#Define ECDF (Empirical Cumulative Density Function)\n",
    "def ecdf(data):\n",
    "    \n",
    "    n = len(data)\n",
    "    \n",
    "    x = np.sort(data)\n",
    "    y = np.arange(1, n+1)/n\n",
    "    \n",
    "    return x, y\n",
    "\n",
    "#Compute ECDF of male and female data\n",
    "x_data_m, y_data_m = ecdf(df_temp_m)\n",
    "x_data_f, y_data_f = ecdf(df_temp_f)\n",
    "\n",
    "_ = plt.plot(x_data_m, y_data_m, marker='.', linestyle='none')\n",
    "_ = plt.plot(x_data_f, y_data_f, marker='.', linestyle='none')\n",
    "\n",
    "plt.margins(0.02)\n",
    "\n",
    "plt.legend(('Males', 'Females'), loc='lower right')\n",
    "\n",
    "plt.show()"
   ]
  },
  {
   "cell_type": "markdown",
   "metadata": {},
   "source": [
    "From the analysis above, it is clear that females have higher body temperatures than males. So instead of testing if the mean temperature is 98.6, we should statistically test the two means separately."
   ]
  }
 ],
 "metadata": {
  "celltoolbar": "Raw Cell Format",
  "kernelspec": {
   "display_name": "Python 3",
   "language": "python",
   "name": "python3"
  },
  "language_info": {
   "codemirror_mode": {
    "name": "ipython",
    "version": 3
   },
   "file_extension": ".py",
   "mimetype": "text/x-python",
   "name": "python",
   "nbconvert_exporter": "python",
   "pygments_lexer": "ipython3",
   "version": "3.6.3"
  }
 },
 "nbformat": 4,
 "nbformat_minor": 1
}
