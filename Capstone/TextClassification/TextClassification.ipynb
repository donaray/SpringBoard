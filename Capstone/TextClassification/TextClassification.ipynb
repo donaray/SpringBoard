{
 "cells": [
  {
   "cell_type": "code",
   "execution_count": 63,
   "metadata": {},
   "outputs": [],
   "source": [
    "#Import Libraries\n",
    "import pandas as pd\n",
    "import numpy as np\n",
    "import matplotlib.pyplot as plt\n",
    "import seaborn as sns\n",
    "\n",
    "from datetime import datetime\n",
    "from collections import defaultdict, Counter\n",
    "from IPython.display import display\n",
    "\n",
    "from sklearn.model_selection import train_test_split\n",
    "from sklearn import preprocessing\n",
    "from sklearn import tree, linear_model, svm\n",
    "from sklearn.neighbors import KNeighborsClassifier\n",
    "from sklearn.naive_bayes import GaussianNB, MultinomialNB\n",
    "from sklearn.ensemble import RandomForestClassifier\n",
    "from sklearn.multiclass import OneVsRestClassifier\n",
    "from sklearn.metrics import r2_score, accuracy_score, fbeta_score, roc_auc_score\n",
    "from sklearn.model_selection import cross_val_score\n",
    "#from sklearn.ensemble import AdaBoostClassifier\n",
    "\n",
    "from sklearn.datasets import make_classification\n",
    "from sklearn.metrics import classification_report\n",
    "\n",
    "\n",
    "from sklearn.metrics import classification_report, confusion_matrix, accuracy_score\n",
    "from imblearn.over_sampling import RandomOverSampler\n",
    "\n",
    "#Import 'GridSearchCV', 'make_scorer', and any other necessary libraries\n",
    "from sklearn import grid_search\n",
    "from sklearn.metrics import fbeta_score, make_scorer\n",
    "from sklearn.cross_validation import train_test_split, ShuffleSplit\n",
    "\n",
    "from sklearn.feature_extraction.text import CountVectorizer\n",
    "from sklearn.feature_extraction.text import TfidfVectorizer, HashingVectorizer\n",
    "\n",
    "from sklearn.feature_extraction.text import TfidfTransformer\n",
    "from sklearn.linear_model import SGDClassifier\n",
    "from sklearn.model_selection import GridSearchCV\n",
    "from sklearn.pipeline import Pipeline\n",
    "\n",
    "from textblob import TextBlob\n",
    "from textblob import Word\n",
    "\n",
    "pd.options.display.max_colwidth = 500\n",
    "#from nltk.autocorrect import spell"
   ]
  },
  {
   "cell_type": "code",
   "execution_count": 52,
   "metadata": {
    "collapsed": true
   },
   "outputs": [],
   "source": [
    "#Read the dataset, \n",
    "df_all = pd.read_csv('/Users/dona/Documents/DonaRay/SpringBoard/git/SpringBoard/Capstone/data/Clothing.csv')\n",
    "\n",
    "# Drop rows with missing data\n",
    "df_nonmissing = df_all[~df_all['Review Text'].isnull()]\n",
    "\n",
    "#df_sub = df_nonmissing[['Rating', 'Department Name', 'Division Name', 'Class Name']]\n",
    "\n",
    "df_nonmissing.columns = ['Index', 'ClothingID', 'Age', 'Title', 'ReviewText', 'Rating', 'RecommendedIND', \n",
    "                         'PositiveFeedbackCount','DivisionName', 'DepartmentName', 'ClassName']"
   ]
  },
  {
   "cell_type": "code",
   "execution_count": 53,
   "metadata": {
    "collapsed": true
   },
   "outputs": [],
   "source": [
    "def Print_Stats(df, num):\n",
    "    #Prints basic summary statistics of a pandas dataframe    \n",
    "\n",
    "    print(df.head(num))\n",
    "    print(df.shape)\n",
    "    print(df.info())\n",
    "    print(df.columns)\n",
    "    print(df.describe())\n",
    "    \n",
    "def Print_Frequency(df, bins = []):\n",
    "    #Prints frequency distribution\n",
    "    \n",
    "    col_list = list(df.columns.values)\n",
    "    \n",
    "    if bins == []:\n",
    "        for col in col_list:\n",
    "            print(df[col].value_counts().sort_index())\n",
    "    else:\n",
    "        for col in col_list:\n",
    "            print(pd.cut(df[col],bins).value_counts().sort_index())"
   ]
  },
  {
   "cell_type": "code",
   "execution_count": 4,
   "metadata": {},
   "outputs": [
    {
     "name": "stdout",
     "output_type": "stream",
     "text": [
      "   Index  ClothingID  Age                    Title  \\\n",
      "0      0         767   33                      NaN   \n",
      "1      1        1080   34                      NaN   \n",
      "2      2        1077   60  Some major design flaws   \n",
      "3      3        1049   50         My favorite buy!   \n",
      "4      4         847   47         Flattering shirt   \n",
      "\n",
      "                                          ReviewText  Rating  RecommendedIND  \\\n",
      "0  Absolutely wonderful - silky and sexy and comf...       4               1   \n",
      "1  Love this dress!  it's sooo pretty.  i happene...       5               1   \n",
      "2  I had such high hopes for this dress and reall...       3               0   \n",
      "3  I love, love, love this jumpsuit. it's fun, fl...       5               1   \n",
      "4  This shirt is very flattering to all due to th...       5               1   \n",
      "\n",
      "   PositiveFeedbackCount    DivisionName DepartmentName  ClassName  \n",
      "0                      0       Initmates       Intimate  Intimates  \n",
      "1                      4         General        Dresses    Dresses  \n",
      "2                      0         General        Dresses    Dresses  \n",
      "3                      0  General Petite        Bottoms      Pants  \n",
      "4                      6         General           Tops    Blouses  \n",
      "(22641, 11)\n",
      "<class 'pandas.core.frame.DataFrame'>\n",
      "Int64Index: 22641 entries, 0 to 23485\n",
      "Data columns (total 11 columns):\n",
      "Index                    22641 non-null int64\n",
      "ClothingID               22641 non-null int64\n",
      "Age                      22641 non-null int64\n",
      "Title                    19675 non-null object\n",
      "ReviewText               22641 non-null object\n",
      "Rating                   22641 non-null int64\n",
      "RecommendedIND           22641 non-null int64\n",
      "PositiveFeedbackCount    22641 non-null int64\n",
      "DivisionName             22628 non-null object\n",
      "DepartmentName           22628 non-null object\n",
      "ClassName                22628 non-null object\n",
      "dtypes: int64(6), object(5)\n",
      "memory usage: 2.1+ MB\n",
      "None\n",
      "Index(['Index', 'ClothingID', 'Age', 'Title', 'ReviewText', 'Rating',\n",
      "       'RecommendedIND', 'PositiveFeedbackCount', 'DivisionName',\n",
      "       'DepartmentName', 'ClassName'],\n",
      "      dtype='object')\n",
      "              Index    ClothingID           Age        Rating  RecommendedIND  \\\n",
      "count  22641.000000  22641.000000  22641.000000  22641.000000    22641.000000   \n",
      "mean   11740.849035    919.332362     43.280376      4.183561        0.818868   \n",
      "std     6781.957509    202.266874     12.326980      1.115762        0.385136   \n",
      "min        0.000000      1.000000     18.000000      1.000000        0.000000   \n",
      "25%     5872.000000    861.000000     34.000000      4.000000        1.000000   \n",
      "50%    11733.000000    936.000000     41.000000      5.000000        1.000000   \n",
      "75%    17621.000000   1078.000000     52.000000      5.000000        1.000000   \n",
      "max    23485.000000   1205.000000     99.000000      5.000000        1.000000   \n",
      "\n",
      "       PositiveFeedbackCount  \n",
      "count           22641.000000  \n",
      "mean                2.630582  \n",
      "std                 5.786164  \n",
      "min                 0.000000  \n",
      "25%                 0.000000  \n",
      "50%                 1.000000  \n",
      "75%                 3.000000  \n",
      "max               122.000000  \n"
     ]
    }
   ],
   "source": [
    "Print_Stats(df_nonmissing, 5)\n",
    "#Print_Frequency(df_sub)"
   ]
  },
  {
   "cell_type": "code",
   "execution_count": 5,
   "metadata": {},
   "outputs": [
    {
     "name": "stdout",
     "output_type": "stream",
     "text": [
      "0      10331\n",
      "1       4043\n",
      "2       2193\n",
      "3       1433\n",
      "4        922\n",
      "5        673\n",
      "6        525\n",
      "7        374\n",
      "8        319\n",
      "9        261\n",
      "10       225\n",
      "11       178\n",
      "12       146\n",
      "13       102\n",
      "14       121\n",
      "15        94\n",
      "16        74\n",
      "17        81\n",
      "18        62\n",
      "19        54\n",
      "20        40\n",
      "21        30\n",
      "22        29\n",
      "23        31\n",
      "24        21\n",
      "25        25\n",
      "26        23\n",
      "27        20\n",
      "28        24\n",
      "29        15\n",
      "       ...  \n",
      "52         1\n",
      "53         2\n",
      "54         1\n",
      "55         2\n",
      "56         1\n",
      "57         3\n",
      "58         2\n",
      "59         1\n",
      "61         1\n",
      "64         1\n",
      "65         4\n",
      "66         1\n",
      "68         1\n",
      "69         1\n",
      "71         1\n",
      "77         1\n",
      "78         1\n",
      "81         4\n",
      "82         1\n",
      "84         1\n",
      "87         1\n",
      "89         1\n",
      "93         1\n",
      "94         1\n",
      "95         1\n",
      "98         1\n",
      "99         1\n",
      "108        1\n",
      "117        1\n",
      "122        1\n",
      "Name: PositiveFeedbackCount, Length: 82, dtype: int64\n"
     ]
    }
   ],
   "source": [
    "Print_Frequency(df_nonmissing[['PositiveFeedbackCount']])"
   ]
  },
  {
   "cell_type": "code",
   "execution_count": 54,
   "metadata": {},
   "outputs": [
    {
     "name": "stdout",
     "output_type": "stream",
     "text": [
      "1      821\n",
      "2     1549\n",
      "3     2823\n",
      "4     4908\n",
      "5    12540\n",
      "Name: Rating, dtype: int64\n"
     ]
    },
    {
     "data": {
      "image/png": "[encoded data removed]",
      "text/plain": [
       "<matplotlib.figure.Figure at 0x11627e828>"
      ]
     },
     "metadata": {},
     "output_type": "display_data"
    }
   ],
   "source": [
    "# Bar Chart of Ratings\n",
    "x = df_nonmissing['Rating'].value_counts().sort_index()\n",
    "\n",
    "print(x)\n",
    "\n",
    "n_groups = 5\n",
    "index = np.arange(n_groups)\n",
    "bar_width = 0.35\n",
    "\n",
    "\n",
    "plt.bar(index, x, bar_width, label='Rating', alpha =0.5, align='center', color='green')\n",
    "\n",
    "plt.xticks(index + bar_width/2, ('1', '2', '3', '4', '5'))\n",
    "plt.title('Rating Count')\n",
    "plt.xlabel('Rating')\n",
    "plt.ylabel('Total')\n",
    "plt.tight_layout()\n",
    "\n",
    "#fig_rating = plt.gcf()\n",
    "plt.show()\n",
    "\n",
    "#fig_rating.savefig('Rating.jpeg', bbox_inches='tight')\n"
   ]
  },
  {
   "cell_type": "code",
   "execution_count": 73,
   "metadata": {},
   "outputs": [
    {
     "name": "stdout",
     "output_type": "stream",
     "text": [
      "Rating\n",
      "1    3.548112\n",
      "2    3.360232\n",
      "3    3.198725\n",
      "4    2.488386\n",
      "5    2.408134\n",
      "Name: PositiveFeedbackCount, dtype: float64\n",
      "Rating\n",
      "1     2913\n",
      "2     5205\n",
      "3     9030\n",
      "4    12213\n",
      "5    30198\n",
      "Name: PositiveFeedbackCount, dtype: int64\n"
     ]
    },
    {
     "data": {
      "image/png": "[encoded data removed]",
      "text/plain": [
       "<matplotlib.figure.Figure at 0x118799208>"
      ]
     },
     "metadata": {},
     "output_type": "display_data"
    }
   ],
   "source": [
    "# Average Positive Count by Rating\n",
    "grp = df_nonmissing.groupby('Rating')\n",
    "means = grp.PositiveFeedbackCount.mean()\n",
    "total = grp.PositiveFeedbackCount.sum()\n",
    "\n",
    "n_groups = 5\n",
    "index = np.arange(n_groups)\n",
    "bar_width = 0.35\n",
    "\n",
    "print(means)\n",
    "print(total)\n",
    "\n",
    "plt.bar(index, means, bar_width, label='Rating', alpha =0.5, align='center', color='Teal')\n",
    "\n",
    "plt.xticks(index + bar_width/2, ('1', '2', '3', '4', '5'))\n",
    "plt.title('Average Positive Count by Rating')\n",
    "plt.xlabel('Rating')\n",
    "plt.ylabel('Average Positive Count')\n",
    "plt.tight_layout()\n",
    "\n",
    "#fig_rating = plt.gcf()\n",
    "plt.show()\n",
    "\n",
    "#fig_rating.savefig('Rating.jpeg', bbox_inches='tight')\n"
   ]
  },
  {
   "cell_type": "markdown",
   "metadata": {},
   "source": [
    "# total = grp.PositiveFeedbackCount.sum()\n",
    "\n",
    "n_groups = 5\n",
    "index = np.arange(n_groups)\n",
    "bar_width = 0.35\n",
    "\n",
    "\n",
    "plt.bar(index, total, bar_width, label='Rating', alpha =0.5, align='center', color='blue')\n",
    "\n",
    "plt.xticks(index + bar_width/2, ('1', '2', '3', '4', '5'))\n",
    "plt.title('Total Positive Count by Rating')\n",
    "plt.xlabel('Rating')\n",
    "plt.ylabel('Total Positive Count')\n",
    "plt.tight_layout()\n",
    "\n",
    "#fig_rating = plt.gcf()\n",
    "plt.show()\n",
    "\n",
    "#fig_rating.savefig('Rating.jpeg', bbox_inches='tight')\n"
   ]
  },
  {
   "cell_type": "code",
   "execution_count": 9,
   "metadata": {},
   "outputs": [
    {
     "name": "stdout",
     "output_type": "stream",
     "text": [
      "General           13365\n",
      "General Petite     7837\n",
      "Initmates          1426\n",
      "Name: DivisionName, dtype: int64\n",
      "\n",
      "Tops        10048\n",
      "Dresses      6145\n",
      "Bottoms      3662\n",
      "Intimate     1653\n",
      "Jackets      1002\n",
      "Trend         118\n",
      "Name: DepartmentName, dtype: int64\n",
      "\n",
      "Dresses           6145\n",
      "Knits             4626\n",
      "Blouses           2983\n",
      "Sweaters          1380\n",
      "Pants             1350\n",
      "Jeans             1104\n",
      "Fine gauge        1059\n",
      "Skirts             903\n",
      "Jackets            683\n",
      "Lounge             669\n",
      "Swim               332\n",
      "Outerwear          319\n",
      "Shorts             304\n",
      "Sleep              214\n",
      "Legwear            158\n",
      "Intimates          147\n",
      "Layering           132\n",
      "Trend              118\n",
      "Casual bottoms       1\n",
      "Chemises             1\n",
      "Name: ClassName, dtype: int64\n"
     ]
    }
   ],
   "source": [
    "x = df_nonmissing['DivisionName'].value_counts()\n",
    "print(x)\n",
    "print('')\n",
    "\n",
    "x = df_nonmissing['DepartmentName'].value_counts()\n",
    "print(x)\n",
    "print('')\n",
    "\n",
    "x = df_nonmissing['ClassName'].value_counts()\n",
    "print(x)"
   ]
  },
  {
   "cell_type": "code",
   "execution_count": 10,
   "metadata": {},
   "outputs": [
    {
     "name": "stdout",
     "output_type": "stream",
     "text": [
      "DivisionName   General  General Petite  Initmates\n",
      "Rating                                           \n",
      "1             0.035840        0.037132   0.035764\n",
      "2             0.071081        0.066862   0.052595\n",
      "3             0.130191        0.118540   0.107994\n",
      "4             0.217733        0.217175   0.207574\n",
      "5             0.545155        0.560291   0.596073\n"
     ]
    },
    {
     "data": {
      "image/png": "[encoded data removed]",
      "text/plain": [
       "<matplotlib.figure.Figure at 0x114e237f0>"
      ]
     },
     "metadata": {},
     "output_type": "display_data"
    }
   ],
   "source": [
    "Rating_Division_table = pd.crosstab(df_nonmissing.Rating, df_nonmissing.DivisionName).apply(lambda r: r/r.sum(), axis=0)\n",
    "Dept = pd.crosstab(df_nonmissing.Rating, df_nonmissing.DepartmentName)\n",
    "print(Rating_Division_table)\n",
    "\n",
    "sns.heatmap(Rating_Division_table, cmap='RdYlGn_r', linewidths=0.5, annot=True)\n",
    "\n",
    "\n",
    "plt.show()\n"
   ]
  },
  {
   "cell_type": "code",
   "execution_count": 11,
   "metadata": {},
   "outputs": [
    {
     "data": {
      "image/png": "[encoded data removed]",
      "text/plain": [
       "<matplotlib.figure.Figure at 0x115160710>"
      ]
     },
     "metadata": {},
     "output_type": "display_data"
    }
   ],
   "source": [
    "Rating_Dept_table = pd.crosstab(df_nonmissing.Rating, df_nonmissing.DepartmentName).apply(lambda r: r/r.sum(), axis=0)\n",
    "\n",
    "sns.heatmap(Rating_Dept_table, cmap='RdYlGn_r', linewidths=0.5, annot=True)\n",
    "\n",
    "plt.show()\n"
   ]
  },
  {
   "cell_type": "code",
   "execution_count": 12,
   "metadata": {},
   "outputs": [
    {
     "name": "stdout",
     "output_type": "stream",
     "text": [
      "DivisionName\n",
      "General           2.672428\n",
      "General Petite    2.695547\n",
      "Initmates         1.900421\n",
      "Name: PositiveFeedbackCount, dtype: float64\n"
     ]
    },
    {
     "data": {
      "image/png": "[encoded data removed]",
      "text/plain": [
       "<matplotlib.figure.Figure at 0x114e4c0b8>"
      ]
     },
     "metadata": {},
     "output_type": "display_data"
    }
   ],
   "source": [
    "# Number of Positive Counts by Division\n",
    "\n",
    "grp = df_nonmissing.groupby('DivisionName')\n",
    "means = grp.PositiveFeedbackCount.mean()\n",
    "total = grp.PositiveFeedbackCount.sum()\n",
    "\n",
    "print(means)\n",
    "n_groups = 3\n",
    "index = np.arange(n_groups)\n",
    "bar_width = 0.35\n",
    "\n",
    "\n",
    "plt.bar(index, means, bar_width, label='Rating', alpha =0.5, align='center', color='Purple')\n",
    "\n",
    "plt.xticks(index + bar_width/2, ('General', 'Petite', 'Intimates'))\n",
    "plt.title('Average Positive Count by Division')\n",
    "plt.xlabel('Division')\n",
    "plt.ylabel('Average Positive Count')\n",
    "plt.tight_layout()\n",
    "\n",
    "#fig_rating = plt.gcf()\n",
    "plt.show()\n",
    "\n",
    "#fig_rating.savefig('Rating.jpeg', bbox_inches='tight')\n"
   ]
  },
  {
   "cell_type": "code",
   "execution_count": 13,
   "metadata": {},
   "outputs": [
    {
     "name": "stdout",
     "output_type": "stream",
     "text": [
      "DepartmentName\n",
      "Bottoms      8043\n",
      "Dresses     19510\n",
      "Intimate     3275\n",
      "Jackets      2916\n",
      "Tops        25407\n",
      "Trend         401\n",
      "Name: PositiveFeedbackCount, dtype: int64\n"
     ]
    },
    {
     "data": {
      "image/png": "[encoded data removed]",
      "text/plain": [
       "<matplotlib.figure.Figure at 0x1150bb6d8>"
      ]
     },
     "metadata": {},
     "output_type": "display_data"
    }
   ],
   "source": [
    "# Number of Positive Counts by Department Name\n",
    "\n",
    "grp = df_nonmissing.groupby('DepartmentName')\n",
    "means = grp.PositiveFeedbackCount.mean()\n",
    "total = grp.PositiveFeedbackCount.sum()\n",
    "\n",
    "n_groups = 6\n",
    "index = np.arange(n_groups)\n",
    "bar_width = 0.35\n",
    "\n",
    "print(total)\n",
    "\n",
    "plt.bar(index, means, bar_width, label='Rating', alpha =0.5, align='center', color='Red')\n",
    "\n",
    "plt.xticks(index + bar_width/2, ('Tops', 'Dresses', 'Intimate', 'Jackets', 'Tops', 'Trend'))\n",
    "plt.title('Average Positive Count by Department')\n",
    "plt.xlabel('Department')\n",
    "plt.ylabel('Average Positive Count')\n",
    "plt.tight_layout()\n",
    "\n",
    "#fig_rating = plt.gcf()\n",
    "plt.show()\n",
    "\n",
    "#fig_rating.savefig('Rating.jpeg', bbox_inches='tight')\n"
   ]
  },
  {
   "cell_type": "code",
   "execution_count": 55,
   "metadata": {},
   "outputs": [
    {
     "name": "stdout",
     "output_type": "stream",
     "text": [
      "                                                                                                                                                                                                                                                                                                                                                                                                                                                                                                            ReviewText  \\\n",
      "0                                                                                                                                                                                                                                                                                                                                                                                                                                                                Absolutely wonderful - silky and sexy and comfortable   \n",
      "1                                                                                                                                                                                                      Love this dress!  it's sooo pretty.  i happened to find it in a store, and i'm glad i did bc i never would have ordered it online bc it's petite.  i bought a petite and am 5'8\".  i love the length on me- hits just a little below the knee.  would definitely be a true midi on someone who is truly petite.   \n",
      "2  I had such high hopes for this dress and really wanted it to work for me. i initially ordered the petite small (my usual size) but i found this to be outrageously small. so small in fact that i could not zip it up! i reordered it in petite medium, which was just ok. overall, the top half was comfortable and fit nicely, but the bottom half had a very tight under layer and several somewhat cheap (net) over layers. imo, a major design flaw was the net over layer sewn directly into the zipper - ...   \n",
      "3                                                                                                                                                                                                                                                                                                                                                                                         I love, love, love this jumpsuit. it's fun, flirty, and fabulous! every time i wear it, i get nothing but great compliments!   \n",
      "4                                                                                                                                                                                                                                                                                                                     This shirt is very flattering to all due to the adjustable front tie. it is the perfect length to wear with leggings and it is sleeveless so it pairs well with any cardigan. love this shirt!!!   \n",
      "\n",
      "   word_count  char_count  \n",
      "0           8          53  \n",
      "1          67         303  \n",
      "2          98         500  \n",
      "3          22         124  \n",
      "4          36         192  \n",
      "1363325\n",
      "60.214875668035866\n"
     ]
    },
    {
     "name": "stderr",
     "output_type": "stream",
     "text": [
      "/anaconda3/lib/python3.6/site-packages/ipykernel_launcher.py:11: SettingWithCopyWarning: \n",
      "A value is trying to be set on a copy of a slice from a DataFrame.\n",
      "Try using .loc[row_indexer,col_indexer] = value instead\n",
      "\n",
      "See the caveats in the documentation: http://pandas.pydata.org/pandas-docs/stable/indexing.html#indexing-view-versus-copy\n",
      "  # This is added back by InteractiveShellApp.init_path()\n",
      "/anaconda3/lib/python3.6/site-packages/ipykernel_launcher.py:13: SettingWithCopyWarning: \n",
      "A value is trying to be set on a copy of a slice from a DataFrame.\n",
      "Try using .loc[row_indexer,col_indexer] = value instead\n",
      "\n",
      "See the caveats in the documentation: http://pandas.pydata.org/pandas-docs/stable/indexing.html#indexing-view-versus-copy\n",
      "  del sys.path[0]\n"
     ]
    }
   ],
   "source": [
    "# Cleaning Text Data\n",
    "#func = lambda x: x['ReviewText'].split()\n",
    "\n",
    "#df_nonmissing['Split_words'] = df_nonmissing.apply(func, axis=1)\n",
    "#print(words[:100])\n",
    "\n",
    "#print(df_nonmissing.head(10))\n",
    "\n",
    "df = df_nonmissing\n",
    "\n",
    "df['word_count'] = df['ReviewText'].apply(lambda x: len(str(x).split(\" \")) )\n",
    "\n",
    "df['char_count'] = df['ReviewText'].str.len()\n",
    "\n",
    "print(df[['ReviewText', 'word_count', 'char_count']].head())\n",
    "\n",
    "print(df['word_count'].sum())\n",
    "print(df['word_count'].mean())"
   ]
  },
  {
   "cell_type": "code",
   "execution_count": 56,
   "metadata": {
    "scrolled": true
   },
   "outputs": [
    {
     "name": "stderr",
     "output_type": "stream",
     "text": [
      "/anaconda3/lib/python3.6/site-packages/ipykernel_launcher.py:9: SettingWithCopyWarning: \n",
      "A value is trying to be set on a copy of a slice from a DataFrame.\n",
      "Try using .loc[row_indexer,col_indexer] = value instead\n",
      "\n",
      "See the caveats in the documentation: http://pandas.pydata.org/pandas-docs/stable/indexing.html#indexing-view-versus-copy\n",
      "  if __name__ == '__main__':\n",
      "/anaconda3/lib/python3.6/site-packages/ipykernel_launcher.py:11: SettingWithCopyWarning: \n",
      "A value is trying to be set on a copy of a slice from a DataFrame.\n",
      "Try using .loc[row_indexer,col_indexer] = value instead\n",
      "\n",
      "See the caveats in the documentation: http://pandas.pydata.org/pandas-docs/stable/indexing.html#indexing-view-versus-copy\n",
      "  # This is added back by InteractiveShellApp.init_path()\n",
      "/anaconda3/lib/python3.6/site-packages/ipykernel_launcher.py:13: SettingWithCopyWarning: \n",
      "A value is trying to be set on a copy of a slice from a DataFrame.\n",
      "Try using .loc[row_indexer,col_indexer] = value instead\n",
      "\n",
      "See the caveats in the documentation: http://pandas.pydata.org/pandas-docs/stable/indexing.html#indexing-view-versus-copy\n",
      "  del sys.path[0]\n"
     ]
    },
    {
     "name": "stdout",
     "output_type": "stream",
     "text": [
      "the 74698\n",
      "i 49630\n",
      "and 48505\n",
      "a 42632\n",
      "it 37302\n",
      "is 30322\n",
      "to 24314\n",
      "this 20726\n",
      "in 20211\n",
      "but 16104\n",
      "Total number of words that appear once:  22052\n",
      "Total word count\n",
      "1363325\n",
      "Total number of unique words\n",
      "40071\n"
     ]
    }
   ],
   "source": [
    "# Stopwords\n",
    "import nltk\n",
    "#nltk.download()\n",
    "from nltk.corpus import stopwords\n",
    "stop = stopwords.words('english')\n",
    "\n",
    "#stop = ['and']\n",
    "\n",
    "df['stopwords'] = df['ReviewText'].apply(lambda x: len([x for x in x.split() if x in stop]))\n",
    "\n",
    "df['numerics'] = df['ReviewText'].apply(lambda x: len([x for x in x.split() if x.isdigit()]))\n",
    "\n",
    "df['upper'] = df['ReviewText'].apply(lambda x: len([x for x in x.split() if x.isupper()]))\n",
    "\n",
    "\n",
    "#df['Correct'] = df['ReviewText'].apply(lambda x: str(TextBlob(x).correct()))\n",
    "\n",
    "#df['word_split'] = df['ReviewText'].apply(lambda x: str(x).split(\" \") )\n",
    "\n",
    "word_freq = pd.Series(' '.join(df['ReviewText']).split()).value_counts()\n",
    "\n",
    "#rare_words = pd.Series(' '.join(df['ReviewText']).split()).value_counts()[-500:]\n",
    "\n",
    "values_list = dict(word_freq)\n",
    "values_list = Counter(values_list)\n",
    "\n",
    "for k, v in values_list.most_common(10):\n",
    "    print(k, v)\n",
    "    \n",
    "# Print the 10 most common words\n",
    "count_once = 0\n",
    "for k, v in values_list.items():\n",
    "    if v == 1:\n",
    "        #print(k, v)\n",
    "        count_once += 1\n",
    "\n",
    "print('Total number of words that appear once: ', count_once)      \n",
    "\n",
    "print('Total word count')\n",
    "print(df['ReviewText'].apply(lambda x: len(str(x).split(\" \")) ).sum())\n",
    "\n",
    "print('Total number of unique words')\n",
    "\n",
    "uniqueWords = list(set(\" \".join(df['ReviewText']).lower().split(\" \")))\n",
    "count = len(uniqueWords)\n",
    "\n",
    "print(count)\n",
    "\n"
   ]
  },
  {
   "cell_type": "code",
   "execution_count": 27,
   "metadata": {},
   "outputs": [
    {
     "name": "stdout",
     "output_type": "stream",
     "text": [
      "Rating\n",
      "1     48171\n",
      "2     96127\n",
      "3    181316\n",
      "4    310716\n",
      "5    726995\n",
      "Name: word_count, dtype: int64\n",
      "Rating\n",
      "1    58.673569\n",
      "2    62.057456\n",
      "3    64.228126\n",
      "4    63.308068\n",
      "5    57.974083\n",
      "Name: word_count, dtype: float64\n"
     ]
    },
    {
     "data": {
      "image/png": "[encoded data removed]",
      "text/plain": [
       "<matplotlib.figure.Figure at 0x1171aef60>"
      ]
     },
     "metadata": {},
     "output_type": "display_data"
    }
   ],
   "source": [
    "# Number of Stopwords by Rating\n",
    "\n",
    "grp = df.groupby('Rating')\n",
    "means = grp.word_count.mean()\n",
    "total = grp.word_count.sum()\n",
    "\n",
    "n_groups = 5\n",
    "index = np.arange(n_groups)\n",
    "bar_width = 0.35\n",
    "\n",
    "print(total)\n",
    "print(means)\n",
    "\n",
    "plt.bar(index, means, bar_width, label='Rating', alpha =0.5, align='center', color='Magenta')\n",
    "\n",
    "plt.xticks(index + bar_width/2, ('1', '2', '3', '4', '5'))\n",
    "plt.title('Average Word Count by Rating')\n",
    "plt.xlabel('Rating')\n",
    "plt.ylabel('Average Word Count')\n",
    "plt.tight_layout()\n",
    "\n",
    "#fig_rating = plt.gcf()\n",
    "plt.show()\n",
    "\n",
    "#fig_rating.savefig('Rating.jpeg', bbox_inches='tight')\n"
   ]
  },
  {
   "cell_type": "code",
   "execution_count": 195,
   "metadata": {},
   "outputs": [
    {
     "name": "stdout",
     "output_type": "stream",
     "text": [
      "Rating\n",
      "1     23393\n",
      "2     47005\n",
      "3     89150\n",
      "4    151140\n",
      "5    345898\n",
      "Name: stopwords, dtype: int64\n"
     ]
    },
    {
     "data": {
      "image/png": "[encoded data removed]",
      "text/plain": [
       "<matplotlib.figure.Figure at 0x1204e9c88>"
      ]
     },
     "metadata": {},
     "output_type": "display_data"
    }
   ],
   "source": [
    "# Number of Numerical words by Rating\n",
    "\n",
    "grp = df.groupby('Rating')\n",
    "means = grp.stopwords.mean()\n",
    "total = grp.stopwords.sum()\n",
    "\n",
    "n_groups = 5\n",
    "index = np.arange(n_groups)\n",
    "bar_width = 0.35\n",
    "\n",
    "print(total)\n",
    "\n",
    "plt.bar(index, means, bar_width, label='Rating', alpha =0.5, align='center', color='Magenta')\n",
    "\n",
    "plt.xticks(index + bar_width/2, ('1', '2', '3', '4', '5'))\n",
    "plt.title('Number of Stopwords by Rating')\n",
    "plt.xlabel('Rating')\n",
    "plt.ylabel('Average Stopword Count')\n",
    "plt.tight_layout()\n",
    "\n",
    "#fig_rating = plt.gcf()\n",
    "plt.show()\n",
    "\n",
    "#fig_rating.savefig('Rating.jpeg', bbox_inches='tight')"
   ]
  },
  {
   "cell_type": "code",
   "execution_count": 71,
   "metadata": {},
   "outputs": [
    {
     "name": "stderr",
     "output_type": "stream",
     "text": [
      "/anaconda3/lib/python3.6/site-packages/ipykernel_launcher.py:2: SettingWithCopyWarning: \n",
      "A value is trying to be set on a copy of a slice from a DataFrame.\n",
      "Try using .loc[row_indexer,col_indexer] = value instead\n",
      "\n",
      "See the caveats in the documentation: http://pandas.pydata.org/pandas-docs/stable/indexing.html#indexing-view-versus-copy\n",
      "  \n",
      "/anaconda3/lib/python3.6/site-packages/ipykernel_launcher.py:5: SettingWithCopyWarning: \n",
      "A value is trying to be set on a copy of a slice from a DataFrame.\n",
      "Try using .loc[row_indexer,col_indexer] = value instead\n",
      "\n",
      "See the caveats in the documentation: http://pandas.pydata.org/pandas-docs/stable/indexing.html#indexing-view-versus-copy\n",
      "  \"\"\"\n",
      "/anaconda3/lib/python3.6/site-packages/ipykernel_launcher.py:8: SettingWithCopyWarning: \n",
      "A value is trying to be set on a copy of a slice from a DataFrame.\n",
      "Try using .loc[row_indexer,col_indexer] = value instead\n",
      "\n",
      "See the caveats in the documentation: http://pandas.pydata.org/pandas-docs/stable/indexing.html#indexing-view-versus-copy\n",
      "  \n",
      "/anaconda3/lib/python3.6/site-packages/ipykernel_launcher.py:12: SettingWithCopyWarning: \n",
      "A value is trying to be set on a copy of a slice from a DataFrame.\n",
      "Try using .loc[row_indexer,col_indexer] = value instead\n",
      "\n",
      "See the caveats in the documentation: http://pandas.pydata.org/pandas-docs/stable/indexing.html#indexing-view-versus-copy\n",
      "  if sys.path[0] == '':\n",
      "/anaconda3/lib/python3.6/site-packages/ipykernel_launcher.py:15: SettingWithCopyWarning: \n",
      "A value is trying to be set on a copy of a slice from a DataFrame.\n",
      "Try using .loc[row_indexer,col_indexer] = value instead\n",
      "\n",
      "See the caveats in the documentation: http://pandas.pydata.org/pandas-docs/stable/indexing.html#indexing-view-versus-copy\n",
      "  from ipykernel import kernelapp as app\n"
     ]
    },
    {
     "name": "stdout",
     "output_type": "stream",
     "text": [
      "dress 11319\n",
      "fit 10091\n",
      "size 9349\n",
      "love 8968\n",
      "top 8256\n",
      "like 7018\n",
      "color 6903\n",
      "look 6873\n",
      "wear 6512\n",
      "great 6076\n",
      "['cinchable', 'faced', 'purchaseyou', 'alluringnot', 'terre', 'courage', 'beautifullly', 'keel', 'restore', 'creampink']\n"
     ]
    },
    {
     "name": "stderr",
     "output_type": "stream",
     "text": [
      "/anaconda3/lib/python3.6/site-packages/ipykernel_launcher.py:39: SettingWithCopyWarning: \n",
      "A value is trying to be set on a copy of a slice from a DataFrame.\n",
      "Try using .loc[row_indexer,col_indexer] = value instead\n",
      "\n",
      "See the caveats in the documentation: http://pandas.pydata.org/pandas-docs/stable/indexing.html#indexing-view-versus-copy\n"
     ]
    },
    {
     "name": "stdout",
     "output_type": "stream",
     "text": [
      "Total number of words that appear once:  9510\n",
      "Total word count\n",
      "642197\n",
      "Total number of unique words\n",
      "7925\n"
     ]
    }
   ],
   "source": [
    "# Convert to lower case\n",
    "df['ReviewText'] = df['ReviewText'].apply(lambda x: \" \".join(x.lower() for x in x.split()))\n",
    "\n",
    "# Remove Punctuation\n",
    "df['ReviewText'] = df['ReviewText'].str.replace('[^\\w\\s]','')\n",
    "\n",
    "# Remove Stopwords\n",
    "df['ReviewText'] = df['ReviewText'].apply(lambda x: \" \".join(x for x in x.split() if x not in stop))\n",
    "\n",
    "\n",
    "# Remove numerics\n",
    "df['ReviewText'] = df['ReviewText'].apply(lambda x: \" \".join(x for x in x.split() if not x.isdigit()))\n",
    "\n",
    "# Change to root word\n",
    "df['ReviewText'] = df['ReviewText'].apply(lambda x: \" \".join([Word(word).lemmatize() for word in x.split()]))\n",
    "\n",
    "\n",
    "word_freq = pd.Series(' '.join(df['ReviewText']).split()).value_counts()\n",
    "\n",
    "values_list = dict(word_freq)\n",
    "values_list = Counter(values_list)\n",
    "\n",
    "for k, v in values_list.most_common(10):\n",
    "    print(k, v)\n",
    "    \n",
    "# Print the 10 most common words\n",
    "count_once = 0\n",
    "rare_words = []\n",
    "for k, v in values_list.items():\n",
    "    if v == 1:\n",
    "        #print(k, v)\n",
    "        rare_words.append(k)\n",
    "        count_once += 1\n",
    "        \n",
    "#rare_words = word_freq[-10:]\n",
    "print(rare_words[0:10])\n",
    "\n",
    "# Remove words that appear once: rare words, missplet words\n",
    "df['ReviewText'] = df['ReviewText'].apply(lambda x: \" \".join(x for x in x.split() if x not in rare_words))\n",
    "\n",
    "print('Total number of words that appear once: ', count_once)      \n",
    "\n",
    "print('Total word count')\n",
    "print(df['ReviewText'].apply(lambda x: len(str(x).split(\" \")) ).sum())\n",
    "\n",
    "\n",
    "print('Total number of unique words')\n",
    "\n",
    "uniqueWords = list(set(\" \".join(df['ReviewText']).lower().split(\" \")))\n",
    "count = len(uniqueWords)\n",
    "\n",
    "print(count)\n",
    "\n"
   ]
  },
  {
   "cell_type": "code",
   "execution_count": 65,
   "metadata": {},
   "outputs": [
    {
     "name": "stdout",
     "output_type": "stream",
     "text": [
      "Accuracy on training data: 0.994755\n",
      "Accuracy on test data:     0.822698\n"
     ]
    }
   ],
   "source": [
    "clf_RF = RandomForestClassifier(n_estimators=10)\n",
    "\n",
    "clf_RF.fit(X_train, y_train)\n",
    "\n",
    "#your turn. Print the accuracy on the test and training dataset\n",
    "training_accuracy = clf_RF.score(X_train, y_train)\n",
    "test_accuracy = clf_RF.score(X_test, y_test)\n",
    "\n",
    "print(\"Accuracy on training data: {:2f}\".format(training_accuracy))\n",
    "print(\"Accuracy on test data:     {:2f}\".format(test_accuracy))"
   ]
  },
  {
   "cell_type": "code",
   "execution_count": 61,
   "metadata": {
    "collapsed": true
   },
   "outputs": [],
   "source": [
    "# Define a function to fit and print results\n",
    "\n",
    "def Model(X_train, y_train, X_test, y_test, classifier):\n",
    "    reg = classifier.fit(X_train, y_train)\n",
    "    \n",
    "    # Compute metrics\n",
    "    y_pred = reg.predict(X_test)\n",
    "    score = r2_score(y_test, y_pred)\n",
    "    score_1 = reg.score(X_test, y_test)\n",
    "    accuracy_test = accuracy_score(y_test, y_pred)\n",
    "    roc_score = roc_auc_score(y_test, y_pred)\n",
    "    accuracy_train = accuracy_score(y_train, reg.predict(X_train))\n",
    "    \n",
    "    print('Accuracy score on training data: {:.4f}'.format(accuracy_train))\n",
    "    print('Accuracy score on testing data: {:.4f}'.format(accuracy_test))\n",
    "    print('')    \n",
    "    \n",
    "    \n",
    "    print('Roc score: {:.4f}'.format(roc_score))\n",
    "    print('')\n",
    "\n",
    "    # Generate the confusion matrix and classification report\n",
    "    print('Confusion Matrix')\n",
    "    print(confusion_matrix(y_test, y_pred))\n",
    "    print('')\n",
    "    \n",
    "    print('Classification Report')\n",
    "    print(classification_report(y_test, y_pred))\n",
    "\n",
    "    return reg"
   ]
  },
  {
   "cell_type": "code",
   "execution_count": 72,
   "metadata": {},
   "outputs": [
    {
     "name": "stdout",
     "output_type": "stream",
     "text": [
      "Results using CountVectorizer\n",
      "------\n",
      "Accuracy score on training data: 0.9927\n",
      "Accuracy score on testing data: 0.8772\n",
      "\n",
      "Roc score: 0.8025\n",
      "\n",
      "Confusion Matrix\n",
      "[[ 682  342]\n",
      " [ 214 3291]]\n",
      "\n",
      "Classification Report\n",
      "             precision    recall  f1-score   support\n",
      "\n",
      "          0       0.76      0.67      0.71      1024\n",
      "          1       0.91      0.94      0.92      3505\n",
      "\n",
      "avg / total       0.87      0.88      0.87      4529\n",
      "\n"
     ]
    }
   ],
   "source": [
    "# Define a pipeline combining a text feature extractor with a simple classifier\n",
    "pipeline = Pipeline([\n",
    "    ('vect', CountVectorizer()),\n",
    "    ('clfNB', MultinomialNB())\n",
    "])\n",
    "\n",
    "\n",
    "# Define Parameter Space\n",
    "parameters = {\n",
    "    'vect__max_df': (0.5, 0.75, 1.0),\n",
    "    'vect__min_df' : (0, 0.01, 0.02, 0.05),\n",
    "    #'vect__max_features': (None, 5000, 10000, 50000),\n",
    "    'vect__ngram_range': ((1, 1), (1, 2)),  # unigrams or bigrams\n",
    "    'clfNB__alpha': (0.001, 0.01, .1, 1, 5, 10),\n",
    "}\n",
    "\n",
    "\n",
    "data = [4, 5]\n",
    "y = [int(n in set(data)) for n in df_nonmissing['Rating']]\n",
    "\n",
    "# Make an fbeta_score scoring object\n",
    "#scorer = make_scorer(accuracy_score) \n",
    "\n",
    "# Split the data into train test data\n",
    "X_train, X_test, y_train, y_test = train_test_split(df['ReviewText'], y, test_size=0.2, random_state = 99)\n",
    "\n",
    "# find the best parameters for both the feature extraction and the classifier\n",
    "clf_countVect = GridSearchCV(pipeline, parameters)\n",
    "\n",
    "\n",
    "print('Results using CountVectorizer\\n------')\n",
    "reg_countVect = Model(X_train, y_train, X_test, y_test, clf_countVect)\n"
   ]
  },
  {
   "cell_type": "code",
   "execution_count": 74,
   "metadata": {},
   "outputs": [
    {
     "name": "stdout",
     "output_type": "stream",
     "text": [
      "Count Vectorizer\n",
      "-----\n",
      "{'clfNB__alpha': 0.1, 'vect__max_df': 0.5, 'vect__min_df': 0, 'vect__ngram_range': (1, 2)}\n"
     ]
    }
   ],
   "source": [
    "# Count Vectorizer\n",
    "print('Count Vectorizer\\n-----')\n",
    "print(reg_countVect.best_params_)\n"
   ]
  },
  {
   "cell_type": "code",
   "execution_count": 199,
   "metadata": {},
   "outputs": [
    {
     "name": "stdout",
     "output_type": "stream",
     "text": [
      "Results using CountVectorizer\n",
      "Accuracy score on training data: 0.9989\n",
      "Accuracy score on testing data: 0.8594\n",
      "\n",
      "Roc score: 0.7235\n",
      "\n",
      "Confusion Matrix\n",
      "[[ 487  537]\n",
      " [ 100 3405]]\n",
      "\n",
      "Classification Report\n",
      "             precision    recall  f1-score   support\n",
      "\n",
      "          0       0.83      0.48      0.60      1024\n",
      "          1       0.86      0.97      0.91      3505\n",
      "\n",
      "avg / total       0.86      0.86      0.84      4529\n",
      "\n"
     ]
    }
   ],
   "source": [
    "# Define a pipeline combining a text feature extractor with a simple classifier\n",
    "pipeline = Pipeline([\n",
    "    ('tfidf', TfidfVectorizer()),\n",
    "    ('clfNB', MultinomialNB())\n",
    "])\n",
    "\n",
    "\n",
    "# Define Parameter Space\n",
    "parameters = {\n",
    "    #'tfidf__use_idf': (True, False),\n",
    "    'tfidf__max_df': (0.5, 0.75, 1.0),\n",
    "    'tfidf__ngram_range': ((1, 1), (1, 2)),  # unigrams or bigrams\n",
    "    #'tfidf__norm': ('l1', 'l2'),\n",
    "    'clfNB__alpha': (0.001, 0.01, .1, 1, 5, 10),    \n",
    "}\n",
    "\n",
    "\n",
    "data = [4, 5]\n",
    "y = [int(n in set(data)) for n in df_nonmissing['Rating']]\n",
    "\n",
    "# Split the data into train test data\n",
    "X_train, X_test, y_train, y_test = train_test_split(df['ReviewText'], y, test_size=0.2, random_state = 99)\n",
    "\n",
    "# find the best parameters for both the feature extraction and the classifier\n",
    "clf_tfidf = GridSearchCV(pipeline, parameters)\n",
    "\n",
    "\n",
    "print('Results using Tfidf Vectorizer\\n------')\n",
    "reg_tfidf = Model(X_train, y_train, X_test, y_test, clf_tfidf)\n"
   ]
  },
  {
   "cell_type": "code",
   "execution_count": 207,
   "metadata": {},
   "outputs": [
    {
     "name": "stdout",
     "output_type": "stream",
     "text": [
      "Tfidf Vectorizer\n",
      "-----\n",
      "{'clfNB__alpha': 1, 'vect__max_df': 0.5, 'vect__ngram_range': (1, 1)}\n"
     ]
    }
   ],
   "source": [
    "# TfIDF Vectorizer\n",
    "print('Tfidf Vectorizer\\n-----')\n",
    "print(clf_tfidf.best_params_)\n"
   ]
  },
  {
   "cell_type": "code",
   "execution_count": 75,
   "metadata": {},
   "outputs": [
    {
     "name": "stdout",
     "output_type": "stream",
     "text": [
      "             precision    recall  f1-score   support\n",
      "\n",
      "          1       0.48      0.19      0.27       165\n",
      "          2       0.37      0.15      0.21       330\n",
      "          3       0.35      0.48      0.40       529\n",
      "          4       0.42      0.31      0.36       972\n",
      "          5       0.77      0.88      0.82      2533\n",
      "\n",
      "avg / total       0.61      0.63      0.61      4529\n",
      "\n",
      "Accuracy score on training data: 0.7418\n",
      "Accuracy score on testing data: 0.6302\n"
     ]
    }
   ],
   "source": [
    "# Mulitclass Classification\n",
    "\n",
    "vectorizer = CountVectorizer()\n",
    "X = vectorizer.fit_transform(df['ReviewText'])\n",
    "y_raw = df['Rating']\n",
    "\n",
    "# Split the data into train test data\n",
    "X_train, X_test, y_train, y_test = train_test_split(X, y_raw, test_size=0.2, random_state = 99)\n",
    "\n",
    "estimator = MultinomialNB()\n",
    "clf_m = OneVsRestClassifier(estimator).fit(X_train, y_train)\n",
    "\n",
    "# call pipeline.predict() on X_test data to make a set of test predictions\n",
    "y_pred_m = clf_m.predict(X_test)\n",
    "\n",
    "# test predictions using sklearn.classification_report()\n",
    "report = classification_report(y_test, y_pred_m)\n",
    "\n",
    "# and print the report\n",
    "print(report)\n",
    "\n",
    "accuracy_train = accuracy_score(y_train, clf_m.predict(X_train))\n",
    "accuracy_test = accuracy_score(y_test, y_pred_m)\n",
    "\n",
    "print('Accuracy score on training data: {:.4f}'.format(accuracy_train))\n",
    "print('Accuracy score on testing data: {:.4f}'.format(accuracy_test))\n"
   ]
  },
  {
   "cell_type": "code",
   "execution_count": 153,
   "metadata": {},
   "outputs": [
    {
     "name": "stdout",
     "output_type": "stream",
     "text": [
      "<class 'numpy.ndarray'>\n",
      "[3 5 3 3 5]\n",
      "4103     2\n",
      "4872     4\n",
      "13534    2\n",
      "22687    3\n",
      "6040     5\n",
      "Name: Rating, dtype: int64\n"
     ]
    }
   ],
   "source": [
    "print(type(y_pred_m))\n",
    "print(y_pred_m[0:5])\n",
    "print(y_test[0:5])"
   ]
  },
  {
   "cell_type": "code",
   "execution_count": null,
   "metadata": {
    "collapsed": true
   },
   "outputs": [],
   "source": []
  }
 ],
 "metadata": {
  "kernelspec": {
   "display_name": "Python 3",
   "language": "python",
   "name": "python3"
  },
  "language_info": {
   "codemirror_mode": {
    "name": "ipython",
    "version": 3
   },
   "file_extension": ".py",
   "mimetype": "text/x-python",
   "name": "python",
   "nbconvert_exporter": "python",
   "pygments_lexer": "ipython3",
   "version": "3.6.3"
  }
 },
 "nbformat": 4,
 "nbformat_minor": 2
}
