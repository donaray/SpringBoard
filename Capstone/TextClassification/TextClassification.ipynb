{
 "cells": [
  {
   "cell_type": "code",
   "execution_count": 56,
   "metadata": {},
   "outputs": [],
   "source": [
    "#Import Libraries\n",
    "import pandas as pd\n",
    "import numpy as np\n",
    "import matplotlib.pyplot as plt\n",
    "import seaborn as sns\n",
    "\n",
    "from datetime import datetime\n",
    "from collections import defaultdict, Counter\n",
    "from IPython.display import display\n",
    "\n",
    "from sklearn.model_selection import train_test_split\n",
    "from sklearn import preprocessing\n",
    "from sklearn import tree, linear_model, svm\n",
    "from sklearn.neighbors import KNeighborsClassifier\n",
    "from sklearn.naive_bayes import GaussianNB, MultinomialNB\n",
    "from sklearn.ensemble import RandomForestClassifier\n",
    "from sklearn.multiclass import OneVsRestClassifier\n",
    "from sklearn.linear_model import SGDClassifier\n",
    "\n",
    "from sklearn.metrics import r2_score, accuracy_score, fbeta_score, roc_auc_score\n",
    "from sklearn.model_selection import cross_val_score\n",
    "#from sklearn.ensemble import AdaBoostClassifier\n",
    "\n",
    "from sklearn.datasets import make_classification\n",
    "from sklearn.metrics import classification_report\n",
    "\n",
    "\n",
    "from sklearn.metrics import classification_report, confusion_matrix, accuracy_score\n",
    "from imblearn.over_sampling import RandomOverSampler\n",
    "\n",
    "from sklearn import grid_search\n",
    "from sklearn.metrics import fbeta_score, make_scorer\n",
    "from sklearn.cross_validation import train_test_split, ShuffleSplit\n",
    "\n",
    "from sklearn.feature_extraction.text import CountVectorizer\n",
    "from sklearn.feature_extraction.text import TfidfVectorizer, HashingVectorizer\n",
    "from sklearn.decomposition import LatentDirichletAllocation, TruncatedSVD\n",
    "from sklearn.cluster import KMeans, AffinityPropagation, SpectralClustering, DBSCAN, AgglomerativeClustering\n",
    "from sklearn.decomposition import PCA\n",
    "from sklearn.metrics import silhouette_score\n",
    "\n",
    "from sklearn.feature_extraction.text import TfidfTransformer\n",
    "from sklearn.linear_model import SGDClassifier\n",
    "from sklearn.model_selection import GridSearchCV\n",
    "from sklearn.pipeline import Pipeline\n",
    "\n",
    "from scipy import sparse\n",
    "\n",
    "from textblob import TextBlob\n",
    "from textblob import Word\n",
    "\n",
    "pd.options.display.max_colwidth = 500\n",
    "#from nltk.autocorrect import spell"
   ]
  },
  {
   "cell_type": "code",
   "execution_count": 36,
   "metadata": {
    "collapsed": true
   },
   "outputs": [],
   "source": [
    "#Read the dataset, \n",
    "df_all = pd.read_csv('/Users/dona/Documents/DonaRay/SpringBoard/git/SpringBoard/Capstone/data/Clothing.csv')\n",
    "\n",
    "# Drop rows with missing data\n",
    "df_nonmissing = df_all[~df_all['Review Text'].isnull()]\n",
    "\n",
    "#df_sub = df_nonmissing[['Rating', 'Department Name', 'Division Name', 'Class Name']]\n",
    "\n",
    "df_nonmissing.columns = ['Index', 'ClothingID', 'Age', 'Title', 'ReviewText', 'Rating', 'RecommendedIND', \n",
    "                         'PositiveFeedbackCount','DivisionName', 'DepartmentName', 'ClassName']"
   ]
  },
  {
   "cell_type": "code",
   "execution_count": 37,
   "metadata": {
    "collapsed": true
   },
   "outputs": [],
   "source": [
    "def Print_Stats(df, num):\n",
    "    #Prints basic summary statistics of a pandas dataframe    \n",
    "\n",
    "    print(df.head(num))\n",
    "    print(df.shape)\n",
    "    print(df.info())\n",
    "    print(df.columns)\n",
    "    print(df.describe())\n",
    "    \n",
    "def Print_Frequency(df, bins = []):\n",
    "    #Prints frequency distribution\n",
    "    \n",
    "    col_list = list(df.columns.values)\n",
    "    \n",
    "    if bins == []:\n",
    "        for col in col_list:\n",
    "            print(df[col].value_counts().sort_index())\n",
    "    else:\n",
    "        for col in col_list:\n",
    "            print(pd.cut(df[col],bins).value_counts().sort_index())"
   ]
  },
  {
   "cell_type": "code",
   "execution_count": 38,
   "metadata": {},
   "outputs": [
    {
     "name": "stdout",
     "output_type": "stream",
     "text": [
      "   Index  ClothingID  Age                    Title  \\\n",
      "0      0         767   33                      NaN   \n",
      "1      1        1080   34                      NaN   \n",
      "2      2        1077   60  Some major design flaws   \n",
      "3      3        1049   50         My favorite buy!   \n",
      "4      4         847   47         Flattering shirt   \n",
      "\n",
      "                                                                                                                                                                                                                                                                                                                                                                                                                                                                                                            ReviewText  \\\n",
      "0                                                                                                                                                                                                                                                                                                                                                                                                                                                                Absolutely wonderful - silky and sexy and comfortable   \n",
      "1                                                                                                                                                                                                      Love this dress!  it's sooo pretty.  i happened to find it in a store, and i'm glad i did bc i never would have ordered it online bc it's petite.  i bought a petite and am 5'8\".  i love the length on me- hits just a little below the knee.  would definitely be a true midi on someone who is truly petite.   \n",
      "2  I had such high hopes for this dress and really wanted it to work for me. i initially ordered the petite small (my usual size) but i found this to be outrageously small. so small in fact that i could not zip it up! i reordered it in petite medium, which was just ok. overall, the top half was comfortable and fit nicely, but the bottom half had a very tight under layer and several somewhat cheap (net) over layers. imo, a major design flaw was the net over layer sewn directly into the zipper - ...   \n",
      "3                                                                                                                                                                                                                                                                                                                                                                                         I love, love, love this jumpsuit. it's fun, flirty, and fabulous! every time i wear it, i get nothing but great compliments!   \n",
      "4                                                                                                                                                                                                                                                                                                                     This shirt is very flattering to all due to the adjustable front tie. it is the perfect length to wear with leggings and it is sleeveless so it pairs well with any cardigan. love this shirt!!!   \n",
      "\n",
      "   Rating  RecommendedIND  PositiveFeedbackCount    DivisionName  \\\n",
      "0       4               1                      0       Initmates   \n",
      "1       5               1                      4         General   \n",
      "2       3               0                      0         General   \n",
      "3       5               1                      0  General Petite   \n",
      "4       5               1                      6         General   \n",
      "\n",
      "  DepartmentName  ClassName  \n",
      "0       Intimate  Intimates  \n",
      "1        Dresses    Dresses  \n",
      "2        Dresses    Dresses  \n",
      "3        Bottoms      Pants  \n",
      "4           Tops    Blouses  \n",
      "(22641, 11)\n",
      "<class 'pandas.core.frame.DataFrame'>\n",
      "Int64Index: 22641 entries, 0 to 23485\n",
      "Data columns (total 11 columns):\n",
      "Index                    22641 non-null int64\n",
      "ClothingID               22641 non-null int64\n",
      "Age                      22641 non-null int64\n",
      "Title                    19675 non-null object\n",
      "ReviewText               22641 non-null object\n",
      "Rating                   22641 non-null int64\n",
      "RecommendedIND           22641 non-null int64\n",
      "PositiveFeedbackCount    22641 non-null int64\n",
      "DivisionName             22628 non-null object\n",
      "DepartmentName           22628 non-null object\n",
      "ClassName                22628 non-null object\n",
      "dtypes: int64(6), object(5)\n",
      "memory usage: 2.1+ MB\n",
      "None\n",
      "Index(['Index', 'ClothingID', 'Age', 'Title', 'ReviewText', 'Rating',\n",
      "       'RecommendedIND', 'PositiveFeedbackCount', 'DivisionName',\n",
      "       'DepartmentName', 'ClassName'],\n",
      "      dtype='object')\n",
      "              Index    ClothingID           Age        Rating  RecommendedIND  \\\n",
      "count  22641.000000  22641.000000  22641.000000  22641.000000    22641.000000   \n",
      "mean   11740.849035    919.332362     43.280376      4.183561        0.818868   \n",
      "std     6781.957509    202.266874     12.326980      1.115762        0.385136   \n",
      "min        0.000000      1.000000     18.000000      1.000000        0.000000   \n",
      "25%     5872.000000    861.000000     34.000000      4.000000        1.000000   \n",
      "50%    11733.000000    936.000000     41.000000      5.000000        1.000000   \n",
      "75%    17621.000000   1078.000000     52.000000      5.000000        1.000000   \n",
      "max    23485.000000   1205.000000     99.000000      5.000000        1.000000   \n",
      "\n",
      "       PositiveFeedbackCount  \n",
      "count           22641.000000  \n",
      "mean                2.630582  \n",
      "std                 5.786164  \n",
      "min                 0.000000  \n",
      "25%                 0.000000  \n",
      "50%                 1.000000  \n",
      "75%                 3.000000  \n",
      "max               122.000000  \n"
     ]
    }
   ],
   "source": [
    "Print_Stats(df_nonmissing, 5)\n",
    "#Print_Frequency(df_sub)"
   ]
  },
  {
   "cell_type": "code",
   "execution_count": 22,
   "metadata": {},
   "outputs": [
    {
     "name": "stdout",
     "output_type": "stream",
     "text": [
      "0      10331\n",
      "1       4043\n",
      "2       2193\n",
      "3       1433\n",
      "4        922\n",
      "5        673\n",
      "6        525\n",
      "7        374\n",
      "8        319\n",
      "9        261\n",
      "10       225\n",
      "11       178\n",
      "12       146\n",
      "13       102\n",
      "14       121\n",
      "15        94\n",
      "16        74\n",
      "17        81\n",
      "18        62\n",
      "19        54\n",
      "20        40\n",
      "21        30\n",
      "22        29\n",
      "23        31\n",
      "24        21\n",
      "25        25\n",
      "26        23\n",
      "27        20\n",
      "28        24\n",
      "29        15\n",
      "       ...  \n",
      "52         1\n",
      "53         2\n",
      "54         1\n",
      "55         2\n",
      "56         1\n",
      "57         3\n",
      "58         2\n",
      "59         1\n",
      "61         1\n",
      "64         1\n",
      "65         4\n",
      "66         1\n",
      "68         1\n",
      "69         1\n",
      "71         1\n",
      "77         1\n",
      "78         1\n",
      "81         4\n",
      "82         1\n",
      "84         1\n",
      "87         1\n",
      "89         1\n",
      "93         1\n",
      "94         1\n",
      "95         1\n",
      "98         1\n",
      "99         1\n",
      "108        1\n",
      "117        1\n",
      "122        1\n",
      "Name: PositiveFeedbackCount, Length: 82, dtype: int64\n"
     ]
    }
   ],
   "source": [
    "Print_Frequency(df_nonmissing[['PositiveFeedbackCount']])"
   ]
  },
  {
   "cell_type": "code",
   "execution_count": 39,
   "metadata": {},
   "outputs": [
    {
     "name": "stdout",
     "output_type": "stream",
     "text": [
      "1      821\n",
      "2     1549\n",
      "3     2823\n",
      "4     4908\n",
      "5    12540\n",
      "Name: Rating, dtype: int64\n"
     ]
    },
    {
     "data": {
      "image/png": "[encoded data removed]",
      "text/plain": [
       "<matplotlib.figure.Figure at 0x114de6438>"
      ]
     },
     "metadata": {},
     "output_type": "display_data"
    }
   ],
   "source": [
    "# Bar Chart of Ratings\n",
    "x = df_nonmissing['Rating'].value_counts().sort_index()\n",
    "\n",
    "print(x)\n",
    "\n",
    "n_groups = 5\n",
    "index = np.arange(n_groups)\n",
    "bar_width = 0.35\n",
    "\n",
    "\n",
    "plt.bar(index, x, bar_width, label='Rating', alpha =0.5, align='center', color='green')\n",
    "\n",
    "plt.xticks(index + bar_width/2, ('1', '2', '3', '4', '5'))\n",
    "plt.title('Rating Count')\n",
    "plt.xlabel('Rating')\n",
    "plt.ylabel('Total')\n",
    "plt.tight_layout()\n",
    "\n",
    "fig_rating_count = plt.gcf()\n",
    "plt.show()\n",
    "\n",
    "fig_rating_count.savefig('./figures/Rating_count.jpeg', bbox_inches='tight')\n"
   ]
  },
  {
   "cell_type": "code",
   "execution_count": 33,
   "metadata": {},
   "outputs": [
    {
     "name": "stdout",
     "output_type": "stream",
     "text": [
      "Rating\n",
      "1    3.548112\n",
      "2    3.360232\n",
      "3    3.198725\n",
      "4    2.488386\n",
      "5    2.408134\n",
      "Name: PositiveFeedbackCount, dtype: float64\n",
      "Rating\n",
      "1     2913\n",
      "2     5205\n",
      "3     9030\n",
      "4    12213\n",
      "5    30198\n",
      "Name: PositiveFeedbackCount, dtype: int64\n"
     ]
    },
    {
     "data": {
      "image/png": "[encoded data removed]",
      "text/plain": [
       "<matplotlib.figure.Figure at 0x119f3aa20>"
      ]
     },
     "metadata": {},
     "output_type": "display_data"
    }
   ],
   "source": [
    "# Average Positive Count by Rating\n",
    "grp = df_nonmissing.groupby('Rating')\n",
    "means = grp.PositiveFeedbackCount.mean()\n",
    "total = grp.PositiveFeedbackCount.sum()\n",
    "\n",
    "n_groups = 5\n",
    "index = np.arange(n_groups)\n",
    "bar_width = 0.35\n",
    "\n",
    "print(means)\n",
    "print(total)\n",
    "\n",
    "plt.bar(index, means, bar_width, label='Rating', alpha =0.5, align='center', color='Teal')\n",
    "\n",
    "plt.xticks(index + bar_width/2, ('1', '2', '3', '4', '5'))\n",
    "plt.title('Average Positive Count by Rating')\n",
    "plt.xlabel('Rating')\n",
    "plt.ylabel('Average Positive Count')\n",
    "plt.tight_layout()\n",
    "\n",
    "fig_positive_average = plt.gcf()\n",
    "plt.show()\n",
    "\n",
    "fig_positive_average.savefig('./figures/Positive_average.jpeg', bbox_inches='tight')\n"
   ]
  },
  {
   "cell_type": "code",
   "execution_count": 18,
   "metadata": {},
   "outputs": [
    {
     "data": {
      "image/png": "[encoded data removed]",
      "text/plain": [
       "<matplotlib.figure.Figure at 0x1192a3780>"
      ]
     },
     "metadata": {},
     "output_type": "display_data"
    }
   ],
   "source": [
    "# Total Positive Count by Rating\n",
    "grp = df_nonmissing.groupby('Rating')\n",
    "total = grp.PositiveFeedbackCount.sum()\n",
    "\n",
    "n_groups = 5\n",
    "index = np.arange(n_groups)\n",
    "bar_width = 0.35\n",
    "\n",
    "\n",
    "plt.bar(index, total, bar_width, label='Rating', alpha =0.5, align='center', color='Teal')\n",
    "\n",
    "plt.xticks(index + bar_width/2, ('1', '2', '3', '4', '5'))\n",
    "plt.title('Total Positive Count by Rating')\n",
    "plt.xlabel('Rating')\n",
    "plt.ylabel('Total Positive Count')\n",
    "#plt.tick_params(labelsize=20)\n",
    "plt.tight_layout()\n",
    "\n",
    "fig_positive_total = plt.gcf()\n",
    "plt.show()\n",
    "\n",
    "fig_positive_total.savefig('./figures/Positive_total.jpeg', bbox_inches='tight')\n"
   ]
  },
  {
   "cell_type": "code",
   "execution_count": 9,
   "metadata": {},
   "outputs": [
    {
     "name": "stdout",
     "output_type": "stream",
     "text": [
      "General           13365\n",
      "General Petite     7837\n",
      "Initmates          1426\n",
      "Name: DivisionName, dtype: int64\n",
      "\n",
      "Tops        10048\n",
      "Dresses      6145\n",
      "Bottoms      3662\n",
      "Intimate     1653\n",
      "Jackets      1002\n",
      "Trend         118\n",
      "Name: DepartmentName, dtype: int64\n",
      "\n",
      "Dresses           6145\n",
      "Knits             4626\n",
      "Blouses           2983\n",
      "Sweaters          1380\n",
      "Pants             1350\n",
      "Jeans             1104\n",
      "Fine gauge        1059\n",
      "Skirts             903\n",
      "Jackets            683\n",
      "Lounge             669\n",
      "Swim               332\n",
      "Outerwear          319\n",
      "Shorts             304\n",
      "Sleep              214\n",
      "Legwear            158\n",
      "Intimates          147\n",
      "Layering           132\n",
      "Trend              118\n",
      "Chemises             1\n",
      "Casual bottoms       1\n",
      "Name: ClassName, dtype: int64\n"
     ]
    }
   ],
   "source": [
    "x = df_nonmissing['DivisionName'].value_counts()\n",
    "print(x)\n",
    "print('')\n",
    "\n",
    "x = df_nonmissing['DepartmentName'].value_counts()\n",
    "print(x)\n",
    "print('')\n",
    "\n",
    "x = df_nonmissing['ClassName'].value_counts()\n",
    "print(x)"
   ]
  },
  {
   "cell_type": "code",
   "execution_count": 25,
   "metadata": {},
   "outputs": [
    {
     "name": "stdout",
     "output_type": "stream",
     "text": [
      "DivisionName   General  General Petite  Initmates\n",
      "Rating                                           \n",
      "1             0.035840        0.037132   0.035764\n",
      "2             0.071081        0.066862   0.052595\n",
      "3             0.130191        0.118540   0.107994\n",
      "4             0.217733        0.217175   0.207574\n",
      "5             0.545155        0.560291   0.596073\n"
     ]
    },
    {
     "data": {
      "image/png": "[encoded data removed]",
      "text/plain": [
       "<matplotlib.figure.Figure at 0x119b4e518>"
      ]
     },
     "metadata": {},
     "output_type": "display_data"
    }
   ],
   "source": [
    "Rating_Division_table = pd.crosstab(df_nonmissing.Rating, df_nonmissing.DivisionName).apply(lambda r: r/r.sum(), axis=0)\n",
    "Dept = pd.crosstab(df_nonmissing.Rating, df_nonmissing.DepartmentName)\n",
    "print(Rating_Division_table)\n",
    "\n",
    "\n",
    "# r/r.sum()\n",
    "sns.heatmap(Rating_Division_table, cmap='RdYlGn_r', linewidths=0.5, annot=True)\n",
    "plt.title('Cross Frequency in Percentage')\n",
    "plt.xlabel('Division Name')\n",
    "\n",
    "plt.tight_layout()\n",
    "\n",
    "fig_CrossFreq_division = plt.gcf()\n",
    "\n",
    "plt.show()\n",
    "\n",
    "fig_CrossFreq_division.savefig('./figures/CrossFreq_division.jpeg', bbox_inches='tight')"
   ]
  },
  {
   "cell_type": "code",
   "execution_count": 28,
   "metadata": {},
   "outputs": [
    {
     "name": "stdout",
     "output_type": "stream",
     "text": [
      "DepartmentName   Bottoms   Dresses  Intimate   Jackets      Tops     Trend\n",
      "Rating                                                                    \n",
      "1               0.031131  0.036127  0.036298  0.047904  0.036525  0.084746\n",
      "2               0.055434  0.074695  0.052632  0.059880  0.072552  0.093220\n",
      "3               0.111141  0.135069  0.107078  0.089820  0.129379  0.161017\n",
      "4               0.208083  0.222457  0.211736  0.194611  0.219745  0.220339\n",
      "5               0.594211  0.531652  0.592257  0.607784  0.541799  0.440678\n"
     ]
    },
    {
     "data": {
      "image/png": "[encoded data removed]",
      "text/plain": [
       "<matplotlib.figure.Figure at 0x119e1d2b0>"
      ]
     },
     "metadata": {},
     "output_type": "display_data"
    }
   ],
   "source": [
    "Rating_Dept_table = pd.crosstab(df_nonmissing.Rating, df_nonmissing.DepartmentName).apply(lambda r: r/r.sum(), axis=0)\n",
    "\n",
    "#r/r.sum() \n",
    "print(Rating_Dept_table)\n",
    "\n",
    "sns.heatmap(Rating_Dept_table, cmap='RdYlGn_r', linewidths=0.5, annot=True)\n",
    "\n",
    "plt.title('Cross Frequency in Percentage')\n",
    "plt.xlabel('Department')\n",
    "\n",
    "plt.tight_layout()\n",
    "\n",
    "fig_CrossFreq_dept = plt.gcf()\n",
    "\n",
    "plt.show()\n",
    "\n",
    "fig_CrossFreq_dept.savefig('./figures/CrossFreq_dept.jpeg', bbox_inches='tight')\n"
   ]
  },
  {
   "cell_type": "code",
   "execution_count": 29,
   "metadata": {},
   "outputs": [
    {
     "name": "stdout",
     "output_type": "stream",
     "text": [
      "DivisionName\n",
      "General           2.672428\n",
      "General Petite    2.695547\n",
      "Initmates         1.900421\n",
      "Name: PositiveFeedbackCount, dtype: float64\n"
     ]
    },
    {
     "data": {
      "image/png": "[encoded data removed]",
      "text/plain": [
       "<matplotlib.figure.Figure at 0x119750be0>"
      ]
     },
     "metadata": {},
     "output_type": "display_data"
    }
   ],
   "source": [
    "# Number of Positive Counts by Division\n",
    "\n",
    "grp = df_nonmissing.groupby('DivisionName')\n",
    "means = grp.PositiveFeedbackCount.mean()\n",
    "total = grp.PositiveFeedbackCount.sum()\n",
    "\n",
    "print(means)\n",
    "n_groups = 3\n",
    "index = np.arange(n_groups)\n",
    "bar_width = 0.35\n",
    "\n",
    "\n",
    "plt.bar(index, means, bar_width, label='Rating', alpha =0.5, align='center', color='Purple')\n",
    "\n",
    "plt.xticks(index + bar_width/2, ('General', 'Petite', 'Intimates'))\n",
    "plt.title('Average Positive Count by Division')\n",
    "plt.xlabel('Division')\n",
    "plt.ylabel('Average Positive Count')\n",
    "plt.tight_layout()\n",
    "\n",
    "fig_AvgPosCount_division = plt.gcf()\n",
    "plt.show()\n",
    "\n",
    "fig_AvgPosCount_division.savefig('./figures/AvgPosCount_division.jpeg', bbox_inches='tight')\n"
   ]
  },
  {
   "cell_type": "code",
   "execution_count": 34,
   "metadata": {},
   "outputs": [
    {
     "name": "stdout",
     "output_type": "stream",
     "text": [
      "DepartmentName\n",
      "Bottoms      8043\n",
      "Dresses     19510\n",
      "Intimate     3275\n",
      "Jackets      2916\n",
      "Tops        25407\n",
      "Trend         401\n",
      "Name: PositiveFeedbackCount, dtype: int64\n",
      "DepartmentName\n",
      "Bottoms     2.196341\n",
      "Dresses     3.174939\n",
      "Intimate    1.981246\n",
      "Jackets     2.910180\n",
      "Tops        2.528563\n",
      "Trend       3.398305\n",
      "Name: PositiveFeedbackCount, dtype: float64\n"
     ]
    },
    {
     "data": {
      "image/png": "[encoded data removed]",
      "text/plain": [
       "<matplotlib.figure.Figure at 0x119ae6be0>"
      ]
     },
     "metadata": {},
     "output_type": "display_data"
    },
    {
     "data": {
      "image/png": "[encoded data removed]",
      "text/plain": [
       "<matplotlib.figure.Figure at 0x118c7c780>"
      ]
     },
     "metadata": {},
     "output_type": "display_data"
    }
   ],
   "source": [
    "# Number of Positive Counts by Department Name\n",
    "\n",
    "grp = df_nonmissing.groupby('DepartmentName')\n",
    "means = grp.PositiveFeedbackCount.mean()\n",
    "total = grp.PositiveFeedbackCount.sum()\n",
    "\n",
    "n_groups = 6\n",
    "index = np.arange(n_groups)\n",
    "bar_width = 0.35\n",
    "\n",
    "print(total)\n",
    "print(means)\n",
    "\n",
    "\n",
    "plt.bar(index, sorted(total), bar_width, align='center', label='Rating', alpha =0.5, color='Red')\n",
    "\n",
    "plt.xticks(index + bar_width/2, ('Trend', 'Jackets', 'Intimate', 'Bottoms', 'Dresses', 'Tops'))\n",
    "plt.title('Average Positive Count by Department')\n",
    "plt.xlabel('Department')\n",
    "plt.ylabel('Average Positive Count')\n",
    "plt.tight_layout()\n",
    "\n",
    "#fig_rating = plt.gcf()\n",
    "plt.show()\n",
    "\n",
    "#fig_rating.savefig('Rating.jpeg', bbox_inches='tight')\n",
    "\n",
    "\n",
    "plt.bar(index, sorted(means), bar_width, align='center', label='Rating', alpha =0.5, color='purple')\n",
    "\n",
    "plt.xticks(index + bar_width/2, ('Intimate', 'Bottoms', 'Tops', 'Jackets', 'Dresses', 'Trend'))\n",
    "plt.title('Average Positive Count by Department')\n",
    "plt.xlabel('Department')\n",
    "plt.ylabel('Average Positive Count')\n",
    "plt.tight_layout()\n",
    "\n",
    "fig_AvgPosCount_dept = plt.gcf()\n",
    "plt.show()\n",
    "\n",
    "fig_AvgPosCount_dept.savefig('./figures/AvgPosCount_dept.jpeg', bbox_inches='tight')"
   ]
  },
  {
   "cell_type": "code",
   "execution_count": 40,
   "metadata": {},
   "outputs": [
    {
     "name": "stdout",
     "output_type": "stream",
     "text": [
      "                                                                                                                                                                                                                                                                                                                                                                                                                                                                                                            ReviewText  \\\n",
      "0                                                                                                                                                                                                                                                                                                                                                                                                                                                                Absolutely wonderful - silky and sexy and comfortable   \n",
      "1                                                                                                                                                                                                      Love this dress!  it's sooo pretty.  i happened to find it in a store, and i'm glad i did bc i never would have ordered it online bc it's petite.  i bought a petite and am 5'8\".  i love the length on me- hits just a little below the knee.  would definitely be a true midi on someone who is truly petite.   \n",
      "2  I had such high hopes for this dress and really wanted it to work for me. i initially ordered the petite small (my usual size) but i found this to be outrageously small. so small in fact that i could not zip it up! i reordered it in petite medium, which was just ok. overall, the top half was comfortable and fit nicely, but the bottom half had a very tight under layer and several somewhat cheap (net) over layers. imo, a major design flaw was the net over layer sewn directly into the zipper - ...   \n",
      "3                                                                                                                                                                                                                                                                                                                                                                                         I love, love, love this jumpsuit. it's fun, flirty, and fabulous! every time i wear it, i get nothing but great compliments!   \n",
      "4                                                                                                                                                                                                                                                                                                                     This shirt is very flattering to all due to the adjustable front tie. it is the perfect length to wear with leggings and it is sleeveless so it pairs well with any cardigan. love this shirt!!!   \n",
      "\n",
      "   word_count  char_count  \n",
      "0           8          53  \n",
      "1          67         303  \n",
      "2          98         500  \n",
      "3          22         124  \n",
      "4          36         192  \n",
      "1363325\n",
      "60.214875668035866\n"
     ]
    },
    {
     "name": "stderr",
     "output_type": "stream",
     "text": [
      "/anaconda3/lib/python3.6/site-packages/ipykernel_launcher.py:5: SettingWithCopyWarning: \n",
      "A value is trying to be set on a copy of a slice from a DataFrame.\n",
      "Try using .loc[row_indexer,col_indexer] = value instead\n",
      "\n",
      "See the caveats in the documentation: http://pandas.pydata.org/pandas-docs/stable/indexing.html#indexing-view-versus-copy\n",
      "  \"\"\"\n",
      "/anaconda3/lib/python3.6/site-packages/ipykernel_launcher.py:7: SettingWithCopyWarning: \n",
      "A value is trying to be set on a copy of a slice from a DataFrame.\n",
      "Try using .loc[row_indexer,col_indexer] = value instead\n",
      "\n",
      "See the caveats in the documentation: http://pandas.pydata.org/pandas-docs/stable/indexing.html#indexing-view-versus-copy\n",
      "  import sys\n"
     ]
    }
   ],
   "source": [
    "# Cleaning Text Data\n",
    "\n",
    "df = df_nonmissing\n",
    "\n",
    "df['word_count'] = df['ReviewText'].apply(lambda x: len(str(x).split(\" \")) )\n",
    "\n",
    "df['char_count'] = df['ReviewText'].str.len()\n",
    "\n",
    "print(df[['ReviewText', 'word_count', 'char_count']].head())\n",
    "\n",
    "print(df['word_count'].sum())\n",
    "print(df['word_count'].mean())"
   ]
  },
  {
   "cell_type": "code",
   "execution_count": 41,
   "metadata": {
    "scrolled": true
   },
   "outputs": [
    {
     "name": "stderr",
     "output_type": "stream",
     "text": [
      "/anaconda3/lib/python3.6/site-packages/ipykernel_launcher.py:9: SettingWithCopyWarning: \n",
      "A value is trying to be set on a copy of a slice from a DataFrame.\n",
      "Try using .loc[row_indexer,col_indexer] = value instead\n",
      "\n",
      "See the caveats in the documentation: http://pandas.pydata.org/pandas-docs/stable/indexing.html#indexing-view-versus-copy\n",
      "  if __name__ == '__main__':\n",
      "/anaconda3/lib/python3.6/site-packages/ipykernel_launcher.py:11: SettingWithCopyWarning: \n",
      "A value is trying to be set on a copy of a slice from a DataFrame.\n",
      "Try using .loc[row_indexer,col_indexer] = value instead\n",
      "\n",
      "See the caveats in the documentation: http://pandas.pydata.org/pandas-docs/stable/indexing.html#indexing-view-versus-copy\n",
      "  # This is added back by InteractiveShellApp.init_path()\n",
      "/anaconda3/lib/python3.6/site-packages/ipykernel_launcher.py:13: SettingWithCopyWarning: \n",
      "A value is trying to be set on a copy of a slice from a DataFrame.\n",
      "Try using .loc[row_indexer,col_indexer] = value instead\n",
      "\n",
      "See the caveats in the documentation: http://pandas.pydata.org/pandas-docs/stable/indexing.html#indexing-view-versus-copy\n",
      "  del sys.path[0]\n"
     ]
    },
    {
     "name": "stdout",
     "output_type": "stream",
     "text": [
      "the 74698\n",
      "i 49630\n",
      "and 48505\n",
      "a 42632\n",
      "it 37302\n",
      "is 30322\n",
      "to 24314\n",
      "this 20726\n",
      "in 20211\n",
      "but 16104\n",
      "Total number of words that appear once:  22052\n",
      "Total word count\n",
      "1363325\n",
      "Total number of unique words\n",
      "40071\n"
     ]
    }
   ],
   "source": [
    "# Stopwords\n",
    "import nltk\n",
    "#nltk.download()\n",
    "from nltk.corpus import stopwords\n",
    "stop = stopwords.words('english')\n",
    "\n",
    "#stop = ['and']\n",
    "\n",
    "df['stopwords'] = df['ReviewText'].apply(lambda x: len([x for x in x.split() if x in stop]))\n",
    "\n",
    "df['numerics'] = df['ReviewText'].apply(lambda x: len([x for x in x.split() if x.isdigit()]))\n",
    "\n",
    "df['upper'] = df['ReviewText'].apply(lambda x: len([x for x in x.split() if x.isupper()]))\n",
    "\n",
    "\n",
    "#df['Correct'] = df['ReviewText'].apply(lambda x: str(TextBlob(x).correct()))\n",
    "\n",
    "#df['word_split'] = df['ReviewText'].apply(lambda x: str(x).split(\" \") )\n",
    "\n",
    "word_freq = pd.Series(' '.join(df['ReviewText']).split()).value_counts()\n",
    "\n",
    "#rare_words = pd.Series(' '.join(df['ReviewText']).split()).value_counts()[-500:]\n",
    "\n",
    "values_list = dict(word_freq)\n",
    "values_list = Counter(values_list)\n",
    "\n",
    "for k, v in values_list.most_common(10):\n",
    "    print(k, v)\n",
    "    \n",
    "# Print the 10 most common words\n",
    "count_once = 0\n",
    "for k, v in values_list.items():\n",
    "    if v == 1:\n",
    "        #print(k, v)\n",
    "        count_once += 1\n",
    "\n",
    "print('Total number of words that appear once: ', count_once)      \n",
    "\n",
    "print('Total word count')\n",
    "print(df['ReviewText'].apply(lambda x: len(str(x).split(\" \")) ).sum())\n",
    "\n",
    "print('Total number of unique words')\n",
    "\n",
    "uniqueWords = list(set(\" \".join(df['ReviewText']).lower().split(\" \")))\n",
    "count = len(uniqueWords)\n",
    "\n",
    "print(count)\n",
    "\n"
   ]
  },
  {
   "cell_type": "code",
   "execution_count": 17,
   "metadata": {},
   "outputs": [
    {
     "name": "stdout",
     "output_type": "stream",
     "text": [
      "Rating\n",
      "1     48171\n",
      "2     96127\n",
      "3    181316\n",
      "4    310716\n",
      "5    726995\n",
      "Name: word_count, dtype: int64\n",
      "Rating\n",
      "1    58.673569\n",
      "2    62.057456\n",
      "3    64.228126\n",
      "4    63.308068\n",
      "5    57.974083\n",
      "Name: word_count, dtype: float64\n"
     ]
    },
    {
     "data": {
      "image/png": "[encoded data removed]",
      "text/plain": [
       "<matplotlib.figure.Figure at 0x10b732dd8>"
      ]
     },
     "metadata": {},
     "output_type": "display_data"
    },
    {
     "name": "stdout",
     "output_type": "stream",
     "text": [
      "Empty DataFrame\n",
      "Columns: [word_count]\n",
      "Index: []\n",
      "(22641, 1)\n",
      "<class 'pandas.core.frame.DataFrame'>\n",
      "Int64Index: 22641 entries, 0 to 23485\n",
      "Data columns (total 1 columns):\n",
      "word_count    22641 non-null int64\n",
      "dtypes: int64(1)\n",
      "memory usage: 353.8 KB\n",
      "None\n",
      "Index(['word_count'], dtype='object')\n",
      "         word_count\n",
      "count  22641.000000\n",
      "mean      60.214876\n",
      "std       28.503976\n",
      "min        2.000000\n",
      "25%       36.000000\n",
      "50%       59.000000\n",
      "75%       88.000000\n",
      "max      115.000000\n"
     ]
    }
   ],
   "source": [
    "# Word Count by Rating\n",
    "\n",
    "grp = df.groupby('Rating')\n",
    "means = grp.word_count.mean()\n",
    "total = grp.word_count.sum()\n",
    "\n",
    "n_groups = 5\n",
    "index = np.arange(n_groups)\n",
    "bar_width = 0.35\n",
    "\n",
    "print(total)\n",
    "print(means)\n",
    "\n",
    "plt.bar(index, means, bar_width, label='Rating', alpha =0.5, align='center', color='red')\n",
    "\n",
    "plt.xticks(index + bar_width/2, ('1', '2', '3', '4', '5'))\n",
    "plt.title('Average Word Count by Rating')\n",
    "plt.xlabel('Rating')\n",
    "plt.ylabel('Average Word Count')\n",
    "plt.tight_layout()\n",
    "\n",
    "fig_Word_count_rating = plt.gcf()\n",
    "plt.show()\n",
    "\n",
    "fig_Word_count_rating.savefig('./figures/Word_count_rating.jpeg', bbox_inches='tight')\n",
    "Print_Stats(df[['word_count']], 0)"
   ]
  },
  {
   "cell_type": "code",
   "execution_count": 39,
   "metadata": {},
   "outputs": [
    {
     "name": "stdout",
     "output_type": "stream",
     "text": [
      "Rating\n",
      "1     23393\n",
      "2     47005\n",
      "3     89150\n",
      "4    151140\n",
      "5    345898\n",
      "Name: stopwords, dtype: int64\n",
      "Rating\n",
      "1    28.493301\n",
      "2    30.345384\n",
      "3    31.579880\n",
      "4    30.794621\n",
      "5    27.583573\n",
      "Name: stopwords, dtype: float64\n"
     ]
    },
    {
     "data": {
      "image/png": "[encoded data removed]",
      "text/plain": [
       "<matplotlib.figure.Figure at 0x118c7c4e0>"
      ]
     },
     "metadata": {},
     "output_type": "display_data"
    },
    {
     "name": "stdout",
     "output_type": "stream",
     "text": [
      "Empty DataFrame\n",
      "Columns: [stopwords]\n",
      "Index: []\n",
      "(22641, 1)\n",
      "<class 'pandas.core.frame.DataFrame'>\n",
      "Int64Index: 22641 entries, 0 to 23485\n",
      "Data columns (total 1 columns):\n",
      "stopwords    22641 non-null int64\n",
      "dtypes: int64(1)\n",
      "memory usage: 353.8 KB\n",
      "None\n",
      "Index(['stopwords'], dtype='object')\n",
      "          stopwords\n",
      "count  22641.000000\n",
      "mean      28.999867\n",
      "std       15.052407\n",
      "min        0.000000\n",
      "25%       16.000000\n",
      "50%       28.000000\n",
      "75%       42.000000\n",
      "max       68.000000\n"
     ]
    }
   ],
   "source": [
    "# Number of  stopwords by Rating\n",
    "\n",
    "grp = df.groupby('Rating')\n",
    "means = grp.stopwords.mean()\n",
    "total = grp.stopwords.sum()\n",
    "\n",
    "n_groups = 5\n",
    "index = np.arange(n_groups)\n",
    "bar_width = 0.35\n",
    "\n",
    "print(total)\n",
    "print(means)\n",
    "\n",
    "plt.bar(index, means, bar_width, label='Rating', alpha =0.5, align='center', color='red')\n",
    "\n",
    "plt.xticks(index + bar_width/2, ('1', '2', '3', '4', '5'))\n",
    "plt.title('Number of Stopwords by Rating')\n",
    "plt.xlabel('Rating')\n",
    "plt.ylabel('Average Stopword Count')\n",
    "plt.tight_layout()\n",
    "\n",
    "fig_Stopword_count_rating = plt.gcf()\n",
    "plt.show()\n",
    "\n",
    "Print_Stats(df[['stopwords']], 0)\n",
    "fig_Stopword_count_rating.savefig('./figures/Stopword_count_rating.jpeg', bbox_inches='tight')"
   ]
  },
  {
   "cell_type": "code",
   "execution_count": 42,
   "metadata": {
    "scrolled": true
   },
   "outputs": [
    {
     "name": "stderr",
     "output_type": "stream",
     "text": [
      "/anaconda3/lib/python3.6/site-packages/ipykernel_launcher.py:2: SettingWithCopyWarning: \n",
      "A value is trying to be set on a copy of a slice from a DataFrame.\n",
      "Try using .loc[row_indexer,col_indexer] = value instead\n",
      "\n",
      "See the caveats in the documentation: http://pandas.pydata.org/pandas-docs/stable/indexing.html#indexing-view-versus-copy\n",
      "  \n"
     ]
    },
    {
     "name": "stdout",
     "output_type": "stream",
     "text": [
      "Convert to lower case\n",
      "----\n",
      "Total word count\n",
      "1362913\n",
      " \n",
      "Total number of unique words\n",
      "37720\n",
      "\n"
     ]
    },
    {
     "name": "stderr",
     "output_type": "stream",
     "text": [
      "/anaconda3/lib/python3.6/site-packages/ipykernel_launcher.py:16: SettingWithCopyWarning: \n",
      "A value is trying to be set on a copy of a slice from a DataFrame.\n",
      "Try using .loc[row_indexer,col_indexer] = value instead\n",
      "\n",
      "See the caveats in the documentation: http://pandas.pydata.org/pandas-docs/stable/indexing.html#indexing-view-versus-copy\n",
      "  app.launch_new_instance()\n"
     ]
    },
    {
     "name": "stdout",
     "output_type": "stream",
     "text": [
      "Remove Punctuation\n",
      "----\n",
      "Total word count\n",
      "1362913\n",
      " \n",
      "Total number of unique words\n",
      "19386\n",
      "\n"
     ]
    },
    {
     "name": "stderr",
     "output_type": "stream",
     "text": [
      "/anaconda3/lib/python3.6/site-packages/ipykernel_launcher.py:30: SettingWithCopyWarning: \n",
      "A value is trying to be set on a copy of a slice from a DataFrame.\n",
      "Try using .loc[row_indexer,col_indexer] = value instead\n",
      "\n",
      "See the caveats in the documentation: http://pandas.pydata.org/pandas-docs/stable/indexing.html#indexing-view-versus-copy\n"
     ]
    },
    {
     "name": "stdout",
     "output_type": "stream",
     "text": [
      "Remove Stopwords\n",
      "----\n",
      "Total word count\n",
      "668290\n",
      " \n",
      "Total number of unique words\n",
      "19244\n",
      "\n"
     ]
    },
    {
     "name": "stderr",
     "output_type": "stream",
     "text": [
      "/anaconda3/lib/python3.6/site-packages/ipykernel_launcher.py:44: SettingWithCopyWarning: \n",
      "A value is trying to be set on a copy of a slice from a DataFrame.\n",
      "Try using .loc[row_indexer,col_indexer] = value instead\n",
      "\n",
      "See the caveats in the documentation: http://pandas.pydata.org/pandas-docs/stable/indexing.html#indexing-view-versus-copy\n"
     ]
    },
    {
     "name": "stdout",
     "output_type": "stream",
     "text": [
      "Remove Numerics\n",
      "----\n",
      "Total word count\n",
      "652217\n",
      " \n",
      "Total number of unique words"
     ]
    },
    {
     "name": "stderr",
     "output_type": "stream",
     "text": [
      "/anaconda3/lib/python3.6/site-packages/ipykernel_launcher.py:57: SettingWithCopyWarning: \n",
      "A value is trying to be set on a copy of a slice from a DataFrame.\n",
      "Try using .loc[row_indexer,col_indexer] = value instead\n",
      "\n",
      "See the caveats in the documentation: http://pandas.pydata.org/pandas-docs/stable/indexing.html#indexing-view-versus-copy\n"
     ]
    },
    {
     "name": "stdout",
     "output_type": "stream",
     "text": [
      "\n",
      "18840\n",
      "\n",
      "Stem Words\n",
      "----\n",
      "Total word count\n",
      "652217\n",
      " \n",
      "Total number of unique words\n",
      "17483\n",
      "\n"
     ]
    }
   ],
   "source": [
    "# Convert to lower case\n",
    "df['ReviewText'] = df['ReviewText'].apply(lambda x: \" \".join(x.lower() for x in x.split()))\n",
    "\n",
    "print('Convert to lower case\\n----')\n",
    "print('Total word count')\n",
    "print(df['ReviewText'].apply(lambda x: len(str(x).split(\" \")) ).sum())\n",
    "print(\" \")\n",
    "print('Total number of unique words')\n",
    "uniqueWords = list(set(\" \".join(df['ReviewText']).lower().split(\" \")))\n",
    "count = len(uniqueWords)\n",
    "print(count)\n",
    "print('')\n",
    "\n",
    "\n",
    "# Remove Punctuation\n",
    "df['ReviewText'] = df['ReviewText'].str.replace('[^\\w\\s]','')\n",
    "\n",
    "print('Remove Punctuation\\n----')\n",
    "print('Total word count')\n",
    "print(df['ReviewText'].apply(lambda x: len(str(x).split(\" \")) ).sum())\n",
    "print(\" \")\n",
    "print('Total number of unique words')\n",
    "uniqueWords = list(set(\" \".join(df['ReviewText']).lower().split(\" \")))\n",
    "count = len(uniqueWords)\n",
    "print(count)\n",
    "print('')\n",
    "\n",
    "\n",
    "# Remove Stopwords\n",
    "df['ReviewText'] = df['ReviewText'].apply(lambda x: \" \".join(x for x in x.split() if x not in stop))\n",
    "\n",
    "\n",
    "print('Remove Stopwords\\n----')\n",
    "print('Total word count')\n",
    "print(df['ReviewText'].apply(lambda x: len(str(x).split(\" \")) ).sum())\n",
    "print(\" \")\n",
    "print('Total number of unique words')\n",
    "uniqueWords = list(set(\" \".join(df['ReviewText']).lower().split(\" \")))\n",
    "count = len(uniqueWords)\n",
    "print(count)\n",
    "print('')\n",
    "\n",
    "# Remove numerics\n",
    "df['ReviewText'] = df['ReviewText'].apply(lambda x: \" \".join(x for x in x.split() if not x.isdigit()))\n",
    "\n",
    "print('Remove Numerics\\n----')\n",
    "print('Total word count')\n",
    "print(df['ReviewText'].apply(lambda x: len(str(x).split(\" \")) ).sum())\n",
    "print(\" \")\n",
    "print('Total number of unique words')\n",
    "uniqueWords = list(set(\" \".join(df['ReviewText']).lower().split(\" \")))\n",
    "count = len(uniqueWords)\n",
    "print(count)\n",
    "print('')\n",
    "\n",
    "# Change to root word\n",
    "df['ReviewText'] = df['ReviewText'].apply(lambda x: \" \".join([Word(word).lemmatize() for word in x.split()]))\n",
    "\n",
    "\n",
    "print('Stem Words\\n----')\n",
    "print('Total word count')\n",
    "print(df['ReviewText'].apply(lambda x: len(str(x).split(\" \")) ).sum())\n",
    "print(\" \")\n",
    "print('Total number of unique words')\n",
    "uniqueWords = list(set(\" \".join(df['ReviewText']).lower().split(\" \")))\n",
    "count = len(uniqueWords)\n",
    "print(count)\n",
    "print('')\n",
    "\n",
    "\n"
   ]
  },
  {
   "cell_type": "code",
   "execution_count": 43,
   "metadata": {},
   "outputs": [
    {
     "name": "stdout",
     "output_type": "stream",
     "text": [
      "Total number of words that appear once:  9523\n",
      "10 most rare words\n",
      "['dressyperfect', 'customizable', 'funas', 'elbowtofulllength', 'bound', 'corporate', 'signed', 'fattiness', 'mediu', 'health']\n"
     ]
    },
    {
     "name": "stderr",
     "output_type": "stream",
     "text": [
      "/anaconda3/lib/python3.6/site-packages/ipykernel_launcher.py:21: SettingWithCopyWarning: \n",
      "A value is trying to be set on a copy of a slice from a DataFrame.\n",
      "Try using .loc[row_indexer,col_indexer] = value instead\n",
      "\n",
      "See the caveats in the documentation: http://pandas.pydata.org/pandas-docs/stable/indexing.html#indexing-view-versus-copy\n"
     ]
    },
    {
     "name": "stdout",
     "output_type": "stream",
     "text": [
      "Remove words that appear once\n",
      "----\n",
      "Total word count\n",
      "642694\n",
      " \n",
      "Total number of unique words\n",
      "7960\n",
      "\n",
      "10 Most Common Words\n",
      "dress 11319\n",
      "fit 10091\n",
      "size 9349\n",
      "love 8968\n",
      "top 8256\n",
      "like 7018\n",
      "color 6903\n",
      "look 6873\n",
      "wear 6512\n",
      "great 6076\n"
     ]
    }
   ],
   "source": [
    "# Most Common and Rare words\n",
    "word_freq = pd.Series(' '.join(df['ReviewText']).split()).value_counts()\n",
    "\n",
    "values_list = dict(word_freq)\n",
    "values_list = Counter(values_list)\n",
    "    \n",
    "# Print the 10 most common words\n",
    "count_once = 0\n",
    "rare_words = []\n",
    "for k, v in values_list.items():\n",
    "    if v == 1:\n",
    "        #print(k, v)\n",
    "        rare_words.append(k)\n",
    "        count_once += 1\n",
    "\n",
    "print('Total number of words that appear once: ', count_once)      \n",
    "print(\"10 most rare words\")\n",
    "print(rare_words[0:10])\n",
    "\n",
    "# Remove words that appear once: rare words, missplet words\n",
    "df['ReviewText'] = df['ReviewText'].apply(lambda x: \" \".join(x for x in x.split() if x not in rare_words))\n",
    "\n",
    "\n",
    "print('Remove words that appear once\\n----')\n",
    "print('Total word count')\n",
    "print(df['ReviewText'].apply(lambda x: len(str(x).split(\" \")) ).sum())\n",
    "print(\" \")\n",
    "print('Total number of unique words')\n",
    "uniqueWords = list(set(\" \".join(df['ReviewText']).lower().split(\" \")))\n",
    "count = len(uniqueWords)\n",
    "print(count)\n",
    "print('')\n",
    "\n",
    "print(\"10 Most Common Words\")\n",
    "for k, v in values_list.most_common(10):\n",
    "    print(k, v)\n",
    "    \n"
   ]
  },
  {
   "cell_type": "markdown",
   "metadata": {},
   "source": [
    "Modelling"
   ]
  },
  {
   "cell_type": "code",
   "execution_count": 30,
   "metadata": {
    "collapsed": true
   },
   "outputs": [],
   "source": [
    "# Define a function to fit and print results\n",
    "\n",
    "def Model(X_train, y_train, X_test, y_test, classifier):\n",
    "    reg = classifier.fit(X_train, y_train)\n",
    "    \n",
    "    # Compute metrics\n",
    "    y_pred = reg.predict(X_test)\n",
    "    score = r2_score(y_test, y_pred)\n",
    "    score_1 = reg.score(X_test, y_test)\n",
    "    accuracy_test = accuracy_score(y_test, y_pred)\n",
    "    roc_score = roc_auc_score(y_test, y_pred)\n",
    "    accuracy_train = accuracy_score(y_train, reg.predict(X_train))\n",
    "    \n",
    "    print('Accuracy score on training data: {:.4f}'.format(accuracy_train))\n",
    "    print('Accuracy score on testing data: {:.4f}'.format(accuracy_test))\n",
    "    print('')    \n",
    "    \n",
    "    \n",
    "    print('Roc score: {:.4f}'.format(roc_score))\n",
    "    print('')\n",
    "\n",
    "    # Generate the confusion matrix and classification report\n",
    "    print('Confusion Matrix')\n",
    "    print(confusion_matrix(y_test, y_pred))\n",
    "    print('')\n",
    "    \n",
    "    print('Classification Report')\n",
    "    print(classification_report(y_test, y_pred))\n",
    "\n",
    "    return reg"
   ]
  },
  {
   "cell_type": "code",
   "execution_count": 28,
   "metadata": {},
   "outputs": [
    {
     "name": "stdout",
     "output_type": "stream",
     "text": [
      "Results using CountVectorizer and Multinomial Naive Bayes\n",
      "------\n",
      "Accuracy score on training data: 0.9927\n",
      "Accuracy score on testing data: 0.8770\n",
      "\n",
      "Roc score: 0.8020\n",
      "\n",
      "Confusion Matrix\n",
      "[[ 681  343]\n",
      " [ 214 3291]]\n",
      "\n",
      "Classification Report\n",
      "             precision    recall  f1-score   support\n",
      "\n",
      "          0       0.76      0.67      0.71      1024\n",
      "          1       0.91      0.94      0.92      3505\n",
      "\n",
      "avg / total       0.87      0.88      0.87      4529\n",
      "\n"
     ]
    }
   ],
   "source": [
    "# Define a pipeline combining a text feature extractor with a simple classifier\n",
    "# Count Vectorizer and Multinomial Naive Bayes Classifier\n",
    "pipeline = Pipeline([\n",
    "    ('vect', CountVectorizer()),\n",
    "    ('clfNB', MultinomialNB())\n",
    "])\n",
    "\n",
    "\n",
    "# Define Parameter Space\n",
    "parameters = {\n",
    "    'vect__max_df': (0.5, 0.75, 1.0),\n",
    "    'vect__min_df' : (0, 1, 5, 10, 15, 20, 50),\n",
    "    #'vect__max_features': (None, 5000, 10000, 50000),\n",
    "    'vect__ngram_range': ((1, 1), (1, 2)),  # unigrams or bigrams\n",
    "    'clfNB__alpha': (0.001, 0.01, .1, 1, 5, 10),\n",
    "}\n",
    "\n",
    "\n",
    "data = [4, 5]\n",
    "y = [int(n in set(data)) for n in df['Rating']]\n",
    "\n",
    "# Make an fbeta_score scoring object\n",
    "#scorer = make_scorer(accuracy_score) \n",
    "\n",
    "# Split the data into train test data\n",
    "X_train, X_test, y_train, y_test = train_test_split(df['ReviewText'], y, test_size=0.2, random_state = 99)\n",
    "\n",
    "# find the best parameters for both the feature extraction and the classifier\n",
    "clf_countVect = GridSearchCV(pipeline, parameters, n_jobs=-1)\n",
    "\n",
    "\n",
    "print('Results using CountVectorizer and Multinomial Naive Bayes\\n------')\n",
    "reg_countVect = Model(X_train, y_train, X_test, y_test, clf_countVect)\n"
   ]
  },
  {
   "cell_type": "code",
   "execution_count": 29,
   "metadata": {},
   "outputs": [
    {
     "name": "stdout",
     "output_type": "stream",
     "text": [
      "Count Vectorizer\n",
      "-----\n",
      "{'clfNB__alpha': 0.1, 'vect__max_df': 0.5, 'vect__min_df': 0, 'vect__ngram_range': (1, 2)}\n"
     ]
    }
   ],
   "source": [
    "# Count Vectorizer\n",
    "print('Count Vectorizer\\n-----')\n",
    "print(reg_countVect.best_params_)\n"
   ]
  },
  {
   "cell_type": "code",
   "execution_count": 32,
   "metadata": {},
   "outputs": [
    {
     "name": "stdout",
     "output_type": "stream",
     "text": [
      "Good words\t     P(good | word)\n",
      "              cooler 0.99\n",
      "               bonus 0.98\n",
      "           accessory 0.98\n",
      "          compliment 0.98\n",
      "               penny 0.98\n",
      "                flop 0.98\n",
      "                flip 0.98\n",
      "          pleasantly 0.98\n",
      "              paired 0.98\n",
      "           currently 0.98\n",
      "Bad words\t     P(bad | word)\n",
      "                 moo 0.13\n",
      "           halloween 0.13\n",
      "                 rag 0.13\n",
      "               awful 0.12\n",
      "            horrible 0.12\n",
      "             remover 0.12\n",
      "            disliked 0.12\n",
      "        underwhelmed 0.11\n",
      "              coarse 0.10\n",
      "              poorly 0.05\n"
     ]
    }
   ],
   "source": [
    "vectorizer = CountVectorizer(max_df=0.5, min_df=0, ngram_range=(1,1))\n",
    "vectorizer.fit(X_train)\n",
    "\n",
    "X_MNB = vectorizer.transform(X_train)\n",
    "\n",
    "X_MNB_test = vectorizer.transform(X_test)\n",
    "words = np.array(vectorizer.get_feature_names())\n",
    "\n",
    "clf_Multinomial = MultinomialNB(alpha=1).fit(X_MNB, y_train)\n",
    "\n",
    "\n",
    "X_identity = np.eye(X_MNB_test.shape[1])\n",
    "probs = clf_Multinomial.predict_log_proba(X_identity)[:, 0]\n",
    "ind = np.argsort(probs)\n",
    "\n",
    "good_words = words[ind[:10]]\n",
    "bad_words = words[ind[-10:]]\n",
    "\n",
    "good_prob = probs[ind[:10]]\n",
    "bad_prob = probs[ind[-10:]]\n",
    "\n",
    "print(\"Good words\\t     P(good | word)\")\n",
    "for w, p in zip(good_words, good_prob):\n",
    "    print(\"{:>20}\".format(w), \"{:.2f}\".format(1 - np.exp(p)))\n",
    "    \n",
    "print(\"Bad words\\t     P(bad | word)\")\n",
    "for w, p in zip(bad_words, bad_prob):\n",
    "    print(\"{:>20}\".format(w), \"{:.2f}\".format(1 - np.exp(p)))"
   ]
  },
  {
   "cell_type": "code",
   "execution_count": 13,
   "metadata": {},
   "outputs": [
    {
     "name": "stdout",
     "output_type": "stream",
     "text": [
      "Results using Tfidf Vectorizer and Multinomial Naive Bayes\n",
      "------\n",
      "Accuracy score on training data: 0.9347\n",
      "Accuracy score on testing data: 0.8715\n",
      "\n",
      "Roc score: 0.7580\n",
      "\n",
      "Confusion Matrix\n",
      "[[ 564  460]\n",
      " [ 122 3383]]\n",
      "\n",
      "Classification Report\n",
      "             precision    recall  f1-score   support\n",
      "\n",
      "          0       0.82      0.55      0.66      1024\n",
      "          1       0.88      0.97      0.92      3505\n",
      "\n",
      "avg / total       0.87      0.87      0.86      4529\n",
      "\n"
     ]
    }
   ],
   "source": [
    "# Define a pipeline combining a text feature extractor with a simple classifier\n",
    "# Tfidf vectorizer and Multinomial Naive Bayes Classifier\n",
    "pipeline = Pipeline([\n",
    "    ('tfidf', TfidfVectorizer()),\n",
    "    ('clfNB', MultinomialNB())\n",
    "])\n",
    "\n",
    "\n",
    "# Define Parameter Space\n",
    "parameters = {\n",
    "    'tfidf__use_idf': (True, False),\n",
    "    'tfidf__max_df': (0.5, 0.75, 1.0),\n",
    "    'tfidf__min_df': (0, 1, 5, 10, 15, 20, 50),\n",
    "    'tfidf__ngram_range': ((1, 1), (1, 2)),  # unigrams or bigrams\n",
    "    #'tfidf__norm': ('l1', 'l2'),\n",
    "    'clfNB__alpha': (0.001, 0.01, .1, 1, 5, 10),    \n",
    "}\n",
    "\n",
    "\n",
    "data = [4, 5]\n",
    "y = [int(n in set(data)) for n in df['Rating']]\n",
    "\n",
    "# Split the data into train test data\n",
    "X_train, X_test, y_train, y_test = train_test_split(df['ReviewText'], y, test_size=0.2, random_state = 99)\n",
    "\n",
    "# find the best parameters for both the feature extraction and the classifier\n",
    "clf_tfidf = GridSearchCV(pipeline, parameters)\n",
    "\n",
    "\n",
    "print('Results using Tfidf Vectorizer and Multinomial Naive Bayes\\n------')\n",
    "reg_tfidf = Model(X_train, y_train, X_test, y_test, clf_tfidf)\n"
   ]
  },
  {
   "cell_type": "code",
   "execution_count": 14,
   "metadata": {},
   "outputs": [
    {
     "name": "stdout",
     "output_type": "stream",
     "text": [
      "Tfidf Vectorizer\n",
      "-----\n",
      "{'clfNB__alpha': 0.1, 'tfidf__max_df': 0.5, 'tfidf__min_df': 5, 'tfidf__ngram_range': (1, 2), 'tfidf__use_idf': True}\n"
     ]
    }
   ],
   "source": [
    "# TfIDF Vectorizer\n",
    "print('Tfidf Vectorizer\\n-----')\n",
    "print(reg_tfidf.best_params_)\n"
   ]
  },
  {
   "cell_type": "code",
   "execution_count": 15,
   "metadata": {},
   "outputs": [
    {
     "name": "stdout",
     "output_type": "stream",
     "text": [
      "Results using CountVectorizer and Random Forest\n",
      "------\n",
      "Accuracy score on training data: 0.9999\n",
      "Accuracy score on testing data: 0.8571\n",
      "\n",
      "Roc score: 0.7242\n",
      "\n",
      "Confusion Matrix\n",
      "[[ 493  531]\n",
      " [ 116 3389]]\n",
      "\n",
      "Classification Report\n",
      "             precision    recall  f1-score   support\n",
      "\n",
      "          0       0.81      0.48      0.60      1024\n",
      "          1       0.86      0.97      0.91      3505\n",
      "\n",
      "avg / total       0.85      0.86      0.84      4529\n",
      "\n"
     ]
    }
   ],
   "source": [
    "# Define a pipeline combining a text feature extractor with a Random Forest classifier\n",
    "pipeline = Pipeline([\n",
    "    ('vect', CountVectorizer()),\n",
    "    ('clfRF', RandomForestClassifier())\n",
    "])\n",
    "\n",
    "\n",
    "# Define Parameter Space\n",
    "parameters = {\n",
    "    'vect__max_df': (0.5, 0.75, 1.0),\n",
    "    'vect__min_df' : (0, 1, 5, 10, 15, 20, 50),\n",
    "    #'vect__max_features': (None, 5000, 10000, 50000),\n",
    "    'vect__ngram_range': ((1, 1), (1, 2)),  # unigrams or bigrams\n",
    "    'clfRF__n_estimators': (5, 10, 15, 20, 25, 50),\n",
    "}\n",
    "\n",
    "\n",
    "data = [4, 5]\n",
    "y = [int(n in set(data)) for n in df['Rating']]\n",
    "\n",
    "# Make an fbeta_score scoring object\n",
    "#scorer = make_scorer(accuracy_score) \n",
    "\n",
    "# Split the data into train test data\n",
    "X_train, X_test, y_train, y_test = train_test_split(df['ReviewText'], y, test_size=0.2, random_state = 99)\n",
    "\n",
    "# find the best parameters for both the feature extraction and the classifier\n",
    "clf_RF_countVect = GridSearchCV(pipeline, parameters)\n",
    "\n",
    "\n",
    "print('Results using CountVectorizer and Random Forest\\n------')\n",
    "reg_RF_countVect = Model(X_train, y_train, X_test, y_test, clf_RF_countVect)\n"
   ]
  },
  {
   "cell_type": "code",
   "execution_count": 20,
   "metadata": {},
   "outputs": [
    {
     "name": "stdout",
     "output_type": "stream",
     "text": [
      "Results using CountVectorizer and Logistic Regression\n",
      "------\n",
      "Accuracy score on training data: 1.0000\n",
      "Accuracy score on testing data: 0.8799\n",
      "\n",
      "Roc score: 0.8215\n",
      "\n",
      "Confusion Matrix\n",
      "[[ 732  292]\n",
      " [ 252 3253]]\n",
      "\n",
      "Classification Report\n",
      "             precision    recall  f1-score   support\n",
      "\n",
      "          0       0.74      0.71      0.73      1024\n",
      "          1       0.92      0.93      0.92      3505\n",
      "\n",
      "avg / total       0.88      0.88      0.88      4529\n",
      "\n"
     ]
    }
   ],
   "source": [
    "# Define a pipeline combining a text feature extractor with a Logistic Regression classifier\n",
    "pipeline = Pipeline([\n",
    "    ('vect', CountVectorizer()),\n",
    "    ('clfLR', linear_model.LogisticRegression(random_state = 100, class_weight = 'balanced'))\n",
    "])\n",
    "\n",
    "\n",
    "# Define Parameter Space\n",
    "parameters = {\n",
    "    'vect__max_df': (0.5, 0.75, 1.0),\n",
    "    'vect__min_df' : (0, 1, 5, 10, 15, 20, 50),\n",
    "    #'vect__max_features': (None, 5000, 10000, 50000),\n",
    "    'vect__ngram_range': ((1, 1), (1, 2)),  # unigrams or bigrams\n",
    "    'clfLR__C': (0.001,0.01,0.1,1,10,100,1000),\n",
    "}\n",
    "\n",
    "\n",
    "data = [4, 5]\n",
    "y = [int(n in set(data)) for n in df['Rating']]\n",
    "\n",
    "# Make an fbeta_score scoring object\n",
    "#scorer = make_scorer(accuracy_score) \n",
    "\n",
    "# Split the data into train test data\n",
    "X_train, X_test, y_train, y_test = train_test_split(df['ReviewText'], y, test_size=0.2, random_state = 99)\n",
    "\n",
    "# find the best parameters for both the feature extraction and the classifier\n",
    "clf_LR_countVect = GridSearchCV(pipeline, parameters, n_jobs=-1)\n",
    "\n",
    "\n",
    "print('Results using CountVectorizer and Logistic Regression\\n------')\n",
    "reg_LR_countVect = Model(X_train, y_train, X_test, y_test, clf_LR_countVect)\n"
   ]
  },
  {
   "cell_type": "code",
   "execution_count": 22,
   "metadata": {},
   "outputs": [
    {
     "name": "stdout",
     "output_type": "stream",
     "text": [
      "Logistic Regression  with Count Vectorizer\n",
      "-----\n",
      "{'clfLR__C': 10, 'vect__max_df': 0.5, 'vect__min_df': 0, 'vect__ngram_range': (1, 2)}\n"
     ]
    }
   ],
   "source": [
    "# Logistic Regression Classifer with Count Vectorizer\n",
    "print('Logistic Regression  with Count Vectorizer\\n-----')\n",
    "print(reg_LR_countVect.best_params_)"
   ]
  },
  {
   "cell_type": "code",
   "execution_count": 57,
   "metadata": {},
   "outputs": [
    {
     "name": "stdout",
     "output_type": "stream",
     "text": [
      "Logistic Regression\n",
      "Good words\t     P(good | word)\n",
      "             begging 1.00\n",
      "              squish 1.00\n",
      "              settle 1.00\n",
      "           condition 1.00\n",
      "                  ab 1.00\n",
      "                haha 1.00\n",
      "          crisscross 1.00\n",
      "             lowered 0.99\n",
      "                beca 0.99\n",
      "        camouflaging 0.99\n",
      "Bad words\t     P(bad | word)\n",
      "                perk 0.03\n",
      "               asset 0.03\n",
      "            threaded 0.03\n",
      "                bled 0.02\n",
      "             _______ 0.02\n",
      "               wayyy 0.02\n",
      "            cohesive 0.02\n",
      "           seethough 0.01\n",
      "              coarse 0.01\n",
      "             braided 0.01\n"
     ]
    }
   ],
   "source": [
    "data = [4, 5]\n",
    "y = [int(n in set(data)) for n in df['Rating']]\n",
    "\n",
    "# Split the data into train test data\n",
    "X_train, X_test, y_train, y_test = train_test_split(df['ReviewText'], y, test_size=0.2, random_state = 99)\n",
    "\n",
    "\n",
    "vectorizer = CountVectorizer(max_df=0.5, min_df=0, ngram_range=(1,1))\n",
    "vectorizer.fit_transform(X_train)\n",
    "\n",
    "X_LR = vectorizer.transform(X_train)\n",
    "X_LR = sparse.csr_matrix(X_LR)\n",
    "\n",
    "X_LR_test = vectorizer.transform(X_test)\n",
    "X_LR_test = sparse.csr_matrix(X_LR_test)\n",
    "\n",
    "words = np.array(vectorizer.get_feature_names())\n",
    "\n",
    "clf_LR = linear_model.LogisticRegression(C=10).fit(X_LR, y_train)\n",
    "\n",
    "\n",
    "X_identity = np.eye(X_LR_test.shape[1])\n",
    "probs = clf_LR.predict_log_proba(X_identity)[:, 0]\n",
    "ind = np.argsort(probs)\n",
    "\n",
    "good_words = words[ind[:10]]\n",
    "bad_words = words[ind[-10:]]\n",
    "\n",
    "good_prob = probs[ind[:10]]\n",
    "bad_prob = probs[ind[-10:]]\n",
    "\n",
    "print(\"Logistic Regression\")\n",
    "print(\"Good words\\t     P(good | word)\")\n",
    "for w, p in zip(good_words, good_prob):\n",
    "    print(\"{:>20}\".format(w), \"{:.2f}\".format(1 - np.exp(p)))\n",
    "    \n",
    "print(\"Bad words\\t     P(bad | word)\")\n",
    "for w, p in zip(bad_words, bad_prob):\n",
    "    print(\"{:>20}\".format(w), \"{:.2f}\".format(1 - np.exp(p)))"
   ]
  },
  {
   "cell_type": "code",
   "execution_count": 20,
   "metadata": {},
   "outputs": [
    {
     "name": "stdout",
     "output_type": "stream",
     "text": [
      "Results using SGD and CountVectorizer\n",
      "------\n",
      "Accuracy score on training data: 0.8926\n",
      "Accuracy score on testing data: 0.8733\n",
      "\n",
      "Roc score: 0.7719\n",
      "\n",
      "Confusion Matrix\n",
      "[[ 601  423]\n",
      " [ 151 3354]]\n",
      "\n",
      "Classification Report\n",
      "             precision    recall  f1-score   support\n",
      "\n",
      "          0       0.80      0.59      0.68      1024\n",
      "          1       0.89      0.96      0.92      3505\n",
      "\n",
      "avg / total       0.87      0.87      0.87      4529\n",
      "\n"
     ]
    }
   ],
   "source": [
    "# Define a pipeline combining a text feature extractor with a Support Vector Machines\n",
    "pipeline = Pipeline([\n",
    "    ('vect', CountVectorizer()),\n",
    "    ('clfSGD', SGDClassifier(loss='hinge', penalty='l2',\n",
    "                            alpha=1e-3, random_state=42, max_iter=5, tol=None)),\n",
    "])\n",
    "\n",
    "\n",
    "# Define Parameter Space\n",
    "parameters = {\n",
    "    'vect__max_df': (0.5, 0.75, 1.0),\n",
    "    'vect__min_df' : (0, 1, 5, 10, 15, 20, 50),\n",
    "    #'vect__max_features': (None, 5000, 10000, 50000),\n",
    "    'vect__ngram_range': ((1, 1), (1, 2)),  # unigrams or bigrams\n",
    "    'clfSGD__alpha': (1e-2, 1e-3, 1e-4, 1e-5, 1e-6)\n",
    "}\n",
    "\n",
    "\n",
    "data = [4, 5]\n",
    "y = [int(n in set(data)) for n in df['Rating']]\n",
    "\n",
    "# Make an fbeta_score scoring object\n",
    "#scorer = make_scorer(accuracy_score) \n",
    "\n",
    "# Split the data into train test data\n",
    "X_train, X_test, y_train, y_test = train_test_split(df['ReviewText'], y, test_size=0.2, random_state = 99)\n",
    "\n",
    "# find the best parameters for both the feature extraction and the classifier\n",
    "clf_sgd_countVect = GridSearchCV(pipeline, parameters, n_jobs=-1)\n",
    "\n",
    "\n",
    "print('Results using SGD and CountVectorizer\\n------')\n",
    "reg_sgd_countVect = Model(X_train, y_train, X_test, y_test, clf_sgd_countVect)"
   ]
  },
  {
   "cell_type": "code",
   "execution_count": 21,
   "metadata": {},
   "outputs": [
    {
     "name": "stdout",
     "output_type": "stream",
     "text": [
      "{'clfSGD__alpha': 0.01, 'vect__max_df': 0.5, 'vect__min_df': 5, 'vect__ngram_range': (1, 2)}\n"
     ]
    }
   ],
   "source": [
    "print(reg_sgd_countVect.best_params_)"
   ]
  },
  {
   "cell_type": "code",
   "execution_count": 114,
   "metadata": {},
   "outputs": [
    {
     "data": {
      "text/plain": [
       "\"\\n# Define a pipeline combining a text feature extractor with a Support Vector Machines\\npipeline = Pipeline([\\n    ('vect', CountVectorizer()),\\n    ('clfSVC', svm.SVC(max_iter=5))\\n])\\n\\n\\n# Define Parameter Space\\nparameters = {\\n    'vect__max_df': (0.5, 0.75, 1.0),\\n    'vect__min_df' : (0, 1, 5, 10, 15, 20, 50),\\n    #'vect__max_features': (None, 5000, 10000, 50000),\\n    'vect__ngram_range': ((1, 1), (1, 2)),  # unigrams or bigrams\\n    'clfSVC__C': (0.0001, 0.001, 0.01, 0.1, 1, 10, 100, 1000),\\n    'clfSVC__kernel': ('linear', 'rbf', 'poly', 'sigmoid')\\n}\\n\\n\\ndata = [4, 5]\\ny = [int(n in set(data)) for n in df['Rating']]\\n\\n# Make an fbeta_score scoring object\\n#scorer = make_scorer(accuracy_score) \\n\\n# Split the data into train test data\\nX_train, X_test, y_train, y_test = train_test_split(df['ReviewText'], y, test_size=0.2, random_state = 99)\\n\\n# find the best parameters for both the feature extraction and the classifier\\nclf_svc_countVect = GridSearchCV(pipeline, parameters)\\n\\n\\nprint('Results using SVC and CountVectorizer\\n------')\\nreg_svc_countVect = Model(X_train, y_train, X_test, y_test, clf_svc_countVect)\\n\\n\""
      ]
     },
     "execution_count": 114,
     "metadata": {},
     "output_type": "execute_result"
    }
   ],
   "source": [
    "'''\n",
    "# Define a pipeline combining a text feature extractor with a Support Vector Machines\n",
    "pipeline = Pipeline([\n",
    "    ('vect', CountVectorizer()),\n",
    "    ('clfSVC', svm.SVC(max_iter=5))\n",
    "])\n",
    "\n",
    "\n",
    "# Define Parameter Space\n",
    "parameters = {\n",
    "    'vect__max_df': (0.5, 0.75, 1.0),\n",
    "    'vect__min_df' : (0, 1, 5, 10, 15, 20, 50),\n",
    "    #'vect__max_features': (None, 5000, 10000, 50000),\n",
    "    'vect__ngram_range': ((1, 1), (1, 2)),  # unigrams or bigrams\n",
    "    'clfSVC__C': (0.0001, 0.001, 0.01, 0.1, 1, 10, 100, 1000),\n",
    "    'clfSVC__kernel': ('linear', 'rbf', 'poly', 'sigmoid')\n",
    "}\n",
    "\n",
    "\n",
    "data = [4, 5]\n",
    "y = [int(n in set(data)) for n in df['Rating']]\n",
    "\n",
    "# Make an fbeta_score scoring object\n",
    "#scorer = make_scorer(accuracy_score) \n",
    "\n",
    "# Split the data into train test data\n",
    "X_train, X_test, y_train, y_test = train_test_split(df['ReviewText'], y, test_size=0.2, random_state = 99)\n",
    "\n",
    "# find the best parameters for both the feature extraction and the classifier\n",
    "clf_svc_countVect = GridSearchCV(pipeline, parameters)\n",
    "\n",
    "\n",
    "print('Results using SVC and CountVectorizer\\n------')\n",
    "reg_svc_countVect = Model(X_train, y_train, X_test, y_test, clf_svc_countVect)\n",
    "\n",
    "'''"
   ]
  },
  {
   "cell_type": "code",
   "execution_count": 115,
   "metadata": {
    "collapsed": true
   },
   "outputs": [],
   "source": [
    "#print(reg_svc_countVect.best_params_)"
   ]
  },
  {
   "cell_type": "code",
   "execution_count": 53,
   "metadata": {},
   "outputs": [
    {
     "name": "stdout",
     "output_type": "stream",
     "text": [
      "             precision    recall  f1-score   support\n",
      "\n",
      "          1       0.46      0.18      0.26       165\n",
      "          2       0.37      0.15      0.21       330\n",
      "          3       0.35      0.48      0.40       529\n",
      "          4       0.42      0.31      0.36       972\n",
      "          5       0.77      0.88      0.82      2533\n",
      "\n",
      "avg / total       0.60      0.63      0.61      4529\n",
      "\n"
     ]
    }
   ],
   "source": [
    "# Mulitclass Classification\n",
    "\n",
    "vectorizer = CountVectorizer(max_df = 0.5, min_df = 2)\n",
    "X = vectorizer.fit_transform(df['ReviewText'])\n",
    "y_raw = df['Rating']\n",
    "\n",
    "# Split the data into train test data\n",
    "X_train, X_test, y_train, y_test = train_test_split(X, y_raw, test_size=0.2, random_state = 99)\n",
    "\n",
    "estimator = MultinomialNB()\n",
    "clf_m = OneVsRestClassifier(estimator).fit(X_train, y_train)\n",
    "\n",
    "# call pipeline.predict() on X_test data to make a set of test predictions\n",
    "y_pred_m = clf_m.predict(X_test)\n",
    "\n",
    "# test predictions using sklearn.classification_report()\n",
    "report = classification_report(y_test, y_pred_m)\n",
    "\n",
    "# and print the report\n",
    "print(report)\n",
    "\n",
    "accuracy_train = accuracy_score(y_train, clf_m.predict(X_train))\n",
    "accuracy_test = accuracy_score(y_test, y_pred_m)\n",
    "\n",
    "#print('Accuracy score on training data: {:.4f}'.format(accuracy_train))\n",
    "#print('Accuracy score on testing data: {:.4f}'.format(accuracy_test))\n",
    "\n",
    "#print('Results with Multiclass Classification\\n------')\n",
    "#reg_clf_m = Model(X_train, y_train, X_test, y_test, clf_m)"
   ]
  },
  {
   "cell_type": "code",
   "execution_count": 54,
   "metadata": {},
   "outputs": [
    {
     "name": "stdout",
     "output_type": "stream",
     "text": [
      "<class 'numpy.ndarray'>\n",
      "[3 5 1 3 5]\n",
      "4103     2\n",
      "4872     4\n",
      "13534    2\n",
      "22687    3\n",
      "6040     5\n",
      "Name: Rating, dtype: int64\n"
     ]
    }
   ],
   "source": [
    "print(type(y_pred_m))\n",
    "print(y_pred_m[0:5])\n",
    "print(y_test[0:5])"
   ]
  },
  {
   "cell_type": "code",
   "execution_count": 26,
   "metadata": {},
   "outputs": [
    {
     "name": "stdout",
     "output_type": "stream",
     "text": [
      "For n_topics = 5: LogLikelihood Score: -84284.51\n",
      "For n_topics = 10: LogLikelihood Score: -86002.08\n",
      "For n_topics = 15: LogLikelihood Score: -86996.00\n",
      "For n_topics = 20: LogLikelihood Score: -87921.44\n",
      "For n_topics = 25: LogLikelihood Score: -88633.31\n",
      "For n_topics = 30: LogLikelihood Score: -90715.49\n",
      "For n_topics = 35: LogLikelihood Score: -90658.86\n",
      "For n_topics = 40: LogLikelihood Score: -92503.62\n",
      "For n_topics = 45: LogLikelihood Score: -93338.42\n",
      "For n_topics = 50: LogLikelihood Score: -96003.14\n",
      "For n_topics = 55: LogLikelihood Score: -98728.36\n",
      "For n_topics = 60: LogLikelihood Score: -100302.33\n",
      "For n_topics = 65: LogLikelihood Score: -101242.31\n",
      "For n_topics = 70: LogLikelihood Score: -104276.53\n",
      "For n_topics = 75: LogLikelihood Score: -106852.57\n",
      "For n_topics = 80: LogLikelihood Score: -110828.65\n",
      "For n_topics = 85: LogLikelihood Score: -114267.63\n",
      "For n_topics = 90: LogLikelihood Score: -115685.77\n",
      "For n_topics = 95: LogLikelihood Score: -118405.14\n"
     ]
    },
    {
     "data": {
      "image/png": "[encoded data removed]",
      "text/plain": [
       "<matplotlib.figure.Figure at 0x1195dfe10>"
      ]
     },
     "metadata": {},
     "output_type": "display_data"
    }
   ],
   "source": [
    "# Unsupervised Learning\n",
    "\n",
    "#Latent Dirichlet Allocation\n",
    "\n",
    "num_topics = range(5, 100, 5)\n",
    "#Perplexity_lda = []\n",
    "log_score = []\n",
    "\n",
    "\n",
    "for n in num_topics: \n",
    "    lda = LatentDirichletAllocation(n_components=n, max_iter=10, learning_method='online')\n",
    "    lda.fit(X)\n",
    "    X_lda = lda.transform(X)\n",
    "    \n",
    "    #clf_lda_Xtrain = clf_lda.transform(X_train)\n",
    "    #perplexity_clf = clf_lda.perplexity(X, X_clf_lda)\n",
    "\n",
    "    \n",
    "    #Perplexity_lda.append(perplexity_clf)\n",
    "    \n",
    "    log_score.append(lda.score(X))\n",
    "    \n",
    "    print('For n_topics = {}: LogLikelihood Score: {:.2f}' .format(n, lda.score(X)))\n",
    "\n",
    "\n",
    "          \n",
    "          \n",
    "plt.scatter(list(num_topics), log_score)   \n",
    "plt.show()\n",
    "          \n",
    "          \n",
    "#print(list(num_topics), Perplexity_train)\n",
    " "
   ]
  },
  {
   "cell_type": "code",
   "execution_count": 60,
   "metadata": {},
   "outputs": [
    {
     "name": "stdout",
     "output_type": "stream",
     "text": [
      "[954.2078912056812, 954.2078912056812, 954.2078912056812, 954.2078912056812, 954.2078912056812]\n"
     ]
    }
   ],
   "source": [
    "print(Perplexity_lda)"
   ]
  },
  {
   "cell_type": "code",
   "execution_count": 65,
   "metadata": {},
   "outputs": [
    {
     "data": {
      "text/plain": [
       "LatentDirichletAllocation(batch_size=128, doc_topic_prior=None,\n",
       "             evaluate_every=-1, learning_decay=0.7,\n",
       "             learning_method='online', learning_offset=10.0,\n",
       "             max_doc_update_iter=100, max_iter=10, mean_change_tol=0.001,\n",
       "             n_components=6, n_jobs=1, n_topics=None, perp_tol=0.1,\n",
       "             random_state=99, topic_word_prior=None,\n",
       "             total_samples=1000000.0, verbose=0)"
      ]
     },
     "execution_count": 65,
     "metadata": {},
     "output_type": "execute_result"
    }
   ],
   "source": [
    "clf_lda_6 = LatentDirichletAllocation(n_components=6, max_iter=10, learning_method='online', random_state=99)\n",
    "clf_lda_6.fit(X)"
   ]
  },
  {
   "cell_type": "code",
   "execution_count": 113,
   "metadata": {},
   "outputs": [
    {
     "name": "stdout",
     "output_type": "stream",
     "text": [
      "[0.08378811 0.08355082 0.08339848 0.58199707 0.08338802 0.0838775 ]\n",
      "[0.72201412 0.05555556 0.05555556 0.05555556 0.05576365 0.05555556]\n"
     ]
    }
   ],
   "source": [
    "text = \"love. \"\n",
    "x = clf_lda_6.transform(vectorizer.transform([text]))[0]\n",
    "print(x)\n",
    " \n",
    "text = \"jacket weather\"\n",
    "x = clf_lda_6.transform(vectorizer.transform([text]))[0]\n",
    "print(x)"
   ]
  },
  {
   "cell_type": "code",
   "execution_count": 129,
   "metadata": {},
   "outputs": [
    {
     "name": "stdout",
     "output_type": "stream",
     "text": [
      "Results using LDA and Logistic Regression Classifier\n",
      "------\n",
      "Accuracy score on training data: 0.7409\n",
      "Accuracy score on testing data: 0.7381\n",
      "\n",
      "Roc score: 0.7510\n",
      "\n",
      "Confusion Matrix\n",
      "[[ 793  231]\n",
      " [ 955 2550]]\n",
      "\n",
      "Classification Report\n",
      "             precision    recall  f1-score   support\n",
      "\n",
      "          0       0.45      0.77      0.57      1024\n",
      "          1       0.92      0.73      0.81      3505\n",
      "\n",
      "avg / total       0.81      0.74      0.76      4529\n",
      "\n"
     ]
    }
   ],
   "source": [
    "# Applying LDA to df['ReviewText] data\n",
    "\n",
    "data = [4, 5]\n",
    "y = [int(n in set(data)) for n in df['Rating']]\n",
    "\n",
    "# Split the data into train test data\n",
    "X_train, X_test, y_train, y_test = train_test_split(X, y, test_size=0.2, random_state = 99)\n",
    "\n",
    "X_train_lda = clf_lda_6.transform(X_train)\n",
    "X_test_lda = clf_lda_6.transform(X_test)\n",
    "\n",
    "\n",
    "\n",
    "clf_LR_lda = linear_model.LogisticRegression(random_state = 100, class_weight = 'balanced')\n",
    "\n",
    "clf_LR_lda.fit(X_train_lda, y_train)\n",
    "\n",
    "print('Results using LDA and Logistic Regression Classifier\\n------')\n",
    "reg_LR_lda = Model(X_train_lda, y_train, X_test_lda, y_test, clf_LR_lda)\n"
   ]
  },
  {
   "cell_type": "code",
   "execution_count": 19,
   "metadata": {},
   "outputs": [
    {
     "name": "stdout",
     "output_type": "stream",
     "text": [
      "Results using Logiistic Regression and CountVectorizer\n",
      "------\n",
      "Accuracy score on training data: 0.8099\n",
      "Accuracy score on testing data: 0.7938\n",
      "\n",
      "Roc score: 0.5000\n",
      "\n",
      "Confusion Matrix\n",
      "[[ 0 20]\n",
      " [ 0 77]]\n",
      "\n",
      "Classification Report\n",
      "             precision    recall  f1-score   support\n",
      "\n",
      "          0       0.00      0.00      0.00        20\n",
      "          1       0.79      1.00      0.89        77\n",
      "\n",
      "avg / total       0.63      0.79      0.70        97\n",
      "\n"
     ]
    },
    {
     "name": "stderr",
     "output_type": "stream",
     "text": [
      "/anaconda3/lib/python3.6/site-packages/sklearn/metrics/classification.py:1135: UndefinedMetricWarning: Precision and F-score are ill-defined and being set to 0.0 in labels with no predicted samples.\n",
      "  'precision', 'predicted', average, warn_for)\n"
     ]
    }
   ],
   "source": [
    "# Define a pipeline combining a text feature extractor with a Support Vector Machines\n",
    "pipeline = Pipeline([\n",
    "    ('vect', CountVectorizer()),\n",
    "    ('lda', LatentDirichletAllocation(max_iter=10, learning_method='online')),\n",
    "    ('clfLR', linear_model.LogisticRegression(random_state = 100, class_weight = 'balanced')),\n",
    "])\n",
    "\n",
    "\n",
    "# Define Parameter Space\n",
    "parameters = {\n",
    "    'vect__max_df': (0.5, 0.75),\n",
    "    'vect__min_df' : (0, 1, 5, 10),\n",
    "    #'vect__max_features': (None, 5000, 10000, 50000),\n",
    "    'vect__ngram_range': ((1, 1), (1, 2)),  # unigrams or bigrams\n",
    "    'lda__n_components': (range(10, 100, 10)),\n",
    "    'clfLR__C': (0.001,0.01,0.1,1,10),\n",
    "}\n",
    "\n",
    "\n",
    "data = [4, 5]\n",
    "y = [int(n in set(data)) for n in df['Rating']]\n",
    "\n",
    "# Make an fbeta_score scoring object\n",
    "#scorer = make_scorer(accuracy_score) \n",
    "\n",
    "# Split the data into train test data\n",
    "X_train, X_test, y_train, y_test = train_test_split(df['ReviewText'], y, test_size=0.2, random_state = 99)\n",
    "\n",
    "# find the best parameters for both the feature extraction and the classifier\n",
    "clf_LR_lda = GridSearchCV(pipeline, parameters)\n",
    "\n",
    "\n",
    "print('Results using Logiistic Regression and CountVectorizer\\n------')\n",
    "reg_LR_lda = Model(X_train, y_train, X_test, y_test, clf_LR_lda)"
   ]
  },
  {
   "cell_type": "code",
   "execution_count": 39,
   "metadata": {},
   "outputs": [
    {
     "name": "stderr",
     "output_type": "stream",
     "text": [
      "/anaconda3/lib/python3.6/site-packages/sklearn/decomposition/online_lda.py:812: FutureWarning: elementwise comparison failed; returning scalar instead, but in the future will perform elementwise comparison\n",
      "  if doc_topic_distr != 'deprecated':\n",
      "/anaconda3/lib/python3.6/site-packages/sklearn/decomposition/online_lda.py:816: DeprecationWarning: Argument 'doc_topic_distr' is deprecated and is being ignored as of 0.19. Support for this argument will be removed in 0.21.\n",
      "  DeprecationWarning)\n",
      "/anaconda3/lib/python3.6/site-packages/sklearn/decomposition/online_lda.py:816: DeprecationWarning: Argument 'doc_topic_distr' is deprecated and is being ignored as of 0.19. Support for this argument will be removed in 0.21.\n",
      "  DeprecationWarning)\n"
     ]
    },
    {
     "name": "stdout",
     "output_type": "stream",
     "text": [
      "Perplexity on training data:  881.1127550111091\n",
      "Perplexity on testing data:  1087.9822149352874\n"
     ]
    }
   ],
   "source": [
    "clf_lda_Xtrain = clf_lda.transform(X_train)\n",
    "Xtrain_perplexity = clf_lda.perplexity(X_train, clf_lda_Xtrain)\n",
    "\n",
    "clf_lda_Xtest = clf_lda.transform(X_test)\n",
    "Xtest_perplexity = clf_lda.perplexity(X_test, clf_lda_Xtest)\n",
    "\n",
    "print(\"Perplexity on training data: \", Xtrain_perplexity)\n",
    "\n",
    "print(\"Perplexity on testing data: \", Xtest_perplexity)\n"
   ]
  },
  {
   "cell_type": "code",
   "execution_count": 118,
   "metadata": {},
   "outputs": [
    {
     "name": "stdout",
     "output_type": "stream",
     "text": [
      "[[ 0.16732749  2.6703051   0.16746036 ...  0.16795732  0.16771695\n",
      "   0.16746693]\n",
      " [61.92455407  0.16932633 90.80452458 ...  0.16794484  0.16790272\n",
      "   0.16787062]\n",
      " [ 0.16807961  0.16666765  0.16875343 ... 15.07431983  0.16800758\n",
      "   6.11856639]\n",
      " [ 0.16704129  0.16870652  0.16781472 ...  0.16701928  7.9093076\n",
      "   0.16719757]\n",
      " [ 0.16748218  0.1671355   0.1674509  ...  0.16803542  0.16744761\n",
      "   0.16747216]\n",
      " [ 0.1682141   0.16951186  0.16977042 ...  0.16909278  0.16807431\n",
      "   0.16686775]]\n",
      "(6, 7882)\n",
      "<class 'numpy.ndarray'>\n"
     ]
    }
   ],
   "source": [
    "print(clf_lda_6.components_)\n",
    "print(clf_lda_6.components_.shape)\n",
    "print(type(clf_lda_6.components_))"
   ]
  },
  {
   "cell_type": "code",
   "execution_count": 66,
   "metadata": {
    "scrolled": true
   },
   "outputs": [
    {
     "name": "stdout",
     "output_type": "stream",
     "text": [
      "LDA Model:\n",
      "Topic 0:\n",
      "[('jacket', 1260.1287277232013), ('review', 1201.4194954598756), ('many', 1091.0285665480399), ('beautiful', 891.8325132666939), ('color', 731.5545674975265), ('blouse', 642.900979245832), ('red', 634.4399911048164), ('flowy', 612.4763640989706), ('love', 605.4599644401306), ('tee', 526.4428992701735)]\n",
      "Topic 1:\n",
      "[('like', 5062.570831414722), ('top', 4648.532274349048), ('look', 4459.753439956816), ('would', 3678.931756214205), ('fabric', 2996.0372268859524), ('really', 2800.016506722015), ('fit', 2723.7962768930765), ('color', 2267.808664649917), ('back', 2147.928138046728), ('much', 2083.8164343486264)]\n",
      "Topic 2:\n",
      "[('dress', 7471.116927320334), ('retailer', 775.4613885976455), ('pocket', 708.1852824034241), ('store', 636.8272437970631), ('quality', 596.3581157159215), ('back', 594.3429800309938), ('quite', 594.2242440911068), ('disappointed', 569.1791622730645), ('even', 563.9913786944715), ('id', 540.2293931240589)]\n",
      "Topic 3:\n",
      "[('love', 4568.9886215096285), ('great', 3779.3438678654074), ('color', 2925.43398070704), ('wear', 2750.3445483337564), ('jean', 2307.840296867771), ('look', 2231.200983125152), ('comfortable', 2091.547790577511), ('top', 1957.1285623165677), ('soft', 1909.3357012727035), ('bought', 1787.9563964912265)]\n",
      "Topic 4:\n",
      "[('sweater', 2703.6006975507926), ('warm', 662.5627243095904), ('wash', 585.120582128119), ('price', 581.0326541308624), ('sale', 565.2024663781324), ('came', 513.8746595736006), ('coat', 508.1187694150786), ('sleeve', 373.0345824719669), ('needed', 363.7502030991723), ('worth', 335.2174383397732)]\n",
      "Topic 5:\n",
      "[('size', 7915.599389653211), ('fit', 5553.70853665946), ('im', 3698.3436360127403), ('small', 3652.757464207523), ('wear', 2694.1522452351874), ('dress', 2240.298544929338), ('love', 2176.0161593615), ('ordered', 2119.8612863244257), ('run', 2075.387555904496), ('medium', 2008.2850488944905)]\n",
      "====================\n"
     ]
    }
   ],
   "source": [
    "def print_topics(model, vectorizer, top_n=10):\n",
    "    for idx, topic in enumerate(model.components_):\n",
    "        print(\"Topic %d:\" % (idx))\n",
    "        print([(vectorizer.get_feature_names()[i], topic[i])\n",
    "                        for i in topic.argsort()[:-top_n - 1:-1]])\n",
    " \n",
    "print(\"LDA Model:\")\n",
    "print_topics(clf_lda_6, vectorizer)\n",
    "print(\"=\" * 20)"
   ]
  },
  {
   "cell_type": "code",
   "execution_count": 28,
   "metadata": {},
   "outputs": [
    {
     "name": "stdout",
     "output_type": "stream",
     "text": [
      "Best Model's Params:  {'n_components': 2}\n",
      "Best Log Likelihood Score:  -29582.30746214225\n",
      "Model Perplexity:  620.515656471061\n"
     ]
    }
   ],
   "source": [
    "# Define Search Param\n",
    "parameters = {'n_components': [2, 5, 10, 15]}\n",
    "\n",
    "# Init the Model\n",
    "lda = LatentDirichletAllocation(learning_method='online')\n",
    "\n",
    "# Init Grid Search Class\n",
    "model = GridSearchCV(lda, param_grid=parameters)\n",
    "\n",
    "# Do the Grid Search\n",
    "model.fit(X)\n",
    "\n",
    "# Best Model\n",
    "best_lda_model = model.best_estimator_\n",
    "\n",
    "# Model Parameters\n",
    "print(\"Best Model's Params: \", model.best_params_)\n",
    "\n",
    "# Log Likelihood Score\n",
    "print(\"Best Log Likelihood Score: \", model.best_score_)\n",
    "\n",
    "# Perplexity\n",
    "print(\"Model Perplexity: \", best_lda_model.perplexity(X))\n"
   ]
  },
  {
   "cell_type": "code",
   "execution_count": 31,
   "metadata": {},
   "outputs": [
    {
     "name": "stdout",
     "output_type": "stream",
     "text": [
      "Results using Logiistic Regression and CountVectorizer\n",
      "------\n",
      "Accuracy score on training data: 0.5651\n",
      "Accuracy score on testing data: 0.4948\n",
      "\n",
      "Roc score: 0.5893\n",
      "\n",
      "Confusion Matrix\n",
      "[[15  5]\n",
      " [44 33]]\n",
      "\n",
      "Classification Report\n",
      "             precision    recall  f1-score   support\n",
      "\n",
      "          0       0.25      0.75      0.38        20\n",
      "          1       0.87      0.43      0.57        77\n",
      "\n",
      "avg / total       0.74      0.49      0.53        97\n",
      "\n"
     ]
    }
   ],
   "source": [
    "# Define a pipeline combining a text feature extractor with a Support Vector Machines\n",
    "pipeline = Pipeline([\n",
    "    ('lda', LatentDirichletAllocation(max_iter=10, learning_method='online')),\n",
    "    ('clfLR', linear_model.LogisticRegression(random_state = 100, class_weight = 'balanced')),\n",
    "])\n",
    "\n",
    "\n",
    "# Define Parameter Space\n",
    "parameters = {\n",
    "    'lda__n_components': (range(10, 100, 20)),\n",
    "    'clfLR__C': (0.001,0.01,0.1,1,10),\n",
    "}\n",
    "\n",
    "vectorizer = CountVectorizer(max_df = 0.5, min_df = 5)\n",
    "X = vectorizer.fit_transform(df['ReviewText'])\n",
    "\n",
    "data = [4, 5]\n",
    "y = [int(n in set(data)) for n in df['Rating']]\n",
    "\n",
    "# Make an fbeta_score scoring object\n",
    "#scorer = make_scorer(accuracy_score) \n",
    "\n",
    "# Split the data into train test data\n",
    "X_train, X_test, y_train, y_test = train_test_split(X, y, test_size=0.2, random_state = 99)\n",
    "\n",
    "# find the best parameters for both the feature extraction and the classifier\n",
    "clf_LR_lda_2 = GridSearchCV(pipeline, parameters)\n",
    "\n",
    "\n",
    "print('Results using Logiistic Regression and CountVectorizer\\n------')\n",
    "reg_LR_lda_2 = Model(X_train, y_train, X_test, y_test, clf_LR_lda_2)\n"
   ]
  },
  {
   "cell_type": "code",
   "execution_count": 50,
   "metadata": {},
   "outputs": [
    {
     "name": "stdout",
     "output_type": "stream",
     "text": [
      "0.909287722752842\n"
     ]
    }
   ],
   "source": [
    "# SVD Topic Modeling\n",
    "\n",
    "vectorizer = CountVectorizer(max_df = 0.5, min_df = 5)\n",
    "X = vectorizer.fit_transform(df['ReviewText'])\n",
    "\n",
    "svd = TruncatedSVD(n_components=1000, n_iter=10)\n",
    "svd.fit(X)\n",
    "X_svd = svd.transform(X)\n",
    "    \n",
    "svd_explained_var_ratio = svd.explained_variance_ratio_\n",
    "\n",
    "print(\"Total Explained Variance Ratio\")\n",
    "print(svd_explained_var_ratio.sum())\n",
    "\n",
    "\n"
   ]
  },
  {
   "cell_type": "code",
   "execution_count": 51,
   "metadata": {},
   "outputs": [
    {
     "name": "stdout",
     "output_type": "stream",
     "text": [
      "Results using Logiistic Regression and SVD\n",
      "------\n",
      "Accuracy score on training data: 0.8731\n",
      "Accuracy score on testing data: 0.8525\n",
      "\n",
      "Roc score: 0.8442\n",
      "\n",
      "Confusion Matrix\n",
      "[[ 849  175]\n",
      " [ 493 3012]]\n",
      "\n",
      "Classification Report\n",
      "             precision    recall  f1-score   support\n",
      "\n",
      "          0       0.63      0.83      0.72      1024\n",
      "          1       0.95      0.86      0.90      3505\n",
      "\n",
      "avg / total       0.87      0.85      0.86      4529\n",
      "\n",
      "SVD and Logistic\n",
      "-----\n",
      "{'C': 0.1}\n"
     ]
    }
   ],
   "source": [
    "# Classification using reduced feature matrix from SVD\n",
    "# Creating feature matrix X and target variable y\n",
    "data = [4, 5]\n",
    "y = [int(n in set(data)) for n in df['Rating']]\n",
    "\n",
    "# Split the data into train test data\n",
    "X_train, X_test, y_train, y_test = train_test_split(X_svd, y, test_size=0.2, random_state = 99) \n",
    "\n",
    "\n",
    "# Grid Search\n",
    "# Initialize the classifier\n",
    "clf = linear_model.LogisticRegression(random_state = 100, class_weight = 'balanced')\n",
    "\n",
    "# Define Parameter Space\n",
    "parameters = {'C': [0.01,0.1,1,10,100]}\n",
    "\n",
    "#Instantiate Grid Search Object\n",
    "grid_LR = grid_search.GridSearchCV(estimator = clf, param_grid = parameters)\n",
    "\n",
    "\n",
    "# Fit the object to training data\n",
    "grid_LR.fit(X_train, y_train)\n",
    "\n",
    "print('Results using Logiistic Regression and SVD\\n------')\n",
    "reg_svd_LR = Model(X_train, y_train, X_test, y_test, grid_LR)\n",
    "\n",
    "# Count Vectorizer\n",
    "print('SVD and Logistic\\n-----')\n",
    "print(reg_svd_LR.best_params_)\n"
   ]
  },
  {
   "cell_type": "code",
   "execution_count": null,
   "metadata": {
    "collapsed": true
   },
   "outputs": [],
   "source": []
  }
 ],
 "metadata": {
  "kernelspec": {
   "display_name": "Python 3",
   "language": "python",
   "name": "python3"
  },
  "language_info": {
   "codemirror_mode": {
    "name": "ipython",
    "version": 3
   },
   "file_extension": ".py",
   "mimetype": "text/x-python",
   "name": "python",
   "nbconvert_exporter": "python",
   "pygments_lexer": "ipython3",
   "version": "3.6.3"
  }
 },
 "nbformat": 4,
 "nbformat_minor": 2
}
