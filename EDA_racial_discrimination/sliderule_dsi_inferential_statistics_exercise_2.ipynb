{
 "cells": [
  {
   "cell_type": "markdown",
   "metadata": {},
   "source": [
    "# Examining Racial Discrimination in the US Job Market\n",
    "\n",
    "### Background\n",
    "Racial discrimination continues to be pervasive in cultures throughout the world. Researchers examined the level of racial discrimination in the United States labor market by randomly assigning identical résumés to black-sounding or white-sounding names and observing the impact on requests for interviews from employers.\n",
    "\n",
    "### Data\n",
    "In the dataset provided, each row represents a resume. The 'race' column has two values, 'b' and 'w', indicating black-sounding and white-sounding. The column 'call' has two values, 1 and 0, indicating whether the resume received a call from employers or not.\n",
    "\n",
    "Note that the 'b' and 'w' values in race are assigned randomly to the resumes when presented to the employer."
   ]
  },
  {
   "cell_type": "markdown",
   "metadata": {},
   "source": [
    "<div class=\"span5 alert alert-info\">\n",
    "### Exercises\n",
    "You will perform a statistical analysis to establish whether race has a significant impact on the rate of callbacks for resumes.\n",
    "\n",
    "Answer the following questions **in this notebook below and submit to your Github account**. \n",
    "\n",
    "   1. What test is appropriate for this problem? Does CLT apply?\n",
    "   2. What are the null and alternate hypotheses?\n",
    "   3. Compute margin of error, confidence interval, and p-value. Try using both the bootstrapping and the frequentist statistical approaches.\n",
    "   4. Write a story describing the statistical significance in the context or the original problem.\n",
    "   5. Does your analysis mean that race/name is the most important factor in callback success? Why or why not? If not, how would you amend your analysis?\n",
    "\n",
    "You can include written notes in notebook cells using Markdown: \n",
    "   - In the control panel at the top, choose Cell > Cell Type > Markdown\n",
    "   - Markdown syntax: http://nestacms.com/docs/creating-content/markdown-cheat-sheet\n",
    "\n",
    "\n",
    "#### Resources\n",
    "+ Experiment information and data source: http://www.povertyactionlab.org/evaluation/discrimination-job-market-united-states\n",
    "+ Scipy statistical methods: http://docs.scipy.org/doc/scipy/reference/stats.html \n",
    "+ Markdown syntax: http://nestacms.com/docs/creating-content/markdown-cheat-sheet\n",
    "+ Formulas for the Bernoulli distribution: https://en.wikipedia.org/wiki/Bernoulli_distribution\n",
    "</div>\n",
    "****"
   ]
  },
  {
   "cell_type": "code",
   "execution_count": 1,
   "metadata": {
    "collapsed": true
   },
   "outputs": [],
   "source": [
    "import pandas as pd\n",
    "import numpy as np\n",
    "from scipy import stats"
   ]
  },
  {
   "cell_type": "code",
   "execution_count": 2,
   "metadata": {
    "collapsed": true
   },
   "outputs": [],
   "source": [
    "data = pd.io.stata.read_stata('data/us_job_market_discrimination.dta')"
   ]
  },
  {
   "cell_type": "markdown",
   "metadata": {
    "collapsed": true
   },
   "source": [
    "For this problem, we could do a chi-square to test the independence of the two populations proportions, that is,\n",
    "call back rate and race. For this normality is not a requirement.\n",
    "\n",
    "However, we could also to a z-test for equality of population proportions. The requirement for the z-test is that \n",
    "sample size * population proportion >= 5 for both populations. Yes, we can apply CLT and use z-test to test equality \n",
    "of two proportions.\n",
    "\n",
    "The null hypothesis is that that call back rate for the both populations is the same, that is race has no effect\n",
    "on the call back rate. The altermnate hypothesis is that call back rate is not the same."
   ]
  },
  {
   "cell_type": "code",
   "execution_count": 3,
   "metadata": {},
   "outputs": [
    {
     "name": "stdout",
     "output_type": "stream",
     "text": [
      "p-value: 0.0000\n"
     ]
    }
   ],
   "source": [
    "# Permutation method to test equality of sample proportions\n",
    "df = data[['call', 'race']]\n",
    "\n",
    "df_w = df[df['race'] == 'w']\n",
    "df_b = df[df['race'] == 'b']\n",
    "\n",
    "# We draw permuted samples and then compute the replicates:\n",
    "\n",
    "def permutation_sample(data1, data2):\n",
    "    \n",
    "    #Concatenate the data sets: data\n",
    "    data = pd.concat([data1, data2], axis=0)\n",
    "    \n",
    "    # Permute the concatenated array: permuted_data\n",
    "    permuted_data = np.random.permutation(data)\n",
    "\n",
    "    #Split the permuted array into two: perm_sample_w, perm_sample_b\n",
    "    perm_sample_1 = permuted_data[:len(data1)]\n",
    "    perm_sample_2 = permuted_data[len(data1):]\n",
    "    \n",
    "    return perm_sample_1, perm_sample_2    \n",
    "    \n",
    "    \n",
    "def draw_perm_reps(data1, data2, func, size=1):\n",
    "    \n",
    "    # Initialize array of replicates: perm_replicates\n",
    "    perm_replicates = np.empty(size)\n",
    "    p_1 = np.empty(size)\n",
    "    p_2 = np.empty(size)\n",
    "    \n",
    "    for i in range(size):\n",
    "        # Generate permutation sample\n",
    "        perm_sample_1, perm_sample_2 = permutation_sample(data1, data2)\n",
    "\n",
    "        # Compute the test statistic\n",
    "        perm_replicates[i], p_1[i], p_2[i] = func(perm_sample_1, perm_sample_2)\n",
    "\n",
    "    return perm_replicates, p_1, p_2\n",
    "\n",
    "\n",
    "# Compute difference in proportions\n",
    "def diff_proportions(data1, data2):\n",
    "    \n",
    "\n",
    "    p_1 = np.sum(data1) / len(data1)\n",
    "    p_2 = np.sum(data2) / len(data2)\n",
    "    \n",
    "    diff_ratio = p_1 - p_2\n",
    "    \n",
    "    return diff_ratio, p_1, p_2\n",
    "\n",
    "# Compute observed differnce\n",
    "obs_diff, p_w_obs, p_b_obs = diff_proportions(df_w['call'], df_b['call'])\n",
    "\n",
    "# Draw 10,000 permutation replicates: perm_replicates\n",
    "perm_replicates, p_w, p_b = draw_perm_reps(df_w['call'], df_b['call'],\n",
    "                                diff_proportions, size=10000)\n",
    "              \n",
    "        \n",
    "# Compute p-value: p\n",
    "p = np.sum(perm_replicates >= obs_diff)/len(perm_replicates)\n",
    "\n",
    "print(\"p-value: {:.4f}\".format(p))"
   ]
  },
  {
   "cell_type": "markdown",
   "metadata": {},
   "source": [
    "The p-value is very small, so we reject the null hypothesis that there is no differnce in call back rates. "
   ]
  },
  {
   "cell_type": "code",
   "execution_count": 4,
   "metadata": {},
   "outputs": [
    {
     "name": "stdout",
     "output_type": "stream",
     "text": [
      "95% Confidence Interval of the difference in call back rates:  [ 0.0243  0.0396]\n",
      "Standard error of the difference in proportions is: 0.0039\n"
     ]
    }
   ],
   "source": [
    "#Compute 95% Confidence Interval of the proportion by Bootstrap\n",
    "\n",
    "def draw_bs_reps(data, func, size=1):\n",
    "    #Draw bootstrap replicates.\n",
    "\n",
    "    # Initialize array of replicates: bs_replicates\n",
    "    bs_replicates = np.empty(size)\n",
    "\n",
    "    # Generate replicates\n",
    "    for i in range(size):\n",
    "        bs_replicates[i] = func(np.random.choice(data, 10000))\n",
    "        \n",
    "\n",
    "    return bs_replicates\n",
    "\n",
    "# Define function \n",
    "def proportion(data):\n",
    "\n",
    "    p = np.sum(data) / len(data)\n",
    "    \n",
    "    return p\n",
    "\n",
    "bs_replicates_w = draw_bs_reps(df_w['call'], proportion, size=10000)\n",
    "bs_replicates_b = draw_bs_reps(df_b['call'], proportion, size=10000)\n",
    "diff_reps = bs_replicates_w - bs_replicates_b\n",
    "\n",
    "#Compute 95% Confidence Interval of the proportion\n",
    "conf_int_95_diff = np.percentile(diff_reps, [2.5, 97.5])\n",
    "\n",
    "# Compute standard error\n",
    "std_error = np.std(diff_reps)\n",
    "\n",
    "print('95% Confidence Interval of the difference in call back rates: ', conf_int_95_diff)\n",
    "print('Standard error of the difference in proportions is: {:.4f}'.format(std_error))\n"
   ]
  },
  {
   "cell_type": "code",
   "execution_count": 5,
   "metadata": {},
   "outputs": [
    {
     "name": "stdout",
     "output_type": "stream",
     "text": [
      "z value: 3.7852\n",
      "Standard error of differnce in proportions is: 0.0078\n",
      "Confidence Interval of difference in proportions is: [0.0168, 0.0473]\n"
     ]
    }
   ],
   "source": [
    "# Frequentist approach: Hypothesis test and Confidence Interval\n",
    "\n",
    "df = data[['call', 'race']]\n",
    "\n",
    "df_w = df[df['race'] == 'w']\n",
    "df_b = df[df['race'] == 'b']\n",
    "\n",
    "n_w = len(df_w['race'])\n",
    "n_b = len(df_b['race'])\n",
    "\n",
    "# Compute sample proportions: p_w, p_b\n",
    "p_w = np.sum(df_w['call'] == 1) / n_w\n",
    "p_b = np.sum(df_b['call'] == 1) / n_b\n",
    "\n",
    "# Compute pooled \"p\" under the null hypothesis that Ho: p_w = p_b\n",
    "p_bar = (n_w * p_w + n_b * p_w) / (n_w + n_b)\n",
    "\n",
    "# Compute sample standard deviation of (p_w - p_b): std_p_wb\n",
    "std_p_wb = np.sqrt(p_bar * (1-p_bar) * (1/n_w + 1/n_b))\n",
    "\n",
    "# Compute the z test statistic: z\n",
    "z = (p_w - p_b) / std_p_wb\n",
    "\n",
    "print(\"z value: {:.4f}\".format(z))\n",
    "\n",
    "# Compute 95% Confidence rates by Frequentist method\n",
    "# Compute Standard error of the difference in proportions\n",
    "std_diff_prop = np.sqrt((p_w * (1-p_w)/n_w) + (p_b * (1-p_b)/n_w))\n",
    "\n",
    "CI_low = (p_w - p_b) - 1.96 * std_diff_prop\n",
    "CI_high = (p_w - p_b) + 1.96 * std_diff_prop\n",
    "\n",
    "print(\"Standard error of differnce in proportions is: {:.4f}\" .format(std_diff_prop))\n",
    "print(\"Confidence Interval of difference in proportions is: [{:.4f}, {:.4f}]\" .format(CI_low, CI_high))"
   ]
  },
  {
   "cell_type": "markdown",
   "metadata": {},
   "source": [
    "z = 3.7852 > 2.58, we reject the null hypothesis at 1% level of significance. "
   ]
  },
  {
   "cell_type": "markdown",
   "metadata": {},
   "source": [
    "Does your analysis mean that race/name is the most important factor in callback success? Why or why not? If not, how would you amend your analysis?\n",
    "No. While our test did show that there is a statistical difference in call back rate based on race, there are other variables that may also contribute to, or interact with, race to explain the difference. Other factors, like education, age, gender could also affect the call back rate. "
   ]
  }
 ],
 "metadata": {
  "kernelspec": {
   "display_name": "Python 3",
   "language": "python",
   "name": "python3"
  },
  "language_info": {
   "codemirror_mode": {
    "name": "ipython",
    "version": 3
   },
   "file_extension": ".py",
   "mimetype": "text/x-python",
   "name": "python",
   "nbconvert_exporter": "python",
   "pygments_lexer": "ipython3",
   "version": "3.6.3"
  }
 },
 "nbformat": 4,
 "nbformat_minor": 1
}
