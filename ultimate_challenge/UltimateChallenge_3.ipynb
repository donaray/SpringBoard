{
 "cells": [
  {
   "cell_type": "code",
   "execution_count": 1,
   "metadata": {},
   "outputs": [
    {
     "name": "stderr",
     "output_type": "stream",
     "text": [
      "/anaconda3/lib/python3.6/site-packages/sklearn/cross_validation.py:41: DeprecationWarning: This module was deprecated in version 0.18 in favor of the model_selection module into which all the refactored classes and functions are moved. Also note that the interface of the new CV iterators are different from that of this module. This module will be removed in 0.20.\n",
      "  \"This module will be removed in 0.20.\", DeprecationWarning)\n",
      "/anaconda3/lib/python3.6/site-packages/sklearn/grid_search.py:42: DeprecationWarning: This module was deprecated in version 0.18 in favor of the model_selection module into which all the refactored classes and functions are moved. This module will be removed in 0.20.\n",
      "  DeprecationWarning)\n"
     ]
    }
   ],
   "source": [
    "# Imort libraries\n",
    "import pandas as pd\n",
    "import numpy as np\n",
    "import matplotlib.pyplot as plt\n",
    "import seaborn as sns\n",
    "import json\n",
    "from pandas.io.json import json_normalize\n",
    "from collections import defaultdict, Counter\n",
    "from datetime import datetime, timedelta\n",
    "\n",
    "from sklearn.cross_validation import train_test_split, ShuffleSplit\n",
    "\n",
    "from sklearn.model_selection import train_test_split\n",
    "from sklearn import preprocessing\n",
    "from sklearn import tree, linear_model, svm\n",
    "from sklearn.neighbors import KNeighborsClassifier\n",
    "from sklearn.naive_bayes import GaussianNB, MultinomialNB\n",
    "from sklearn.ensemble import RandomForestClassifier\n",
    "from sklearn.multiclass import OneVsRestClassifier\n",
    "from sklearn.linear_model import SGDClassifier\n",
    "\n",
    "from sklearn.metrics import r2_score, accuracy_score, fbeta_score, roc_auc_score\n",
    "from sklearn.model_selection import cross_val_score\n",
    "#from sklearn.ensemble import AdaBoostClassifier\n",
    "\n",
    "from sklearn.datasets import make_classification\n",
    "from sklearn.metrics import classification_report\n",
    "\n",
    "\n",
    "from sklearn.metrics import classification_report, confusion_matrix, accuracy_score\n",
    "from imblearn.over_sampling import RandomOverSampler\n",
    "\n",
    "from sklearn import grid_search\n",
    "from sklearn.metrics import fbeta_score, make_scorer\n",
    "\n"
   ]
  },
  {
   "cell_type": "code",
   "execution_count": 2,
   "metadata": {
    "collapsed": true
   },
   "outputs": [],
   "source": [
    "# load as Pandas dataframe\n",
    "\n",
    "with open('/Users/dona/Documents/DonaRay/SpringBoard/git/SpringBoard/ultimate_challenge/ultimate_data_challenge.json') as file_obj:\n",
    "   data_temp = json.load(file_obj)\n",
    "\n",
    "df_all = pd.DataFrame(data_temp)\n",
    "#df_all = df_all.drop(['avg_rating_of_driver'], axis=1)\n"
   ]
  },
  {
   "cell_type": "code",
   "execution_count": 3,
   "metadata": {},
   "outputs": [
    {
     "name": "stdout",
     "output_type": "stream",
     "text": [
      "<class 'pandas.core.frame.DataFrame'>\n",
      "RangeIndex: 50000 entries, 0 to 49999\n",
      "Data columns (total 12 columns):\n",
      "avg_dist                  50000 non-null float64\n",
      "avg_rating_by_driver      49799 non-null float64\n",
      "avg_rating_of_driver      41878 non-null float64\n",
      "avg_surge                 50000 non-null float64\n",
      "city                      50000 non-null object\n",
      "last_trip_date            50000 non-null object\n",
      "phone                     49604 non-null object\n",
      "signup_date               50000 non-null object\n",
      "surge_pct                 50000 non-null float64\n",
      "trips_in_first_30_days    50000 non-null int64\n",
      "ultimate_black_user       50000 non-null bool\n",
      "weekday_pct               50000 non-null float64\n",
      "dtypes: bool(1), float64(6), int64(1), object(4)\n",
      "memory usage: 4.2+ MB\n",
      "None\n",
      "       avg_dist  avg_rating_by_driver  avg_rating_of_driver  avg_surge  \\\n",
      "49999      3.49                   5.0                   NaN        1.0   \n",
      "\n",
      "          city last_trip_date    phone signup_date  surge_pct  \\\n",
      "49999  Astapor     2014-04-20  Android  2014-01-18        0.0   \n",
      "\n",
      "       trips_in_first_30_days  ultimate_black_user  weekday_pct  \n",
      "49999                       0                False          0.0  \n"
     ]
    }
   ],
   "source": [
    "print(df_all.info())\n",
    "print(df_all.tail(1))"
   ]
  },
  {
   "cell_type": "markdown",
   "metadata": {},
   "source": [
    "Variables avg_rating_by_driver, avg_rating_of_driver, phone have missing values. avg_rating_by_driver and phone have \n",
    "less than 500 missing values, and we can drop them from the dataset.\n",
    "avg_rating_of driver has almost 8,000 missing data values, and this could be a problem. Alternatively, we can try \n",
    "dropping the variable from the datset. Doing this actually reduced the accuracy and ROC. Imputing values is not a good \n",
    "idea, since that leads to more errors or noise in the variables. For our analysis we drop the missing rows. "
   ]
  },
  {
   "cell_type": "code",
   "execution_count": 4,
   "metadata": {},
   "outputs": [
    {
     "name": "stdout",
     "output_type": "stream",
     "text": [
      "<class 'pandas.core.frame.DataFrame'>\n",
      "Int64Index: 41445 entries, 0 to 49998\n",
      "Data columns (total 12 columns):\n",
      "avg_dist                  41445 non-null float64\n",
      "avg_rating_by_driver      41445 non-null float64\n",
      "avg_rating_of_driver      41445 non-null float64\n",
      "avg_surge                 41445 non-null float64\n",
      "city                      41445 non-null object\n",
      "last_trip_date            41445 non-null datetime64[ns]\n",
      "phone                     41445 non-null object\n",
      "signup_date               41445 non-null datetime64[ns]\n",
      "surge_pct                 41445 non-null float64\n",
      "trips_in_first_30_days    41445 non-null int64\n",
      "ultimate_black_user       41445 non-null bool\n",
      "weekday_pct               41445 non-null float64\n",
      "dtypes: bool(1), datetime64[ns](2), float64(6), int64(1), object(2)\n",
      "memory usage: 3.8+ MB\n",
      "None\n",
      "   avg_dist  avg_rating_by_driver  avg_rating_of_driver  avg_surge  \\\n",
      "0      3.67                   5.0                   4.7       1.10   \n",
      "1      8.26                   5.0                   5.0       1.00   \n",
      "2      0.77                   5.0                   4.3       1.00   \n",
      "3      2.36                   4.9                   4.6       1.14   \n",
      "4      3.13                   4.9                   4.4       1.19   \n",
      "\n",
      "             city last_trip_date    phone signup_date  surge_pct  \\\n",
      "0  King's Landing     2014-06-17   iPhone  2014-01-25       15.4   \n",
      "1         Astapor     2014-05-05  Android  2014-01-29        0.0   \n",
      "2         Astapor     2014-01-07   iPhone  2014-01-06        0.0   \n",
      "3  King's Landing     2014-06-29   iPhone  2014-01-10       20.0   \n",
      "4      Winterfell     2014-03-15  Android  2014-01-27       11.8   \n",
      "\n",
      "   trips_in_first_30_days  ultimate_black_user  weekday_pct  \n",
      "0                       4                 True         46.2  \n",
      "1                       0                False         50.0  \n",
      "2                       3                False        100.0  \n",
      "3                       9                 True         80.0  \n",
      "4                      14                False         82.4  \n"
     ]
    },
    {
     "name": "stderr",
     "output_type": "stream",
     "text": [
      "/anaconda3/lib/python3.6/site-packages/ipykernel_launcher.py:8: SettingWithCopyWarning: \n",
      "A value is trying to be set on a copy of a slice from a DataFrame.\n",
      "Try using .loc[row_indexer,col_indexer] = value instead\n",
      "\n",
      "See the caveats in the documentation: http://pandas.pydata.org/pandas-docs/stable/indexing.html#indexing-view-versus-copy\n",
      "  \n",
      "/anaconda3/lib/python3.6/site-packages/ipykernel_launcher.py:9: SettingWithCopyWarning: \n",
      "A value is trying to be set on a copy of a slice from a DataFrame.\n",
      "Try using .loc[row_indexer,col_indexer] = value instead\n",
      "\n",
      "See the caveats in the documentation: http://pandas.pydata.org/pandas-docs/stable/indexing.html#indexing-view-versus-copy\n",
      "  if __name__ == '__main__':\n"
     ]
    }
   ],
   "source": [
    "# Remove rows with missing values\n",
    "df_nonmissing = df_all.dropna()\n",
    "\n",
    "#df_nonmissing[['sign_date_obj']] = datetime.strptime(df[['signup_date']],'%d/%m/%Y') \n",
    "#df_nonmissing[['signup_date']] = df[['signup_date']].apply(lambda x: datetime.strptime(x,'%d/%m/%Y'))\n",
    "\n",
    "# Convery sign_up_date and last_trip_date to datetime objects\n",
    "df_nonmissing['signup_date'] = pd.to_datetime(df_nonmissing['signup_date'])\n",
    "df_nonmissing['last_trip_date'] = pd.to_datetime(df_nonmissing['last_trip_date'])\n",
    "\n",
    "print(df_nonmissing.info())\n",
    "print(df_nonmissing.head())\n"
   ]
  },
  {
   "cell_type": "code",
   "execution_count": 5,
   "metadata": {},
   "outputs": [
    {
     "name": "stdout",
     "output_type": "stream",
     "text": [
      "2014-01-01 00:00:00\n",
      "2014-07-01 00:00:00\n",
      "count                   41445\n",
      "unique                    182\n",
      "top       2014-06-29 00:00:00\n",
      "freq                     1924\n",
      "first     2014-01-01 00:00:00\n",
      "last      2014-07-01 00:00:00\n",
      "Name: last_trip_date, dtype: object\n",
      "   avg_dist  avg_rating_by_driver  avg_rating_of_driver  avg_surge  \\\n",
      "0      3.67                   5.0                   4.7       1.10   \n",
      "1      8.26                   5.0                   5.0       1.00   \n",
      "2      0.77                   5.0                   4.3       1.00   \n",
      "3      2.36                   4.9                   4.6       1.14   \n",
      "4      3.13                   4.9                   4.4       1.19   \n",
      "\n",
      "             city last_trip_date    phone signup_date  surge_pct  \\\n",
      "0  King's Landing     2014-06-17   iPhone  2014-01-25       15.4   \n",
      "1         Astapor     2014-05-05  Android  2014-01-29        0.0   \n",
      "2         Astapor     2014-01-07   iPhone  2014-01-06        0.0   \n",
      "3  King's Landing     2014-06-29   iPhone  2014-01-10       20.0   \n",
      "4      Winterfell     2014-03-15  Android  2014-01-27       11.8   \n",
      "\n",
      "   trips_in_first_30_days  ultimate_black_user  weekday_pct  \n",
      "0                       4                 True         46.2  \n",
      "1                       0                False         50.0  \n",
      "2                       3                False        100.0  \n",
      "3                       9                 True         80.0  \n",
      "4                      14                False         82.4  \n"
     ]
    }
   ],
   "source": [
    "print(df_nonmissing['last_trip_date'].min())\n",
    "print(df_nonmissing['last_trip_date'].max())\n",
    "print(df_nonmissing['last_trip_date'].describe())\n",
    "\n",
    "#df_nonmissing['day'] = pd.DatetimeIndex(df_nonmissing['signup_date']).day\n",
    "print(df_nonmissing.head())"
   ]
  },
  {
   "cell_type": "code",
   "execution_count": 6,
   "metadata": {
    "collapsed": true
   },
   "outputs": [],
   "source": [
    "# Define one-hot encoder function\n",
    "def one_hot(df, cols):\n",
    "    \"\"\"\n",
    "    @param df pandas DataFrame\n",
    "    @param cols a list of columns to encode \n",
    "    @return a DataFrame with one-hot encoding\n",
    "    \"\"\"\n",
    "    for each in cols:\n",
    "        dummies = pd.get_dummies(df[each], prefix=each, drop_first=False)\n",
    "        df = pd.concat([df, dummies], axis=1)\n",
    "    return df"
   ]
  },
  {
   "cell_type": "code",
   "execution_count": 7,
   "metadata": {
    "scrolled": true
   },
   "outputs": [
    {
     "name": "stderr",
     "output_type": "stream",
     "text": [
      "/anaconda3/lib/python3.6/site-packages/ipykernel_launcher.py:5: SettingWithCopyWarning: \n",
      "A value is trying to be set on a copy of a slice from a DataFrame.\n",
      "Try using .loc[row_indexer,col_indexer] = value instead\n",
      "\n",
      "See the caveats in the documentation: http://pandas.pydata.org/pandas-docs/stable/indexing.html#indexing-view-versus-copy\n",
      "  \"\"\"\n",
      "/anaconda3/lib/python3.6/site-packages/ipykernel_launcher.py:7: SettingWithCopyWarning: \n",
      "A value is trying to be set on a copy of a slice from a DataFrame.\n",
      "Try using .loc[row_indexer,col_indexer] = value instead\n",
      "\n",
      "See the caveats in the documentation: http://pandas.pydata.org/pandas-docs/stable/indexing.html#indexing-view-versus-copy\n",
      "  import sys\n",
      "/anaconda3/lib/python3.6/site-packages/ipykernel_launcher.py:10: SettingWithCopyWarning: \n",
      "A value is trying to be set on a copy of a slice from a DataFrame.\n",
      "Try using .loc[row_indexer,col_indexer] = value instead\n",
      "\n",
      "See the caveats in the documentation: http://pandas.pydata.org/pandas-docs/stable/indexing.html#indexing-view-versus-copy\n",
      "  # Remove the CWD from sys.path while we load stuff.\n"
     ]
    },
    {
     "name": "stdout",
     "output_type": "stream",
     "text": [
      "   avg_dist  avg_rating_by_driver  avg_rating_of_driver  avg_surge  \\\n",
      "0      3.67                   5.0                   4.7       1.10   \n",
      "1      8.26                   5.0                   5.0       1.00   \n",
      "2      0.77                   5.0                   4.3       1.00   \n",
      "3      2.36                   4.9                   4.6       1.14   \n",
      "4      3.13                   4.9                   4.4       1.19   \n",
      "\n",
      "             city last_trip_date    phone signup_date  surge_pct  \\\n",
      "0  King's Landing     2014-06-17   iPhone  2014-01-25       15.4   \n",
      "1         Astapor     2014-05-05  Android  2014-01-29        0.0   \n",
      "2         Astapor     2014-01-07   iPhone  2014-01-06        0.0   \n",
      "3  King's Landing     2014-06-29   iPhone  2014-01-10       20.0   \n",
      "4      Winterfell     2014-03-15  Android  2014-01-27       11.8   \n",
      "\n",
      "   trips_in_first_30_days  ultimate_black_user  weekday_pct diff_days  Target  \\\n",
      "0                       4                    1         46.2   14 days       1   \n",
      "1                       0                    0         50.0   57 days       0   \n",
      "2                       3                    0        100.0  175 days       0   \n",
      "3                       9                    1         80.0    2 days       1   \n",
      "4                      14                    0         82.4  108 days       0   \n",
      "\n",
      "   phone_Android  phone_iPhone  city_Astapor  city_King's Landing  \\\n",
      "0              0             1             0                    1   \n",
      "1              1             0             1                    0   \n",
      "2              0             1             1                    0   \n",
      "3              0             1             0                    1   \n",
      "4              1             0             0                    0   \n",
      "\n",
      "   city_Winterfell  \n",
      "0                0  \n",
      "1                0  \n",
      "2                0  \n",
      "3                0  \n",
      "4                1  \n",
      "<class 'pandas.core.frame.DataFrame'>\n",
      "Int64Index: 41445 entries, 0 to 49998\n",
      "Data columns (total 19 columns):\n",
      "avg_dist                  41445 non-null float64\n",
      "avg_rating_by_driver      41445 non-null float64\n",
      "avg_rating_of_driver      41445 non-null float64\n",
      "avg_surge                 41445 non-null float64\n",
      "city                      41445 non-null object\n",
      "last_trip_date            41445 non-null datetime64[ns]\n",
      "phone                     41445 non-null object\n",
      "signup_date               41445 non-null datetime64[ns]\n",
      "surge_pct                 41445 non-null float64\n",
      "trips_in_first_30_days    41445 non-null int64\n",
      "ultimate_black_user       41445 non-null int64\n",
      "weekday_pct               41445 non-null float64\n",
      "diff_days                 41445 non-null timedelta64[ns]\n",
      "Target                    41445 non-null int64\n",
      "phone_Android             41445 non-null uint8\n",
      "phone_iPhone              41445 non-null uint8\n",
      "city_Astapor              41445 non-null uint8\n",
      "city_King's Landing       41445 non-null uint8\n",
      "city_Winterfell           41445 non-null uint8\n",
      "dtypes: datetime64[ns](2), float64(6), int64(3), object(2), timedelta64[ns](1), uint8(5)\n",
      "memory usage: 6.2+ MB\n",
      "None\n"
     ]
    }
   ],
   "source": [
    "# Define rider retain target variable. We define the rider as retianed if she was active in the preceding 30 days.\n",
    "# We assume the last day the data was pulled was the the most recent recorded date trip for the column last_trip_date.\n",
    "# This is so because there will be atleast one recorded ride everyday. This day is 1st July, 2014.\n",
    "\n",
    "df_nonmissing['diff_days'] = (df_nonmissing['last_trip_date'].max() - df_nonmissing['last_trip_date'] )\n",
    "                                \n",
    "df_nonmissing['Target'] = (df_nonmissing['diff_days'] <= timedelta(30)).astype(int)\n",
    "\n",
    "# Converting ultimate_black_user to a column of type interger from boolean\n",
    "df_nonmissing['ultimate_black_user'] = df_nonmissing['ultimate_black_user'].astype(int)\n",
    "\n",
    "# Create dummy variables for categorical variables 'phone' and 'city' using the function one_hot\n",
    "df = one_hot(df_nonmissing, ['phone', 'city'])\n",
    "\n",
    "print(df.head())\n",
    "print(df.info())\n"
   ]
  },
  {
   "cell_type": "code",
   "execution_count": 8,
   "metadata": {
    "collapsed": true
   },
   "outputs": [],
   "source": [
    "def Print_Stats(df, num):\n",
    "    #Prints basic summary statistics of a pandas dataframe    \n",
    "\n",
    "    print(df.head(num))\n",
    "    print(df.shape)\n",
    "    print(df.info())\n",
    "    print(df.columns)\n",
    "    print(df.describe())\n",
    "    \n",
    "def Print_Frequency(df, bins = []):\n",
    "    #Prints frequency distribution\n",
    "    \n",
    "    col_list = list(df.columns.values)\n",
    "    \n",
    "    if bins == []:\n",
    "        for col in col_list:\n",
    "            print(df[col].value_counts().sort_index())\n",
    "    else:\n",
    "        for col in col_list:\n",
    "            print(pd.cut(df[col],bins).value_counts().sort_index())"
   ]
  },
  {
   "cell_type": "code",
   "execution_count": 9,
   "metadata": {},
   "outputs": [
    {
     "name": "stdout",
     "output_type": "stream",
     "text": [
      "0    25526\n",
      "1    15919\n",
      "Name: ultimate_black_user, dtype: int64\n",
      "0    24410\n",
      "1    17035\n",
      "Name: Target, dtype: int64\n",
      "0    29352\n",
      "1    12093\n",
      "Name: phone_Android, dtype: int64\n",
      "0    12093\n",
      "1    29352\n",
      "Name: phone_iPhone, dtype: int64\n",
      "0    27936\n",
      "1    13509\n",
      "Name: city_Astapor, dtype: int64\n",
      "0    22284\n",
      "1    19161\n",
      "Name: city_Winterfell, dtype: int64\n"
     ]
    }
   ],
   "source": [
    "# Frequencies of categorical variables\n",
    "\n",
    "df_freq = df[['ultimate_black_user','Target', 'phone_Android', 'phone_iPhone', 'city_Astapor', 'city_Winterfell']]\n",
    "\n",
    "Print_Frequency(df_freq)"
   ]
  },
  {
   "cell_type": "markdown",
   "metadata": {},
   "source": [
    "24,410 users out of 41445 or 58.89% of users are not retained while 17035 or 41.10% of users are retained. "
   ]
  },
  {
   "cell_type": "code",
   "execution_count": 47,
   "metadata": {},
   "outputs": [
    {
     "name": "stdout",
     "output_type": "stream",
     "text": [
      "phone     Android     iPhone\n",
      "Target                      \n",
      "0       76.813032  51.516081\n",
      "1       23.186968  48.483919\n"
     ]
    },
    {
     "data": {
      "image/png": "[encoded data removed]",
      "text/plain": [
       "<matplotlib.figure.Figure at 0x10e4adac8>"
      ]
     },
     "metadata": {},
     "output_type": "display_data"
    }
   ],
   "source": [
    "# Cross Frequencies\n",
    "\n",
    "target_phone = pd.crosstab(df.Target, df.phone).apply(lambda r: r/r.sum() * 100, axis=0)\n",
    "\n",
    "print(target_phone)\n",
    "\n",
    "sns.heatmap(target_phone, cmap='RdYlGn_r', linewidths=0.5, annot=True)\n",
    "plt.title('Cross Frequency in Percentage')\n",
    "plt.xlabel('Phone')\n",
    "plt.show()"
   ]
  },
  {
   "cell_type": "markdown",
   "metadata": {},
   "source": [
    "The above figure shows the cross frequency of the variables: target and city. The target variable takes the value 1 if the user is retained and 0 otherwise. From the figure above, we can see that amongst iPhone users 52% are not retained while 48% are. On the other hand, almost 77% of Android users are not retained, and only 23% of Android users retain. This clear differnce is most likely due to income disparity between iPhone and Android users. Higher income groups (iPhone users) are more likely to retain than lower income group (Android users). "
   ]
  },
  {
   "cell_type": "code",
   "execution_count": 48,
   "metadata": {},
   "outputs": [
    {
     "name": "stdout",
     "output_type": "stream",
     "text": [
      "city      Astapor  King's Landing  Winterfell\n",
      "Target                                       \n",
      "0       71.655933       34.632479   61.014561\n",
      "1       28.344067       65.367521   38.985439\n"
     ]
    },
    {
     "data": {
      "image/png": "[encoded data removed]",
      "text/plain": [
       "<matplotlib.figure.Figure at 0x10e1a5278>"
      ]
     },
     "metadata": {},
     "output_type": "display_data"
    }
   ],
   "source": [
    "# Cross Frequencies\n",
    "\n",
    "target_city = pd.crosstab(df.Target, df.city).apply(lambda r: r/r.sum() * 100, axis=0)\n",
    "\n",
    "print(target_city)\n",
    "\n",
    "sns.heatmap(target_city, cmap='RdYlGn_r', linewidths=0.5, annot=True)\n",
    "plt.title('Cross Frequency in Percentage')\n",
    "plt.xlabel('City')\n",
    "plt.show()\n",
    "\n"
   ]
  },
  {
   "cell_type": "markdown",
   "metadata": {},
   "source": [
    "We show a cross frequency of the variables city and target in percentages. From we the figure above, we note that that\n",
    "while 65% of customers from \"King's Landing city\" retain, only 28% and 39% from Astapor and Winterfell retain. "
   ]
  },
  {
   "cell_type": "code",
   "execution_count": 49,
   "metadata": {},
   "outputs": [
    {
     "name": "stdout",
     "output_type": "stream",
     "text": [
      "ultimate_black_user          0          1\n",
      "Target                                   \n",
      "0                    67.343101  45.354608\n",
      "1                    32.656899  54.645392\n"
     ]
    },
    {
     "data": {
      "image/png": "[encoded data removed]",
      "text/plain": [
       "<matplotlib.figure.Figure at 0x10df10588>"
      ]
     },
     "metadata": {},
     "output_type": "display_data"
    }
   ],
   "source": [
    "# Cross Frequencies\n",
    "target_ubu = pd.crosstab(df.Target, df.ultimate_black_user).apply(lambda r: r/r.sum() * 100, axis=0)\n",
    "\n",
    "print(target_ubu)\n",
    "\n",
    "n_groups = 2\n",
    "index = np.arange(n_groups)\n",
    "bar_width = 0.5\n",
    "\n",
    "sns.heatmap(target_ubu, cmap='RdYlGn_r', linewidths=0.5, annot=True)\n",
    "plt.title('Cross Frequency in Percentage')\n",
    "plt.xlabel('Ultimate Black User')\n",
    "plt.xticks(index + bar_width, ('False', 'True'))\n",
    "plt.show()\n"
   ]
  },
  {
   "cell_type": "code",
   "execution_count": 50,
   "metadata": {},
   "outputs": [
    {
     "data": {
      "text/html": [
       "<div>\n",
       "<style>\n",
       "    .dataframe thead tr:only-child th {\n",
       "        text-align: right;\n",
       "    }\n",
       "\n",
       "    .dataframe thead th {\n",
       "        text-align: left;\n",
       "    }\n",
       "\n",
       "    .dataframe tbody tr th {\n",
       "        vertical-align: top;\n",
       "    }\n",
       "</style>\n",
       "<table border=\"1\" class=\"dataframe\">\n",
       "  <thead>\n",
       "    <tr style=\"text-align: right;\">\n",
       "      <th></th>\n",
       "      <th>avg_dist</th>\n",
       "      <th>avg_rating_of_driver</th>\n",
       "      <th>avg_rating_by_driver</th>\n",
       "      <th>avg_surge</th>\n",
       "      <th>surge_pct</th>\n",
       "      <th>weekday_pct</th>\n",
       "      <th>trips_in_first_30_days</th>\n",
       "    </tr>\n",
       "  </thead>\n",
       "  <tbody>\n",
       "    <tr>\n",
       "      <th>avg_dist</th>\n",
       "      <td>1.000000</td>\n",
       "      <td>0.034877</td>\n",
       "      <td>0.083190</td>\n",
       "      <td>-0.085750</td>\n",
       "      <td>-0.110894</td>\n",
       "      <td>0.102048</td>\n",
       "      <td>-0.136471</td>\n",
       "    </tr>\n",
       "    <tr>\n",
       "      <th>avg_rating_of_driver</th>\n",
       "      <td>0.034877</td>\n",
       "      <td>1.000000</td>\n",
       "      <td>0.122413</td>\n",
       "      <td>-0.022209</td>\n",
       "      <td>-0.001696</td>\n",
       "      <td>0.012975</td>\n",
       "      <td>-0.011849</td>\n",
       "    </tr>\n",
       "    <tr>\n",
       "      <th>avg_rating_by_driver</th>\n",
       "      <td>0.083190</td>\n",
       "      <td>0.122413</td>\n",
       "      <td>1.000000</td>\n",
       "      <td>0.012418</td>\n",
       "      <td>0.019703</td>\n",
       "      <td>0.018312</td>\n",
       "      <td>-0.045788</td>\n",
       "    </tr>\n",
       "    <tr>\n",
       "      <th>avg_surge</th>\n",
       "      <td>-0.085750</td>\n",
       "      <td>-0.022209</td>\n",
       "      <td>0.012418</td>\n",
       "      <td>1.000000</td>\n",
       "      <td>0.795737</td>\n",
       "      <td>-0.118999</td>\n",
       "      <td>-0.000262</td>\n",
       "    </tr>\n",
       "    <tr>\n",
       "      <th>surge_pct</th>\n",
       "      <td>-0.110894</td>\n",
       "      <td>-0.001696</td>\n",
       "      <td>0.019703</td>\n",
       "      <td>0.795737</td>\n",
       "      <td>1.000000</td>\n",
       "      <td>-0.155179</td>\n",
       "      <td>0.005370</td>\n",
       "    </tr>\n",
       "    <tr>\n",
       "      <th>weekday_pct</th>\n",
       "      <td>0.102048</td>\n",
       "      <td>0.012975</td>\n",
       "      <td>0.018312</td>\n",
       "      <td>-0.118999</td>\n",
       "      <td>-0.155179</td>\n",
       "      <td>1.000000</td>\n",
       "      <td>0.055556</td>\n",
       "    </tr>\n",
       "    <tr>\n",
       "      <th>trips_in_first_30_days</th>\n",
       "      <td>-0.136471</td>\n",
       "      <td>-0.011849</td>\n",
       "      <td>-0.045788</td>\n",
       "      <td>-0.000262</td>\n",
       "      <td>0.005370</td>\n",
       "      <td>0.055556</td>\n",
       "      <td>1.000000</td>\n",
       "    </tr>\n",
       "  </tbody>\n",
       "</table>\n",
       "</div>"
      ],
      "text/plain": [
       "                        avg_dist  avg_rating_of_driver  avg_rating_by_driver  \\\n",
       "avg_dist                1.000000              0.034877              0.083190   \n",
       "avg_rating_of_driver    0.034877              1.000000              0.122413   \n",
       "avg_rating_by_driver    0.083190              0.122413              1.000000   \n",
       "avg_surge              -0.085750             -0.022209              0.012418   \n",
       "surge_pct              -0.110894             -0.001696              0.019703   \n",
       "weekday_pct             0.102048              0.012975              0.018312   \n",
       "trips_in_first_30_days -0.136471             -0.011849             -0.045788   \n",
       "\n",
       "                        avg_surge  surge_pct  weekday_pct  \\\n",
       "avg_dist                -0.085750  -0.110894     0.102048   \n",
       "avg_rating_of_driver    -0.022209  -0.001696     0.012975   \n",
       "avg_rating_by_driver     0.012418   0.019703     0.018312   \n",
       "avg_surge                1.000000   0.795737    -0.118999   \n",
       "surge_pct                0.795737   1.000000    -0.155179   \n",
       "weekday_pct             -0.118999  -0.155179     1.000000   \n",
       "trips_in_first_30_days  -0.000262   0.005370     0.055556   \n",
       "\n",
       "                        trips_in_first_30_days  \n",
       "avg_dist                             -0.136471  \n",
       "avg_rating_of_driver                 -0.011849  \n",
       "avg_rating_by_driver                 -0.045788  \n",
       "avg_surge                            -0.000262  \n",
       "surge_pct                             0.005370  \n",
       "weekday_pct                           0.055556  \n",
       "trips_in_first_30_days                1.000000  "
      ]
     },
     "execution_count": 50,
     "metadata": {},
     "output_type": "execute_result"
    }
   ],
   "source": [
    "# Correlation coefficient \n",
    "df_cont = df[['avg_dist', 'avg_rating_of_driver', 'avg_rating_by_driver', 'avg_surge', 'surge_pct', 'weekday_pct',\n",
    "             'trips_in_first_30_days']]\n",
    "df_cont.corr()\n"
   ]
  },
  {
   "cell_type": "markdown",
   "metadata": {},
   "source": [
    "The above table shows the correlation coefficiient of the all the continuous variables with each other. The only two variables that are highly correlated with each other is surge_pct and avg_surge with correlation coefficient around 80%. Naturally, individuals with a higher surge percentage will also have a higher average percentage. So while training the model, we will include not include either one (but not both together) of these variables in the model. We want the variables in the feature matrix to be as uncorrelated as possible with each other, but correlated with the dependent or endogenous variable. The correlation of the other varibles are insignificant or close to zero. Note that, the diagonal elements are all 1, because every varibale has a perfect correlation with itself. "
   ]
  },
  {
   "cell_type": "code",
   "execution_count": 51,
   "metadata": {},
   "outputs": [
    {
     "name": "stdout",
     "output_type": "stream",
     "text": [
      "   avg_dist  avg_rating_of_driver  avg_rating_by_driver  avg_surge  surge_pct  \\\n",
      "0      3.67                   4.7                   5.0       1.10       15.4   \n",
      "1      8.26                   5.0                   5.0       1.00        0.0   \n",
      "2      0.77                   4.3                   5.0       1.00        0.0   \n",
      "3      2.36                   4.6                   4.9       1.14       20.0   \n",
      "4      3.13                   4.4                   4.9       1.19       11.8   \n",
      "\n",
      "   weekday_pct  trips_in_first_30_days  \n",
      "0         46.2                       4  \n",
      "1         50.0                       0  \n",
      "2        100.0                       3  \n",
      "3         80.0                       9  \n",
      "4         82.4                      14  \n",
      "(41445, 7)\n",
      "<class 'pandas.core.frame.DataFrame'>\n",
      "Int64Index: 41445 entries, 0 to 49998\n",
      "Data columns (total 7 columns):\n",
      "avg_dist                  41445 non-null float64\n",
      "avg_rating_of_driver      41445 non-null float64\n",
      "avg_rating_by_driver      41445 non-null float64\n",
      "avg_surge                 41445 non-null float64\n",
      "surge_pct                 41445 non-null float64\n",
      "weekday_pct               41445 non-null float64\n",
      "trips_in_first_30_days    41445 non-null int64\n",
      "dtypes: float64(6), int64(1)\n",
      "memory usage: 3.8 MB\n",
      "None\n",
      "Index(['avg_dist', 'avg_rating_of_driver', 'avg_rating_by_driver', 'avg_surge',\n",
      "       'surge_pct', 'weekday_pct', 'trips_in_first_30_days'],\n",
      "      dtype='object')\n",
      "           avg_dist  avg_rating_of_driver  avg_rating_by_driver     avg_surge  \\\n",
      "count  41445.000000          41445.000000          41445.000000  41445.000000   \n",
      "mean       5.460046              4.601720              4.776446      1.073822   \n",
      "std        5.145174              0.616104              0.404606      0.198747   \n",
      "min        0.000000              1.000000              1.000000      1.000000   \n",
      "25%        2.420000              4.300000              4.700000      1.000000   \n",
      "50%        3.780000              4.900000              5.000000      1.000000   \n",
      "75%        6.490000              5.000000              5.000000      1.070000   \n",
      "max       79.690000              5.000000              5.000000      8.000000   \n",
      "\n",
      "          surge_pct   weekday_pct  trips_in_first_30_days  \n",
      "count  41445.000000  41445.000000            41445.000000  \n",
      "mean       8.898709     61.254897                2.609675  \n",
      "std       18.322061     34.813848                4.059336  \n",
      "min        0.000000      0.000000                0.000000  \n",
      "25%        0.000000     37.500000                0.000000  \n",
      "50%        0.000000     66.700000                1.000000  \n",
      "75%       11.100000    100.000000                3.000000  \n",
      "max      100.000000    100.000000              125.000000  \n"
     ]
    }
   ],
   "source": [
    "# Summary Statistics of continuous variables\n",
    "Print_Stats(df_cont, 5)"
   ]
  },
  {
   "cell_type": "markdown",
   "metadata": {},
   "source": [
    "From the summary statistics above, we may consider scaling the data, especially for varibles avg_dist, surge_pct,\n",
    "weekday_pct."
   ]
  },
  {
   "cell_type": "code",
   "execution_count": 17,
   "metadata": {
    "collapsed": true
   },
   "outputs": [],
   "source": [
    "# Next we look at some box plots of some of the continuous variables by the Target variable. \n",
    "# Define box plot function\n",
    "\n",
    "def drawBoxPlot(x, y, df, showfliers, title=''):\n",
    "    sns.boxplot(x=x, y=y, data=df, showfliers=showfliers).set_title(title)\n",
    "    plt.show()\n",
    "    \n",
    "    "
   ]
  },
  {
   "cell_type": "code",
   "execution_count": 49,
   "metadata": {},
   "outputs": [
    {
     "data": {
      "image/png": "[encoded data removed]",
      "text/plain": [
       "<matplotlib.figure.Figure at 0x118c14748>"
      ]
     },
     "metadata": {},
     "output_type": "display_data"
    }
   ],
   "source": [
    "# Boxplot of Average Distance\n",
    "drawBoxPlot('Target', 'avg_dist', df, showfliers=False, title='Average Distance')\n"
   ]
  },
  {
   "cell_type": "markdown",
   "metadata": {},
   "source": [
    "The above figure shows the boxplot of Average Distance by Target. 75th percentile as well as the inter-quartile of \n",
    "non-retainers is higher. This indicates, non-regular cab users usually travel longer distances as opposed to regular\n",
    "users. \n",
    "Note that the boxplot is not showing outliers"
   ]
  },
  {
   "cell_type": "code",
   "execution_count": 33,
   "metadata": {},
   "outputs": [
    {
     "data": {
      "image/png": "[encoded data removed]",
      "text/plain": [
       "<matplotlib.figure.Figure at 0x10dc966d8>"
      ]
     },
     "metadata": {},
     "output_type": "display_data"
    }
   ],
   "source": [
    "# Boxplot of Average Surge\n",
    "drawBoxPlot('Target', 'avg_surge', df, showfliers=False, title='Average Surge')\n",
    "\n"
   ]
  },
  {
   "cell_type": "markdown",
   "metadata": {},
   "source": [
    "From the boxplot above, median, third quartile, and the inter-quartile range of average surge of retainers is higher.\n",
    "Again, higher income groups are likely to continue being customers with higher surge values, and are also more likely\n",
    "to be retainers. "
   ]
  },
  {
   "cell_type": "code",
   "execution_count": 60,
   "metadata": {},
   "outputs": [
    {
     "data": {
      "image/png": "[encoded data removed]",
      "text/plain": [
       "<matplotlib.figure.Figure at 0x11865c5c0>"
      ]
     },
     "metadata": {},
     "output_type": "display_data"
    }
   ],
   "source": [
    "drawBoxPlot('Target', 'trips_in_first_30_days', df, showfliers=False, title='Trips in First 30 days')\n",
    "\n"
   ]
  },
  {
   "cell_type": "markdown",
   "metadata": {},
   "source": [
    "From the above boxplot, the median, third quartile adn the interquartile range for number of trips taken in first 30\n",
    "days is higher for individuals who eventually retain. Not surprisingly, higher frequency users in the first month of \n",
    "signup are most likely to retain. "
   ]
  },
  {
   "cell_type": "markdown",
   "metadata": {},
   "source": [
    "# Modelling"
   ]
  },
  {
   "cell_type": "code",
   "execution_count": 10,
   "metadata": {
    "collapsed": true
   },
   "outputs": [],
   "source": [
    "# Creating feature and target data set\n",
    "df = df.rename(columns={\"city_King's Landing\" : 'city_KingsLanding'})\n",
    "#df_modeling = df.drop(['city', 'phone', 'phone_iPhone', 'city_KingsLanding', 'surge_pct'])\n",
    "\n",
    "\n",
    "\n",
    "df_modeling = df[['avg_dist', 'avg_rating_by_driver', 'avg_rating_of_driver', 'surge_pct', 'trips_in_first_30_days', \n",
    "                 'weekday_pct', 'phone_Android', 'city_Astapor', 'city_Winterfell', 'ultimate_black_user', 'Target']]\n",
    "\n",
    "# Feature matrix\n",
    "feature = df_modeling.drop(['Target'], axis=1)\n",
    "\n",
    "# Target variable\n",
    "target = df_modeling['Target']"
   ]
  },
  {
   "cell_type": "code",
   "execution_count": 11,
   "metadata": {
    "collapsed": true
   },
   "outputs": [],
   "source": [
    "# Define a function to fit and print results\n",
    "\n",
    "def Model(X_train, y_train, X_test, y_test, classifier):\n",
    "    reg = classifier.fit(X_train, y_train)\n",
    "    \n",
    "    # Compute metrics\n",
    "    y_pred = reg.predict(X_test)\n",
    "    score = r2_score(y_test, y_pred)\n",
    "    score_1 = reg.score(X_test, y_test)\n",
    "    accuracy_test = accuracy_score(y_test, y_pred)\n",
    "    roc_score = roc_auc_score(y_test, y_pred)\n",
    "    accuracy_train = accuracy_score(y_train, reg.predict(X_train))\n",
    "    \n",
    "    print('Accuracy score on training data: {:.4f}'.format(accuracy_train))\n",
    "    print('Accuracy score on testing data: {:.4f}'.format(accuracy_test))\n",
    "    print('')    \n",
    "    \n",
    "    \n",
    "    print('Roc score: {:.4f}'.format(roc_score))\n",
    "    print('')\n",
    "\n",
    "    # Generate the confusion matrix and classification report\n",
    "    print('Confusion Matrix')\n",
    "    print(confusion_matrix(y_test, y_pred))\n",
    "    print('')\n",
    "    \n",
    "    print('Classification Report')\n",
    "    print(classification_report(y_test, y_pred))\n",
    "\n",
    "    return reg"
   ]
  },
  {
   "cell_type": "code",
   "execution_count": 40,
   "metadata": {
    "collapsed": true
   },
   "outputs": [],
   "source": [
    "# Scaling the data for Logistic Regression\n",
    "scaler = preprocessing.MinMaxScaler()\n",
    "scaled_df = scaler.fit_transform(feature)\n"
   ]
  },
  {
   "cell_type": "code",
   "execution_count": 12,
   "metadata": {
    "collapsed": true
   },
   "outputs": [],
   "source": [
    "# Split the data set into train and test set\n",
    "X_train, X_test, y_train, y_test = train_test_split(feature, target, test_size=0.2, random_state=99)\n"
   ]
  },
  {
   "cell_type": "code",
   "execution_count": 37,
   "metadata": {
    "collapsed": true
   },
   "outputs": [],
   "source": [
    "# Scaling data for K-NN and SVM\n",
    "X_train = preprocessing.scale(X_train_ns)\n",
    "X_test = preprocessing.scale(X_test_ns)"
   ]
  },
  {
   "cell_type": "code",
   "execution_count": 13,
   "metadata": {},
   "outputs": [
    {
     "name": "stdout",
     "output_type": "stream",
     "text": [
      "Results using Logistic Regression\n",
      "------\n",
      "Accuracy score on training data: 0.6981\n",
      "Accuracy score on testing data: 0.7053\n",
      "\n",
      "Roc score: 0.7008\n",
      "\n",
      "Confusion Matrix\n",
      "[[3551 1345]\n",
      " [1098 2295]]\n",
      "\n",
      "Classification Report\n",
      "             precision    recall  f1-score   support\n",
      "\n",
      "          0       0.76      0.73      0.74      4896\n",
      "          1       0.63      0.68      0.65      3393\n",
      "\n",
      "avg / total       0.71      0.71      0.71      8289\n",
      "\n",
      "Logistic Regression\n",
      "-----\n",
      "{'C': 1}\n"
     ]
    }
   ],
   "source": [
    "# Grid Search\n",
    "# Initialize the classifier\n",
    "clf = linear_model.LogisticRegression(random_state = 100, class_weight = 'balanced')\n",
    "\n",
    "# Define Parameter Space\n",
    "parameters = {'C': [0.01,0.1,1,10,100]}\n",
    "\n",
    "#Instantiate Grid Search Object\n",
    "grid_LR = grid_search.GridSearchCV(estimator = clf, param_grid = parameters, n_jobs=-1)\n",
    "\n",
    "\n",
    "# Fit the object to training data\n",
    "grid_LR.fit(X_train, y_train)\n",
    "\n",
    "print('Results using Logistic Regression\\n------')\n",
    "reg_LR = Model(X_train, y_train, X_test, y_test, grid_LR)\n",
    "\n",
    "# Count Vectorizer\n",
    "print('Logistic Regression\\n-----')\n",
    "print(reg_LR.best_params_)\n"
   ]
  },
  {
   "cell_type": "code",
   "execution_count": 31,
   "metadata": {
    "collapsed": true
   },
   "outputs": [],
   "source": [
    "#Cuurant pass\n",
    "#LR = linear_model.LogisticRegression(C=1, random_state = 100, class_weight = 'balanced').fit(X_train, y_train)\n",
    "\n",
    "#print(LR.coef_)"
   ]
  },
  {
   "cell_type": "code",
   "execution_count": null,
   "metadata": {
    "collapsed": true
   },
   "outputs": [],
   "source": [
    "#df_modeling = df[['avg_dist', 'avg_rating_by_driver', 'avg_rating_of_driver', 'surge_pct', 'trips_in_first_30_days', \n",
    "                 #'weekday_pct', 'phone_Android', 'city_Astapor', 'city_Winterfell', 'ultimate_black_user', 'Target']]"
   ]
  },
  {
   "cell_type": "code",
   "execution_count": 14,
   "metadata": {},
   "outputs": [
    {
     "name": "stdout",
     "output_type": "stream",
     "text": [
      "Results using Decision Tree\n",
      "------\n",
      "Accuracy score on training data: 0.7590\n",
      "Accuracy score on testing data: 0.7579\n",
      "\n",
      "Roc score: 0.7508\n",
      "\n",
      "Confusion Matrix\n",
      "[[3866 1030]\n",
      " [ 977 2416]]\n",
      "\n",
      "Classification Report\n",
      "             precision    recall  f1-score   support\n",
      "\n",
      "          0       0.80      0.79      0.79      4896\n",
      "          1       0.70      0.71      0.71      3393\n",
      "\n",
      "avg / total       0.76      0.76      0.76      8289\n",
      "\n",
      "Decision Tree\n",
      "-----\n",
      "{'max_leaf_nodes': 50, 'min_samples_leaf': 5}\n"
     ]
    }
   ],
   "source": [
    "# Split the data set into train and test set\n",
    "X_train, X_test, y_train, y_test = train_test_split(feature, target, test_size=0.2, random_state=99)\n",
    "\n",
    "# Grid Search\n",
    "# Initialize the classifier\n",
    "clf = tree.DecisionTreeClassifier(random_state = 100, class_weight = 'balanced')\n",
    "\n",
    "# Define Parameter Space\n",
    "# TODO: Create the parameters list you wish to tune\n",
    "parameters = {'min_samples_leaf': [5, 10, 15, 20, 25, 30],\n",
    "             \"max_leaf_nodes\": [2, 5, 15, 20, 25, 30, 35, 50]}\n",
    "             #\"criterion\": ['gini', 'entropy']}\n",
    "\n",
    "#Instantiate Grid Search Object\n",
    "grid_DT = grid_search.GridSearchCV(estimator = clf, param_grid = parameters, n_jobs=-1)\n",
    "\n",
    "\n",
    "# Fit the object to training data\n",
    "grid_DT.fit(X_train, y_train)\n",
    "\n",
    "print('Results using Decision Tree\\n------')\n",
    "reg_DT = Model(X_train, y_train, X_test, y_test, grid_DT)\n",
    "\n",
    "# Count Vectorizer\n",
    "print('Decision Tree\\n-----')\n",
    "print(reg_DT.best_params_)\n"
   ]
  },
  {
   "cell_type": "code",
   "execution_count": 63,
   "metadata": {},
   "outputs": [
    {
     "name": "stdout",
     "output_type": "stream",
     "text": [
      "Results using Random Forest\n",
      "------\n",
      "Accuracy score on training data: 0.7743\n",
      "Accuracy score on testing data: 0.7699\n",
      "\n",
      "Roc score: 0.7656\n",
      "\n",
      "Confusion Matrix\n",
      "[[3865 1031]\n",
      " [ 876 2517]]\n",
      "\n",
      "Classification Report\n",
      "             precision    recall  f1-score   support\n",
      "\n",
      "          0       0.82      0.79      0.80      4896\n",
      "          1       0.71      0.74      0.73      3393\n",
      "\n",
      "avg / total       0.77      0.77      0.77      8289\n",
      "\n",
      "Random Forest\n",
      "-----\n",
      "{'max_leaf_nodes': 75, 'min_samples_leaf': 10, 'n_estimators': 100}\n"
     ]
    }
   ],
   "source": [
    "# Grid Search\n",
    "# Initialize the classifier\n",
    "clf = RandomForestClassifier(random_state = 100, class_weight = 'balanced')\n",
    "\n",
    "# Define Parameter Space\n",
    "parameters = {'min_samples_leaf': [10, 20, 25, 50],\n",
    "             \"max_leaf_nodes\": [5, 25, 30, 50, 75],\n",
    "             \"n_estimators\": [10, 50, 100, 150, 200]}\n",
    "\n",
    "#Instantiate Grid Search Object\n",
    "grid_RF = grid_search.GridSearchCV(estimator = clf, param_grid = parameters, n_jobs=-1)\n",
    "\n",
    "\n",
    "# Fit the object to training data\n",
    "grid_RF.fit(X_train, y_train)\n",
    "\n",
    "print('Results using Random Forest\\n------')\n",
    "reg_RF = Model(X_train, y_train, X_test, y_test, grid_RF)\n",
    "\n",
    "# Count Vectorizer\n",
    "print('Random Forest\\n-----')\n",
    "print(reg_RF.best_params_)"
   ]
  },
  {
   "cell_type": "code",
   "execution_count": 64,
   "metadata": {
    "collapsed": true
   },
   "outputs": [],
   "source": [
    "reg_RF_final = RandomForestClassifier(n_estimators=100, random_state = 100, class_weight = 'balanced', \n",
    "                                      max_leaf_nodes=75, min_samples_leaf=10).fit(X_train, y_train)\n"
   ]
  },
  {
   "cell_type": "code",
   "execution_count": 65,
   "metadata": {},
   "outputs": [
    {
     "name": "stdout",
     "output_type": "stream",
     "text": [
      "[0.02126716 0.2414652  0.02762857 0.15853928 0.04070058 0.17352536\n",
      " 0.11316848 0.08001786 0.06059569 0.08309183]\n"
     ]
    }
   ],
   "source": [
    "#Cuurant pass\n",
    "print(reg_RF_final.feature_importances_)"
   ]
  },
  {
   "cell_type": "code",
   "execution_count": null,
   "metadata": {
    "collapsed": true
   },
   "outputs": [],
   "source": [
    "df_modeling = df[['avg_dist', 'avg_rating_by_driver', 'avg_rating_of_driver', 'surge_pct', 'trips_in_first_30_days', \n",
    "                 'weekday_pct', 'phone_Android', 'city_Astapor', 'city_Winterfell', 'ultimate_black_user', 'Target']]"
   ]
  },
  {
   "cell_type": "markdown",
   "metadata": {},
   "source": [
    "average_rating_by_driver, surge_pct, weekday_pct and phone_android are the top four predictive features. \n",
    "\n",
    "Ultimate may consider giving incentives like free rides for users receiving high ratings from drivers. These are \n",
    "probably infrequent riders giving higher than averge tips. \n",
    "Users with a high percent of trips occuring during a weekday, are most likely using it for work commute, either locals\n",
    "or out of town individuals. Ultimate would need to look deeper into why these individuals are not retaining. Its\n",
    "possible work related commute has reduced, or Ultimate should consider giving incentives like free rides, upgrade to \n",
    "black or free snacks and drinks for Gold/Platinum riders to individuals who have a higher percentage of rides on\n",
    "weekdays.\n",
    "Android users who are probably in the lower income range, are also less likely to retain. \n",
    "Users with a higher surge percentage are more likely to retain. Again, these are users whose demand to rides\n",
    "is relatively inelastic with respect to price."
   ]
  },
  {
   "cell_type": "markdown",
   "metadata": {
    "collapsed": true
   },
   "source": [
    "We would like to predict whether or not the user will be active in the 6th month, that is if the user is a retainer. \n",
    "This is a supervised binary classification model, since we have a target variable. The target variable takes the value 1 if the user is retained and 0 otherwise. To make our prediction, we train our classifier using feature matrix and target label. The feature space comprises of 10 variables (columns) and 41445 data points (rows). The dimension is small and so we can use supervised learning methodologies like Logisitic, Decision Tree and Random Forest. We \n",
    "also balance the model prior to training, so that the results will not be influenced by the dominating class. \n",
    "\n",
    "Each of these models can tend to overfit (low bias, but high variance), that is, the algoritm might try to learn patterns in the training set that do not generalize to the overall population. To overcome this problem, we split the\n",
    "data into training and a test set (80% of the data is used for training and 20% is used for testing). Testing the model on a hold out data that the model has not been trained on, ensures that the model does not get learned on occasional erroneous labels. In addition, we use k-fold cross-validation technique. The k-fold cross-validation then splits the training data into k folds, and uses (k-1) folds in each iteration for training the model. We can then evaluate the performance of the classifier by taking an average of the accuracy score of all the models of all k iterations.  \n",
    "\n",
    "In order to control for over-fitting, we incorporate a regularization paramter for the logistic regression. For the Decision Tree, there are severals ways to prune the tree. We restrict the size of the tree, by using the parameters\n",
    "minimum samples per node and maimum number of end-nodes. To find the optimal values of these hyperparameters, we \n",
    "fine-tune the model by doing an exhaustive search over a range of values for the hyperparameters using sklearn's\n",
    "GridSearch technique. "
   ]
  },
  {
   "cell_type": "markdown",
   "metadata": {
    "collapsed": true
   },
   "source": [
    "For a small data set with only 10 variables, the model is doing pretty good. The Random Forest classifier does the best with an accuracy of 0.77 and ROC of 0.77 as well. The accuracy on the training and test data is very close, indicating, the model is not over-fitting. This is a very good thing, the model is not caturing erroneous patterns in the data. \n",
    "\n",
    "On the other hand, we would like the accuracy to be above 80%. It is possible that we are missing some explanatory \n",
    "variables that might help predict rider retention. For example, people who live and work in the city and dont own a \n",
    "car, who travel out of town often for work, frequent weekend users. "
   ]
  },
  {
   "cell_type": "markdown",
   "metadata": {},
   "source": []
  }
 ],
 "metadata": {
  "kernelspec": {
   "display_name": "Python 3",
   "language": "python",
   "name": "python3"
  },
  "language_info": {
   "codemirror_mode": {
    "name": "ipython",
    "version": 3
   },
   "file_extension": ".py",
   "mimetype": "text/x-python",
   "name": "python",
   "nbconvert_exporter": "python",
   "pygments_lexer": "ipython3",
   "version": "3.6.3"
  }
 },
 "nbformat": 4,
 "nbformat_minor": 2
}
