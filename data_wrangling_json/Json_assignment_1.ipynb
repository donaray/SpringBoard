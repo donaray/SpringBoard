{
 "cells": [
  {
   "cell_type": "code",
   "execution_count": 1,
   "metadata": {},
   "outputs": [],
   "source": [
    "import pandas as pd"
   ]
  },
  {
   "cell_type": "code",
   "execution_count": 2,
   "metadata": {},
   "outputs": [],
   "source": [
    "import json\n",
    "from pandas.io.json import json_normalize\n",
    "from collections import defaultdict, Counter"
   ]
  },
  {
   "cell_type": "code",
   "execution_count": 3,
   "metadata": {},
   "outputs": [],
   "source": [
    "# load as Pandas dataframe\n",
    "sample_json_df = pd.read_json('data/world_bank_projects.json')"
   ]
  },
  {
   "cell_type": "code",
   "execution_count": 4,
   "metadata": {},
   "outputs": [
    {
     "name": "stdout",
     "output_type": "stream",
     "text": [
      "Republic of South Sudan\n"
     ]
    }
   ],
   "source": [
    "#Printing first 10 elements of column countryname\n",
    "print(sample_json_df['countryname'][10])\n"
   ]
  },
  {
   "cell_type": "code",
   "execution_count": 5,
   "metadata": {},
   "outputs": [
    {
     "name": "stdout",
     "output_type": "stream",
     "text": [
      "0    [{'code': '8', 'name': 'Human development'}, {...\n",
      "1    [{'code': '1', 'name': 'Economic management'},...\n",
      "2    [{'code': '5', 'name': 'Trade and integration'...\n",
      "3    [{'code': '7', 'name': 'Social dev/gender/incl...\n",
      "4    [{'code': '5', 'name': 'Trade and integration'...\n",
      "5    [{'code': '6', 'name': 'Social protection and ...\n",
      "6    [{'code': '2', 'name': 'Public sector governan...\n",
      "7    [{'code': '11', 'name': 'Environment and natur...\n",
      "8    [{'code': '10', 'name': 'Rural development'}, ...\n",
      "9    [{'code': '2', 'name': 'Public sector governan...\n",
      "Name: mjtheme_namecode, dtype: object\n"
     ]
    }
   ],
   "source": [
    "#Printiting first 10 elements of column mjtheme_namecode\n",
    "print(sample_json_df['mjtheme_namecode'][0:10])"
   ]
  },
  {
   "cell_type": "code",
   "execution_count": 6,
   "metadata": {},
   "outputs": [],
   "source": [
    "#Computing Frequency distribution of column 'countryname by using method value_counts on Pandas Series\n",
    "Country_freq = sample_json_df['countryname'].value_counts()\n"
   ]
  },
  {
   "cell_type": "code",
   "execution_count": 7,
   "metadata": {},
   "outputs": [],
   "source": [
    "#Converting Frequency distribution into a Counter object. We can then print the 10 countries with the most projects \n",
    "#by using the method most_commom(). This method takes an interger argument, which is 10 in this case.\n",
    "values_list = dict(Country_freq)\n",
    "values_list = Counter(values_list)"
   ]
  },
  {
   "cell_type": "code",
   "execution_count": 8,
   "metadata": {},
   "outputs": [
    {
     "name": "stdout",
     "output_type": "stream",
     "text": [
      "People's Republic of China 19\n",
      "Republic of Indonesia 19\n",
      "Socialist Republic of Vietnam 17\n",
      "Republic of India 16\n",
      "Republic of Yemen 13\n",
      "Nepal 12\n",
      "People's Republic of Bangladesh 12\n",
      "Kingdom of Morocco 12\n",
      "Africa 11\n",
      "Republic of Mozambique 11\n"
     ]
    }
   ],
   "source": [
    "#Printing the 10 countries with the most projects by using method most_common and looping through the Counter object.\n",
    "for k, v in values_list.most_common(10):\n",
    "    print(k, v)"
   ]
  },
  {
   "cell_type": "code",
   "execution_count": 9,
   "metadata": {},
   "outputs": [],
   "source": [
    "count_dict = defaultdict(int)  # Define a default dictionary that takes an interger argument\n",
    "name_dict = defaultdict(str)   # Define a default dictionary that takes a string argument\n",
    "\n",
    "#Iterate through the rows of mjtheme_namecode column to find the top 10 major project themes by code.\n",
    "#In addition, create a new dictionary with code as keys and name of the project as a string value. \n",
    "\n",
    "for index, row in sample_json_df.iterrows():  #for l in l_test:\n",
    "    for j in row['mjtheme_namecode']:   #for j in l:\n",
    "        for key, value in j.items():\n",
    "            if key == 'code':\n",
    "                count_dict[j[key]] += 1  \n",
    "                #print(j[key])\n",
    "                #print(my_dict[j[key]])\n",
    "            elif key == 'name':\n",
    "                if (j['name'] != ''):\n",
    "                    name_dict[j['code']] = j['name']\n",
    "                                "
   ]
  },
  {
   "cell_type": "code",
   "execution_count": 10,
   "metadata": {},
   "outputs": [
    {
     "name": "stdout",
     "output_type": "stream",
     "text": [
      "Environment and natural resources management 250\n",
      "Rural development 216\n",
      "Human development 210\n",
      "Public sector governance 199\n",
      "Social protection and risk management 168\n",
      "Financial and private sector development 146\n",
      "Social dev/gender/inclusion 130\n",
      "Trade and integration 77\n",
      "Urban development 50\n",
      "Economic management 38\n"
     ]
    }
   ],
   "source": [
    "new_dict = defaultdict(int) # Define a default dictionary that takes an integer as argument\n",
    "\n",
    "#Loop through count_dict and name_dict to create a new dictionary with project name and corresponding count.\n",
    "\n",
    "for k1, v1 in count_dict.items():\n",
    "    for k2, v2 in name_dict.items():\n",
    "        if k1 == k2:\n",
    "            new_dict[name_dict[k2]] = count_dict[k1]\n",
    "\n",
    "#Change new_dict to a Counter object to use the most_common method to print the top 10 major project themes            \n",
    "new_dict = Counter(new_dict)            \n",
    "            \n",
    "for k, v in new_dict.most_common(10):\n",
    "    print(k, v)\n",
    " "
   ]
  },
  {
   "cell_type": "code",
   "execution_count": 11,
   "metadata": {},
   "outputs": [],
   "source": [
    "#Iterate through the rows of column 'mjtheme_namecode' to fill missing values for the name from the dictionary\n",
    "#name_dict created above\n",
    "\n",
    "for index, row in sample_json_df.iterrows():\n",
    "    for j in row['mjtheme_namecode']:\n",
    "        for key, value in j.items():\n",
    "            if key == 'code':\n",
    "                code = j[key]\n",
    "            elif key == 'name':\n",
    "                if (j['name'] == ''):\n",
    "                    j['name'] = name_dict[code]  \n",
    "                        "
   ]
  },
  {
   "cell_type": "code",
   "execution_count": 13,
   "metadata": {},
   "outputs": [
    {
     "name": "stdout",
     "output_type": "stream",
     "text": [
      "0      [{'code': '8', 'name': 'Human development'}, {...\n",
      "1      [{'code': '1', 'name': 'Economic management'},...\n",
      "2      [{'code': '5', 'name': 'Trade and integration'...\n",
      "3      [{'code': '7', 'name': 'Social dev/gender/incl...\n",
      "4      [{'code': '5', 'name': 'Trade and integration'...\n",
      "5      [{'code': '6', 'name': 'Social protection and ...\n",
      "6      [{'code': '2', 'name': 'Public sector governan...\n",
      "7      [{'code': '11', 'name': 'Environment and natur...\n",
      "8      [{'code': '10', 'name': 'Rural development'}, ...\n",
      "9      [{'code': '2', 'name': 'Public sector governan...\n",
      "10     [{'code': '10', 'name': 'Rural development'}, ...\n",
      "11     [{'code': '10', 'name': 'Rural development'}, ...\n",
      "12     [{'code': '4', 'name': 'Financial and private ...\n",
      "13     [{'code': '5', 'name': 'Trade and integration'...\n",
      "14     [{'code': '6', 'name': 'Social protection and ...\n",
      "15     [{'code': '10', 'name': 'Rural development'}, ...\n",
      "16     [{'code': '10', 'name': 'Rural development'}, ...\n",
      "17     [{'code': '8', 'name': 'Human development'}, {...\n",
      "18     [{'code': '8', 'name': 'Human development'}, {...\n",
      "19     [{'code': '2', 'name': 'Public sector governan...\n",
      "20     [{'code': '7', 'name': 'Social dev/gender/incl...\n",
      "21     [{'code': '9', 'name': 'Urban development'}, {...\n",
      "22     [{'code': '7', 'name': 'Social dev/gender/incl...\n",
      "23     [{'code': '8', 'name': 'Human development'}, {...\n",
      "24     [{'code': '10', 'name': 'Rural development'}, ...\n",
      "25     [{'code': '11', 'name': 'Environment and natur...\n",
      "26     [{'code': '4', 'name': 'Financial and private ...\n",
      "27     [{'code': '11', 'name': 'Environment and natur...\n",
      "28     [{'code': '10', 'name': 'Rural development'}, ...\n",
      "29     [{'code': '7', 'name': 'Social dev/gender/incl...\n",
      "                             ...                        \n",
      "470    [{'code': '5', 'name': 'Trade and integration'...\n",
      "471    [{'code': '10', 'name': 'Rural development'}, ...\n",
      "472    [{'code': '11', 'name': 'Environment and natur...\n",
      "473    [{'code': '11', 'name': 'Environment and natur...\n",
      "474    [{'code': '9', 'name': 'Urban development'}, {...\n",
      "475    [{'code': '4', 'name': 'Financial and private ...\n",
      "476    [{'code': '10', 'name': 'Rural development'}, ...\n",
      "477    [{'code': '4', 'name': 'Financial and private ...\n",
      "478    [{'code': '2', 'name': 'Public sector governan...\n",
      "479    [{'code': '7', 'name': 'Social dev/gender/incl...\n",
      "480    [{'code': '2', 'name': 'Public sector governan...\n",
      "481    [{'code': '8', 'name': 'Human development'}, {...\n",
      "482    [{'code': '10', 'name': 'Rural development'}, ...\n",
      "483    [{'code': '11', 'name': 'Environment and natur...\n",
      "484    [{'code': '10', 'name': 'Rural development'}, ...\n",
      "485    [{'code': '8', 'name': 'Human development'}, {...\n",
      "486    [{'code': '2', 'name': 'Public sector governan...\n",
      "487    [{'code': '11', 'name': 'Environment and natur...\n",
      "488    [{'code': '8', 'name': 'Human development'}, {...\n",
      "489    [{'code': '9', 'name': 'Urban development'}, {...\n",
      "490    [{'code': '2', 'name': 'Public sector governan...\n",
      "491    [{'code': '10', 'name': 'Rural development'}, ...\n",
      "492    [{'code': '8', 'name': 'Human development'}, {...\n",
      "493    [{'code': '11', 'name': 'Environment and natur...\n",
      "494    [{'code': '6', 'name': 'Social protection and ...\n",
      "495    [{'code': '4', 'name': 'Financial and private ...\n",
      "496    [{'code': '8', 'name': 'Human development'}, {...\n",
      "497    [{'code': '10', 'name': 'Rural development'}, ...\n",
      "498    [{'code': '10', 'name': 'Rural development'}, ...\n",
      "499    [{'code': '9', 'name': 'Urban development'}, {...\n",
      "Name: mjtheme_namecode, Length: 500, dtype: object\n"
     ]
    }
   ],
   "source": [
    "#Print the 'mjtheme_namecode' column. Note there are no missing values.\n",
    "print(sample_json_df['mjtheme_namecode'][0:500])\n"
   ]
  },
  {
   "cell_type": "code",
   "execution_count": null,
   "metadata": {
    "collapsed": true
   },
   "outputs": [],
   "source": []
  }
 ],
 "metadata": {
  "kernelspec": {
   "display_name": "Python 3",
   "language": "python",
   "name": "python3"
  },
  "language_info": {
   "codemirror_mode": {
    "name": "ipython",
    "version": 3
   },
   "file_extension": ".py",
   "mimetype": "text/x-python",
   "name": "python",
   "nbconvert_exporter": "python",
   "pygments_lexer": "ipython3",
   "version": "3.6.3"
  }
 },
 "nbformat": 4,
 "nbformat_minor": 2
}
